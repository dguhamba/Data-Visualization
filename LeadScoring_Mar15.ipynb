{
  "nbformat": 4,
  "nbformat_minor": 0,
  "metadata": {
    "colab": {
      "name": "Pyth_Prog1_JAN6.ipynb",
      "provenance": [],
      "collapsed_sections": [],
      "authorship_tag": "ABX9TyNjJVgTq0LN2CwyHilIlNoK",
      "include_colab_link": true
    },
    "kernelspec": {
      "name": "python3",
      "display_name": "Python 3"
    },
    "language_info": {
      "name": "python"
    }
  },
  "cells": [
    {
      "cell_type": "markdown",
      "metadata": {
        "id": "view-in-github",
        "colab_type": "text"
      },
      "source": [
        "<a href=\"https://colab.research.google.com/github/dguhamba/Data-Visualization/blob/main/LeadScoring_Mar15.ipynb\" target=\"_parent\"><img src=\"https://colab.research.google.com/assets/colab-badge.svg\" alt=\"Open In Colab\"/></a>"
      ]
    },
    {
      "cell_type": "code",
      "execution_count": null,
      "metadata": {
        "id": "N-qOzrtuDvQk"
      },
      "outputs": [],
      "source": [
        "# Lead scoring assignment"
      ]
    },
    {
      "cell_type": "code",
      "source": [
        "# Importing libraries\n",
        "import numpy as np, pandas as pd\n",
        "import matplotlib.pyplot as plt\n",
        "import seaborn as sns"
      ],
      "metadata": {
        "id": "Uy3V3w7DmTmQ"
      },
      "execution_count": 3,
      "outputs": []
    },
    {
      "cell_type": "code",
      "source": [
        "# Mounting on google colab\n",
        "from google.colab import drive\n",
        "drive.mount('/content/drive')\n",
        "\n",
        "import os\n",
        "os.chdir(\"/content/drive/My Drive/Colab Notebooks\")\n",
        "print(os.getcwd())"
      ],
      "metadata": {
        "colab": {
          "base_uri": "https://localhost:8080/"
        },
        "id": "9pUdy2PimTtQ",
        "outputId": "4a02c25b-f78f-41bf-a21a-52d1ec89d6e5"
      },
      "execution_count": 2,
      "outputs": [
        {
          "output_type": "stream",
          "name": "stdout",
          "text": [
            "Mounted at /content/drive\n",
            "/content/drive/My Drive/Colab Notebooks\n"
          ]
        }
      ]
    },
    {
      "cell_type": "code",
      "source": [
        "# Reading in data\n",
        "leads = pd.read_csv(\"Leads.csv\")\n",
        "leads.head()"
      ],
      "metadata": {
        "colab": {
          "base_uri": "https://localhost:8080/",
          "height": 629
        },
        "id": "0LFgn6wVmTxa",
        "outputId": "995f3ba2-da7f-46a7-e475-20d7cf09c5a3"
      },
      "execution_count": 4,
      "outputs": [
        {
          "output_type": "execute_result",
          "data": {
            "text/plain": [
              "                            Prospect ID  Lead Number              Lead Origin  \\\n",
              "0  7927b2df-8bba-4d29-b9a2-b6e0beafe620       660737                      API   \n",
              "1  2a272436-5132-4136-86fa-dcc88c88f482       660728                      API   \n",
              "2  8cc8c611-a219-4f35-ad23-fdfd2656bd8a       660727  Landing Page Submission   \n",
              "3  0cc2df48-7cf4-4e39-9de9-19797f9b38cc       660719  Landing Page Submission   \n",
              "4  3256f628-e534-4826-9d63-4a8b88782852       660681  Landing Page Submission   \n",
              "\n",
              "      Lead Source Do Not Email Do Not Call  Converted  TotalVisits  \\\n",
              "0      Olark Chat           No          No          0          0.0   \n",
              "1  Organic Search           No          No          0          5.0   \n",
              "2  Direct Traffic           No          No          1          2.0   \n",
              "3  Direct Traffic           No          No          0          1.0   \n",
              "4          Google           No          No          1          2.0   \n",
              "\n",
              "   Total Time Spent on Website  Page Views Per Visit  ...  \\\n",
              "0                            0                   0.0  ...   \n",
              "1                          674                   2.5  ...   \n",
              "2                         1532                   2.0  ...   \n",
              "3                          305                   1.0  ...   \n",
              "4                         1428                   1.0  ...   \n",
              "\n",
              "  Get updates on DM Content    Lead Profile    City  \\\n",
              "0                        No          Select  Select   \n",
              "1                        No          Select  Select   \n",
              "2                        No  Potential Lead  Mumbai   \n",
              "3                        No          Select  Mumbai   \n",
              "4                        No          Select  Mumbai   \n",
              "\n",
              "  Asymmetrique Activity Index Asymmetrique Profile Index  \\\n",
              "0                   02.Medium                  02.Medium   \n",
              "1                   02.Medium                  02.Medium   \n",
              "2                   02.Medium                    01.High   \n",
              "3                   02.Medium                    01.High   \n",
              "4                   02.Medium                    01.High   \n",
              "\n",
              "  Asymmetrique Activity Score Asymmetrique Profile Score  \\\n",
              "0                        15.0                       15.0   \n",
              "1                        15.0                       15.0   \n",
              "2                        14.0                       20.0   \n",
              "3                        13.0                       17.0   \n",
              "4                        15.0                       18.0   \n",
              "\n",
              "  I agree to pay the amount through cheque  \\\n",
              "0                                       No   \n",
              "1                                       No   \n",
              "2                                       No   \n",
              "3                                       No   \n",
              "4                                       No   \n",
              "\n",
              "  A free copy of Mastering The Interview Last Notable Activity  \n",
              "0                                     No              Modified  \n",
              "1                                     No          Email Opened  \n",
              "2                                    Yes          Email Opened  \n",
              "3                                     No              Modified  \n",
              "4                                     No              Modified  \n",
              "\n",
              "[5 rows x 37 columns]"
            ],
            "text/html": [
              "\n",
              "  <div id=\"df-1a30f094-caed-485e-8526-cb23af52f6ab\">\n",
              "    <div class=\"colab-df-container\">\n",
              "      <div>\n",
              "<style scoped>\n",
              "    .dataframe tbody tr th:only-of-type {\n",
              "        vertical-align: middle;\n",
              "    }\n",
              "\n",
              "    .dataframe tbody tr th {\n",
              "        vertical-align: top;\n",
              "    }\n",
              "\n",
              "    .dataframe thead th {\n",
              "        text-align: right;\n",
              "    }\n",
              "</style>\n",
              "<table border=\"1\" class=\"dataframe\">\n",
              "  <thead>\n",
              "    <tr style=\"text-align: right;\">\n",
              "      <th></th>\n",
              "      <th>Prospect ID</th>\n",
              "      <th>Lead Number</th>\n",
              "      <th>Lead Origin</th>\n",
              "      <th>Lead Source</th>\n",
              "      <th>Do Not Email</th>\n",
              "      <th>Do Not Call</th>\n",
              "      <th>Converted</th>\n",
              "      <th>TotalVisits</th>\n",
              "      <th>Total Time Spent on Website</th>\n",
              "      <th>Page Views Per Visit</th>\n",
              "      <th>...</th>\n",
              "      <th>Get updates on DM Content</th>\n",
              "      <th>Lead Profile</th>\n",
              "      <th>City</th>\n",
              "      <th>Asymmetrique Activity Index</th>\n",
              "      <th>Asymmetrique Profile Index</th>\n",
              "      <th>Asymmetrique Activity Score</th>\n",
              "      <th>Asymmetrique Profile Score</th>\n",
              "      <th>I agree to pay the amount through cheque</th>\n",
              "      <th>A free copy of Mastering The Interview</th>\n",
              "      <th>Last Notable Activity</th>\n",
              "    </tr>\n",
              "  </thead>\n",
              "  <tbody>\n",
              "    <tr>\n",
              "      <th>0</th>\n",
              "      <td>7927b2df-8bba-4d29-b9a2-b6e0beafe620</td>\n",
              "      <td>660737</td>\n",
              "      <td>API</td>\n",
              "      <td>Olark Chat</td>\n",
              "      <td>No</td>\n",
              "      <td>No</td>\n",
              "      <td>0</td>\n",
              "      <td>0.0</td>\n",
              "      <td>0</td>\n",
              "      <td>0.0</td>\n",
              "      <td>...</td>\n",
              "      <td>No</td>\n",
              "      <td>Select</td>\n",
              "      <td>Select</td>\n",
              "      <td>02.Medium</td>\n",
              "      <td>02.Medium</td>\n",
              "      <td>15.0</td>\n",
              "      <td>15.0</td>\n",
              "      <td>No</td>\n",
              "      <td>No</td>\n",
              "      <td>Modified</td>\n",
              "    </tr>\n",
              "    <tr>\n",
              "      <th>1</th>\n",
              "      <td>2a272436-5132-4136-86fa-dcc88c88f482</td>\n",
              "      <td>660728</td>\n",
              "      <td>API</td>\n",
              "      <td>Organic Search</td>\n",
              "      <td>No</td>\n",
              "      <td>No</td>\n",
              "      <td>0</td>\n",
              "      <td>5.0</td>\n",
              "      <td>674</td>\n",
              "      <td>2.5</td>\n",
              "      <td>...</td>\n",
              "      <td>No</td>\n",
              "      <td>Select</td>\n",
              "      <td>Select</td>\n",
              "      <td>02.Medium</td>\n",
              "      <td>02.Medium</td>\n",
              "      <td>15.0</td>\n",
              "      <td>15.0</td>\n",
              "      <td>No</td>\n",
              "      <td>No</td>\n",
              "      <td>Email Opened</td>\n",
              "    </tr>\n",
              "    <tr>\n",
              "      <th>2</th>\n",
              "      <td>8cc8c611-a219-4f35-ad23-fdfd2656bd8a</td>\n",
              "      <td>660727</td>\n",
              "      <td>Landing Page Submission</td>\n",
              "      <td>Direct Traffic</td>\n",
              "      <td>No</td>\n",
              "      <td>No</td>\n",
              "      <td>1</td>\n",
              "      <td>2.0</td>\n",
              "      <td>1532</td>\n",
              "      <td>2.0</td>\n",
              "      <td>...</td>\n",
              "      <td>No</td>\n",
              "      <td>Potential Lead</td>\n",
              "      <td>Mumbai</td>\n",
              "      <td>02.Medium</td>\n",
              "      <td>01.High</td>\n",
              "      <td>14.0</td>\n",
              "      <td>20.0</td>\n",
              "      <td>No</td>\n",
              "      <td>Yes</td>\n",
              "      <td>Email Opened</td>\n",
              "    </tr>\n",
              "    <tr>\n",
              "      <th>3</th>\n",
              "      <td>0cc2df48-7cf4-4e39-9de9-19797f9b38cc</td>\n",
              "      <td>660719</td>\n",
              "      <td>Landing Page Submission</td>\n",
              "      <td>Direct Traffic</td>\n",
              "      <td>No</td>\n",
              "      <td>No</td>\n",
              "      <td>0</td>\n",
              "      <td>1.0</td>\n",
              "      <td>305</td>\n",
              "      <td>1.0</td>\n",
              "      <td>...</td>\n",
              "      <td>No</td>\n",
              "      <td>Select</td>\n",
              "      <td>Mumbai</td>\n",
              "      <td>02.Medium</td>\n",
              "      <td>01.High</td>\n",
              "      <td>13.0</td>\n",
              "      <td>17.0</td>\n",
              "      <td>No</td>\n",
              "      <td>No</td>\n",
              "      <td>Modified</td>\n",
              "    </tr>\n",
              "    <tr>\n",
              "      <th>4</th>\n",
              "      <td>3256f628-e534-4826-9d63-4a8b88782852</td>\n",
              "      <td>660681</td>\n",
              "      <td>Landing Page Submission</td>\n",
              "      <td>Google</td>\n",
              "      <td>No</td>\n",
              "      <td>No</td>\n",
              "      <td>1</td>\n",
              "      <td>2.0</td>\n",
              "      <td>1428</td>\n",
              "      <td>1.0</td>\n",
              "      <td>...</td>\n",
              "      <td>No</td>\n",
              "      <td>Select</td>\n",
              "      <td>Mumbai</td>\n",
              "      <td>02.Medium</td>\n",
              "      <td>01.High</td>\n",
              "      <td>15.0</td>\n",
              "      <td>18.0</td>\n",
              "      <td>No</td>\n",
              "      <td>No</td>\n",
              "      <td>Modified</td>\n",
              "    </tr>\n",
              "  </tbody>\n",
              "</table>\n",
              "<p>5 rows × 37 columns</p>\n",
              "</div>\n",
              "      <button class=\"colab-df-convert\" onclick=\"convertToInteractive('df-1a30f094-caed-485e-8526-cb23af52f6ab')\"\n",
              "              title=\"Convert this dataframe to an interactive table.\"\n",
              "              style=\"display:none;\">\n",
              "        \n",
              "  <svg xmlns=\"http://www.w3.org/2000/svg\" height=\"24px\"viewBox=\"0 0 24 24\"\n",
              "       width=\"24px\">\n",
              "    <path d=\"M0 0h24v24H0V0z\" fill=\"none\"/>\n",
              "    <path d=\"M18.56 5.44l.94 2.06.94-2.06 2.06-.94-2.06-.94-.94-2.06-.94 2.06-2.06.94zm-11 1L8.5 8.5l.94-2.06 2.06-.94-2.06-.94L8.5 2.5l-.94 2.06-2.06.94zm10 10l.94 2.06.94-2.06 2.06-.94-2.06-.94-.94-2.06-.94 2.06-2.06.94z\"/><path d=\"M17.41 7.96l-1.37-1.37c-.4-.4-.92-.59-1.43-.59-.52 0-1.04.2-1.43.59L10.3 9.45l-7.72 7.72c-.78.78-.78 2.05 0 2.83L4 21.41c.39.39.9.59 1.41.59.51 0 1.02-.2 1.41-.59l7.78-7.78 2.81-2.81c.8-.78.8-2.07 0-2.86zM5.41 20L4 18.59l7.72-7.72 1.47 1.35L5.41 20z\"/>\n",
              "  </svg>\n",
              "      </button>\n",
              "      \n",
              "  <style>\n",
              "    .colab-df-container {\n",
              "      display:flex;\n",
              "      flex-wrap:wrap;\n",
              "      gap: 12px;\n",
              "    }\n",
              "\n",
              "    .colab-df-convert {\n",
              "      background-color: #E8F0FE;\n",
              "      border: none;\n",
              "      border-radius: 50%;\n",
              "      cursor: pointer;\n",
              "      display: none;\n",
              "      fill: #1967D2;\n",
              "      height: 32px;\n",
              "      padding: 0 0 0 0;\n",
              "      width: 32px;\n",
              "    }\n",
              "\n",
              "    .colab-df-convert:hover {\n",
              "      background-color: #E2EBFA;\n",
              "      box-shadow: 0px 1px 2px rgba(60, 64, 67, 0.3), 0px 1px 3px 1px rgba(60, 64, 67, 0.15);\n",
              "      fill: #174EA6;\n",
              "    }\n",
              "\n",
              "    [theme=dark] .colab-df-convert {\n",
              "      background-color: #3B4455;\n",
              "      fill: #D2E3FC;\n",
              "    }\n",
              "\n",
              "    [theme=dark] .colab-df-convert:hover {\n",
              "      background-color: #434B5C;\n",
              "      box-shadow: 0px 1px 3px 1px rgba(0, 0, 0, 0.15);\n",
              "      filter: drop-shadow(0px 1px 2px rgba(0, 0, 0, 0.3));\n",
              "      fill: #FFFFFF;\n",
              "    }\n",
              "  </style>\n",
              "\n",
              "      <script>\n",
              "        const buttonEl =\n",
              "          document.querySelector('#df-1a30f094-caed-485e-8526-cb23af52f6ab button.colab-df-convert');\n",
              "        buttonEl.style.display =\n",
              "          google.colab.kernel.accessAllowed ? 'block' : 'none';\n",
              "\n",
              "        async function convertToInteractive(key) {\n",
              "          const element = document.querySelector('#df-1a30f094-caed-485e-8526-cb23af52f6ab');\n",
              "          const dataTable =\n",
              "            await google.colab.kernel.invokeFunction('convertToInteractive',\n",
              "                                                     [key], {});\n",
              "          if (!dataTable) return;\n",
              "\n",
              "          const docLinkHtml = 'Like what you see? Visit the ' +\n",
              "            '<a target=\"_blank\" href=https://colab.research.google.com/notebooks/data_table.ipynb>data table notebook</a>'\n",
              "            + ' to learn more about interactive tables.';\n",
              "          element.innerHTML = '';\n",
              "          dataTable['output_type'] = 'display_data';\n",
              "          await google.colab.output.renderOutput(dataTable, element);\n",
              "          const docLink = document.createElement('div');\n",
              "          docLink.innerHTML = docLinkHtml;\n",
              "          element.appendChild(docLink);\n",
              "        }\n",
              "      </script>\n",
              "    </div>\n",
              "  </div>\n",
              "  "
            ]
          },
          "metadata": {},
          "execution_count": 4
        }
      ]
    },
    {
      "cell_type": "code",
      "source": [
        "# Shape of data:\n",
        "leads.shape"
      ],
      "metadata": {
        "colab": {
          "base_uri": "https://localhost:8080/"
        },
        "id": "lKnR_R1YmT5v",
        "outputId": "47d14f34-d284-4834-cd1a-577e2c958c41"
      },
      "execution_count": 5,
      "outputs": [
        {
          "output_type": "execute_result",
          "data": {
            "text/plain": [
              "(9240, 37)"
            ]
          },
          "metadata": {},
          "execution_count": 5
        }
      ]
    },
    {
      "cell_type": "code",
      "source": [
        "# Checking for missing data\n",
        "leads.info()"
      ],
      "metadata": {
        "colab": {
          "base_uri": "https://localhost:8080/"
        },
        "id": "WtPejqkemT9t",
        "outputId": "20180893-8d30-4e76-9227-022d4e865b6e"
      },
      "execution_count": 6,
      "outputs": [
        {
          "output_type": "stream",
          "name": "stdout",
          "text": [
            "<class 'pandas.core.frame.DataFrame'>\n",
            "RangeIndex: 9240 entries, 0 to 9239\n",
            "Data columns (total 37 columns):\n",
            " #   Column                                         Non-Null Count  Dtype  \n",
            "---  ------                                         --------------  -----  \n",
            " 0   Prospect ID                                    9240 non-null   object \n",
            " 1   Lead Number                                    9240 non-null   int64  \n",
            " 2   Lead Origin                                    9240 non-null   object \n",
            " 3   Lead Source                                    9204 non-null   object \n",
            " 4   Do Not Email                                   9240 non-null   object \n",
            " 5   Do Not Call                                    9240 non-null   object \n",
            " 6   Converted                                      9240 non-null   int64  \n",
            " 7   TotalVisits                                    9103 non-null   float64\n",
            " 8   Total Time Spent on Website                    9240 non-null   int64  \n",
            " 9   Page Views Per Visit                           9103 non-null   float64\n",
            " 10  Last Activity                                  9137 non-null   object \n",
            " 11  Country                                        6779 non-null   object \n",
            " 12  Specialization                                 7802 non-null   object \n",
            " 13  How did you hear about X Education             7033 non-null   object \n",
            " 14  What is your current occupation                6550 non-null   object \n",
            " 15  What matters most to you in choosing a course  6531 non-null   object \n",
            " 16  Search                                         9240 non-null   object \n",
            " 17  Magazine                                       9240 non-null   object \n",
            " 18  Newspaper Article                              9240 non-null   object \n",
            " 19  X Education Forums                             9240 non-null   object \n",
            " 20  Newspaper                                      9240 non-null   object \n",
            " 21  Digital Advertisement                          9240 non-null   object \n",
            " 22  Through Recommendations                        9240 non-null   object \n",
            " 23  Receive More Updates About Our Courses         9240 non-null   object \n",
            " 24  Tags                                           5887 non-null   object \n",
            " 25  Lead Quality                                   4473 non-null   object \n",
            " 26  Update me on Supply Chain Content              9240 non-null   object \n",
            " 27  Get updates on DM Content                      9240 non-null   object \n",
            " 28  Lead Profile                                   6531 non-null   object \n",
            " 29  City                                           7820 non-null   object \n",
            " 30  Asymmetrique Activity Index                    5022 non-null   object \n",
            " 31  Asymmetrique Profile Index                     5022 non-null   object \n",
            " 32  Asymmetrique Activity Score                    5022 non-null   float64\n",
            " 33  Asymmetrique Profile Score                     5022 non-null   float64\n",
            " 34  I agree to pay the amount through cheque       9240 non-null   object \n",
            " 35  A free copy of Mastering The Interview         9240 non-null   object \n",
            " 36  Last Notable Activity                          9240 non-null   object \n",
            "dtypes: float64(4), int64(3), object(30)\n",
            "memory usage: 2.6+ MB\n"
          ]
        }
      ]
    },
    {
      "cell_type": "code",
      "source": [
        "100*leads.isnull().sum()/leads.shape[0]"
      ],
      "metadata": {
        "colab": {
          "base_uri": "https://localhost:8080/"
        },
        "id": "5helowTmpRYR",
        "outputId": "bf55d831-41e1-463a-9d9f-2236b94173fd"
      },
      "execution_count": 7,
      "outputs": [
        {
          "output_type": "execute_result",
          "data": {
            "text/plain": [
              "Prospect ID                                       0.000000\n",
              "Lead Number                                       0.000000\n",
              "Lead Origin                                       0.000000\n",
              "Lead Source                                       0.389610\n",
              "Do Not Email                                      0.000000\n",
              "Do Not Call                                       0.000000\n",
              "Converted                                         0.000000\n",
              "TotalVisits                                       1.482684\n",
              "Total Time Spent on Website                       0.000000\n",
              "Page Views Per Visit                              1.482684\n",
              "Last Activity                                     1.114719\n",
              "Country                                          26.634199\n",
              "Specialization                                   15.562771\n",
              "How did you hear about X Education               23.885281\n",
              "What is your current occupation                  29.112554\n",
              "What matters most to you in choosing a course    29.318182\n",
              "Search                                            0.000000\n",
              "Magazine                                          0.000000\n",
              "Newspaper Article                                 0.000000\n",
              "X Education Forums                                0.000000\n",
              "Newspaper                                         0.000000\n",
              "Digital Advertisement                             0.000000\n",
              "Through Recommendations                           0.000000\n",
              "Receive More Updates About Our Courses            0.000000\n",
              "Tags                                             36.287879\n",
              "Lead Quality                                     51.590909\n",
              "Update me on Supply Chain Content                 0.000000\n",
              "Get updates on DM Content                         0.000000\n",
              "Lead Profile                                     29.318182\n",
              "City                                             15.367965\n",
              "Asymmetrique Activity Index                      45.649351\n",
              "Asymmetrique Profile Index                       45.649351\n",
              "Asymmetrique Activity Score                      45.649351\n",
              "Asymmetrique Profile Score                       45.649351\n",
              "I agree to pay the amount through cheque          0.000000\n",
              "A free copy of Mastering The Interview            0.000000\n",
              "Last Notable Activity                             0.000000\n",
              "dtype: float64"
            ]
          },
          "metadata": {},
          "execution_count": 7
        }
      ]
    },
    {
      "cell_type": "markdown",
      "source": [
        "To drop the below columns as the missing values were above 40%:\n",
        "- Asymmetrique Activity Index\n",
        "- Asymmetrique Profile Index  \n",
        "- Asymmetrique Activity Score \n",
        "- Asymmetrique Profile Score **bold text**"
      ],
      "metadata": {
        "id": "GpcaFvEKp61D"
      }
    },
    {
      "cell_type": "code",
      "source": [
        "leads.describe()"
      ],
      "metadata": {
        "colab": {
          "base_uri": "https://localhost:8080/",
          "height": 361
        },
        "id": "BDEI6Qc4mUBC",
        "outputId": "66c7a8ec-b4d8-49e4-de83-0b97c3929f58"
      },
      "execution_count": 8,
      "outputs": [
        {
          "output_type": "execute_result",
          "data": {
            "text/plain": [
              "         Lead Number    Converted  TotalVisits  Total Time Spent on Website  \\\n",
              "count    9240.000000  9240.000000  9103.000000                  9240.000000   \n",
              "mean   617188.435606     0.385390     3.445238                   487.698268   \n",
              "std     23405.995698     0.486714     4.854853                   548.021466   \n",
              "min    579533.000000     0.000000     0.000000                     0.000000   \n",
              "25%    596484.500000     0.000000     1.000000                    12.000000   \n",
              "50%    615479.000000     0.000000     3.000000                   248.000000   \n",
              "75%    637387.250000     1.000000     5.000000                   936.000000   \n",
              "max    660737.000000     1.000000   251.000000                  2272.000000   \n",
              "\n",
              "       Page Views Per Visit  Asymmetrique Activity Score  \\\n",
              "count           9103.000000                  5022.000000   \n",
              "mean               2.362820                    14.306252   \n",
              "std                2.161418                     1.386694   \n",
              "min                0.000000                     7.000000   \n",
              "25%                1.000000                    14.000000   \n",
              "50%                2.000000                    14.000000   \n",
              "75%                3.000000                    15.000000   \n",
              "max               55.000000                    18.000000   \n",
              "\n",
              "       Asymmetrique Profile Score  \n",
              "count                 5022.000000  \n",
              "mean                    16.344883  \n",
              "std                      1.811395  \n",
              "min                     11.000000  \n",
              "25%                     15.000000  \n",
              "50%                     16.000000  \n",
              "75%                     18.000000  \n",
              "max                     20.000000  "
            ],
            "text/html": [
              "\n",
              "  <div id=\"df-527148aa-bed8-473d-a9c4-49c063cd47db\">\n",
              "    <div class=\"colab-df-container\">\n",
              "      <div>\n",
              "<style scoped>\n",
              "    .dataframe tbody tr th:only-of-type {\n",
              "        vertical-align: middle;\n",
              "    }\n",
              "\n",
              "    .dataframe tbody tr th {\n",
              "        vertical-align: top;\n",
              "    }\n",
              "\n",
              "    .dataframe thead th {\n",
              "        text-align: right;\n",
              "    }\n",
              "</style>\n",
              "<table border=\"1\" class=\"dataframe\">\n",
              "  <thead>\n",
              "    <tr style=\"text-align: right;\">\n",
              "      <th></th>\n",
              "      <th>Lead Number</th>\n",
              "      <th>Converted</th>\n",
              "      <th>TotalVisits</th>\n",
              "      <th>Total Time Spent on Website</th>\n",
              "      <th>Page Views Per Visit</th>\n",
              "      <th>Asymmetrique Activity Score</th>\n",
              "      <th>Asymmetrique Profile Score</th>\n",
              "    </tr>\n",
              "  </thead>\n",
              "  <tbody>\n",
              "    <tr>\n",
              "      <th>count</th>\n",
              "      <td>9240.000000</td>\n",
              "      <td>9240.000000</td>\n",
              "      <td>9103.000000</td>\n",
              "      <td>9240.000000</td>\n",
              "      <td>9103.000000</td>\n",
              "      <td>5022.000000</td>\n",
              "      <td>5022.000000</td>\n",
              "    </tr>\n",
              "    <tr>\n",
              "      <th>mean</th>\n",
              "      <td>617188.435606</td>\n",
              "      <td>0.385390</td>\n",
              "      <td>3.445238</td>\n",
              "      <td>487.698268</td>\n",
              "      <td>2.362820</td>\n",
              "      <td>14.306252</td>\n",
              "      <td>16.344883</td>\n",
              "    </tr>\n",
              "    <tr>\n",
              "      <th>std</th>\n",
              "      <td>23405.995698</td>\n",
              "      <td>0.486714</td>\n",
              "      <td>4.854853</td>\n",
              "      <td>548.021466</td>\n",
              "      <td>2.161418</td>\n",
              "      <td>1.386694</td>\n",
              "      <td>1.811395</td>\n",
              "    </tr>\n",
              "    <tr>\n",
              "      <th>min</th>\n",
              "      <td>579533.000000</td>\n",
              "      <td>0.000000</td>\n",
              "      <td>0.000000</td>\n",
              "      <td>0.000000</td>\n",
              "      <td>0.000000</td>\n",
              "      <td>7.000000</td>\n",
              "      <td>11.000000</td>\n",
              "    </tr>\n",
              "    <tr>\n",
              "      <th>25%</th>\n",
              "      <td>596484.500000</td>\n",
              "      <td>0.000000</td>\n",
              "      <td>1.000000</td>\n",
              "      <td>12.000000</td>\n",
              "      <td>1.000000</td>\n",
              "      <td>14.000000</td>\n",
              "      <td>15.000000</td>\n",
              "    </tr>\n",
              "    <tr>\n",
              "      <th>50%</th>\n",
              "      <td>615479.000000</td>\n",
              "      <td>0.000000</td>\n",
              "      <td>3.000000</td>\n",
              "      <td>248.000000</td>\n",
              "      <td>2.000000</td>\n",
              "      <td>14.000000</td>\n",
              "      <td>16.000000</td>\n",
              "    </tr>\n",
              "    <tr>\n",
              "      <th>75%</th>\n",
              "      <td>637387.250000</td>\n",
              "      <td>1.000000</td>\n",
              "      <td>5.000000</td>\n",
              "      <td>936.000000</td>\n",
              "      <td>3.000000</td>\n",
              "      <td>15.000000</td>\n",
              "      <td>18.000000</td>\n",
              "    </tr>\n",
              "    <tr>\n",
              "      <th>max</th>\n",
              "      <td>660737.000000</td>\n",
              "      <td>1.000000</td>\n",
              "      <td>251.000000</td>\n",
              "      <td>2272.000000</td>\n",
              "      <td>55.000000</td>\n",
              "      <td>18.000000</td>\n",
              "      <td>20.000000</td>\n",
              "    </tr>\n",
              "  </tbody>\n",
              "</table>\n",
              "</div>\n",
              "      <button class=\"colab-df-convert\" onclick=\"convertToInteractive('df-527148aa-bed8-473d-a9c4-49c063cd47db')\"\n",
              "              title=\"Convert this dataframe to an interactive table.\"\n",
              "              style=\"display:none;\">\n",
              "        \n",
              "  <svg xmlns=\"http://www.w3.org/2000/svg\" height=\"24px\"viewBox=\"0 0 24 24\"\n",
              "       width=\"24px\">\n",
              "    <path d=\"M0 0h24v24H0V0z\" fill=\"none\"/>\n",
              "    <path d=\"M18.56 5.44l.94 2.06.94-2.06 2.06-.94-2.06-.94-.94-2.06-.94 2.06-2.06.94zm-11 1L8.5 8.5l.94-2.06 2.06-.94-2.06-.94L8.5 2.5l-.94 2.06-2.06.94zm10 10l.94 2.06.94-2.06 2.06-.94-2.06-.94-.94-2.06-.94 2.06-2.06.94z\"/><path d=\"M17.41 7.96l-1.37-1.37c-.4-.4-.92-.59-1.43-.59-.52 0-1.04.2-1.43.59L10.3 9.45l-7.72 7.72c-.78.78-.78 2.05 0 2.83L4 21.41c.39.39.9.59 1.41.59.51 0 1.02-.2 1.41-.59l7.78-7.78 2.81-2.81c.8-.78.8-2.07 0-2.86zM5.41 20L4 18.59l7.72-7.72 1.47 1.35L5.41 20z\"/>\n",
              "  </svg>\n",
              "      </button>\n",
              "      \n",
              "  <style>\n",
              "    .colab-df-container {\n",
              "      display:flex;\n",
              "      flex-wrap:wrap;\n",
              "      gap: 12px;\n",
              "    }\n",
              "\n",
              "    .colab-df-convert {\n",
              "      background-color: #E8F0FE;\n",
              "      border: none;\n",
              "      border-radius: 50%;\n",
              "      cursor: pointer;\n",
              "      display: none;\n",
              "      fill: #1967D2;\n",
              "      height: 32px;\n",
              "      padding: 0 0 0 0;\n",
              "      width: 32px;\n",
              "    }\n",
              "\n",
              "    .colab-df-convert:hover {\n",
              "      background-color: #E2EBFA;\n",
              "      box-shadow: 0px 1px 2px rgba(60, 64, 67, 0.3), 0px 1px 3px 1px rgba(60, 64, 67, 0.15);\n",
              "      fill: #174EA6;\n",
              "    }\n",
              "\n",
              "    [theme=dark] .colab-df-convert {\n",
              "      background-color: #3B4455;\n",
              "      fill: #D2E3FC;\n",
              "    }\n",
              "\n",
              "    [theme=dark] .colab-df-convert:hover {\n",
              "      background-color: #434B5C;\n",
              "      box-shadow: 0px 1px 3px 1px rgba(0, 0, 0, 0.15);\n",
              "      filter: drop-shadow(0px 1px 2px rgba(0, 0, 0, 0.3));\n",
              "      fill: #FFFFFF;\n",
              "    }\n",
              "  </style>\n",
              "\n",
              "      <script>\n",
              "        const buttonEl =\n",
              "          document.querySelector('#df-527148aa-bed8-473d-a9c4-49c063cd47db button.colab-df-convert');\n",
              "        buttonEl.style.display =\n",
              "          google.colab.kernel.accessAllowed ? 'block' : 'none';\n",
              "\n",
              "        async function convertToInteractive(key) {\n",
              "          const element = document.querySelector('#df-527148aa-bed8-473d-a9c4-49c063cd47db');\n",
              "          const dataTable =\n",
              "            await google.colab.kernel.invokeFunction('convertToInteractive',\n",
              "                                                     [key], {});\n",
              "          if (!dataTable) return;\n",
              "\n",
              "          const docLinkHtml = 'Like what you see? Visit the ' +\n",
              "            '<a target=\"_blank\" href=https://colab.research.google.com/notebooks/data_table.ipynb>data table notebook</a>'\n",
              "            + ' to learn more about interactive tables.';\n",
              "          element.innerHTML = '';\n",
              "          dataTable['output_type'] = 'display_data';\n",
              "          await google.colab.output.renderOutput(dataTable, element);\n",
              "          const docLink = document.createElement('div');\n",
              "          docLink.innerHTML = docLinkHtml;\n",
              "          element.appendChild(docLink);\n",
              "        }\n",
              "      </script>\n",
              "    </div>\n",
              "  </div>\n",
              "  "
            ]
          },
          "metadata": {},
          "execution_count": 8
        }
      ]
    },
    {
      "cell_type": "code",
      "source": [
        "# Dropping columns\n",
        "leads1 = leads.drop(labels = ['Asymmetrique Activity Index', 'Asymmetrique Profile Index', 'Asymmetrique Activity Score', 'Asymmetrique Profile Score', 'Lead Quality', 'How did you hear about X Education', 'Magazine', 'Receive More Updates About Our Courses', 'Update me on Supply Chain Content', 'Get updates on DM Content', 'I agree to pay the amount through cheque'], axis = 1)"
      ],
      "metadata": {
        "id": "YrB2q1lxmUEY"
      },
      "execution_count": 9,
      "outputs": []
    },
    {
      "cell_type": "code",
      "source": [
        "leads1.shape"
      ],
      "metadata": {
        "colab": {
          "base_uri": "https://localhost:8080/"
        },
        "id": "l99z7zpAomz_",
        "outputId": "ffc62fb1-f6d7-48a8-b1a5-b2d864c09abc"
      },
      "execution_count": null,
      "outputs": [
        {
          "output_type": "execute_result",
          "data": {
            "text/plain": [
              "(9240, 26)"
            ]
          },
          "metadata": {},
          "execution_count": 69
        }
      ]
    },
    {
      "cell_type": "code",
      "source": [
        "leads2 = leads1.drop(labels = ['Magazine', 'Receive More Updates About Our Courses', 'Update me on Supply Chain Content', 'Get updates on DM Content', 'I agree to pay the amount through cheque'], axis=1)"
      ],
      "metadata": {
        "id": "ljNECzvcoJMC"
      },
      "execution_count": 60,
      "outputs": []
    },
    {
      "cell_type": "code",
      "source": [
        "# Visualizing numeric data\n",
        "num_var = leads1[['Converted', 'TotalVisits', 'Total Time Spent on Website', 'Page Views Per Visit']]\n",
        "num_var.head()\n",
        "\n",
        "sns.pairplot(num_var)\n",
        "plt.show()"
      ],
      "metadata": {
        "colab": {
          "base_uri": "https://localhost:8080/",
          "height": 726
        },
        "id": "kE2C2UUfoJQX",
        "outputId": "36a4bd8c-d738-453f-8e0d-b252ade89815"
      },
      "execution_count": 11,
      "outputs": [
        {
          "output_type": "display_data",
          "data": {
            "text/plain": [
              "<Figure size 720x720 with 20 Axes>"
            ],
            "image/png": "[encoded data removed]"
          },
          "metadata": {
            "needs_background": "light"
          }
        }
      ]
    },
    {
      "cell_type": "code",
      "source": [
        "plt.figure(figsize = (8,4))\n",
        "sns.heatmap(num_var.corr(),annot=True,cmap='YlGnBu')\n",
        "plt.show()"
      ],
      "metadata": {
        "colab": {
          "base_uri": "https://localhost:8080/",
          "height": 400
        },
        "id": "43detb4CoJUq",
        "outputId": "cd120bc8-5063-4f7f-83d4-bdfd00d3a9dc"
      },
      "execution_count": 12,
      "outputs": [
        {
          "output_type": "display_data",
          "data": {
            "text/plain": [
              "<Figure size 576x288 with 2 Axes>"
            ],
            "image/png": "[encoded data removed]"
          },
          "metadata": {
            "needs_background": "light"
          }
        }
      ]
    },
    {
      "cell_type": "markdown",
      "source": [
        "**From the above, the variable 'Time Spent on Website' has positive correlation with the target variable 'Converted'.**"
      ],
      "metadata": {
        "id": "gof-rN0bydQx"
      }
    },
    {
      "cell_type": "code",
      "source": [
        "plt.figure(figsize = (15,7))\n",
        "sns.heatmap(leads2.corr(),annot=True,cmap='YlGnBu')\n",
        "plt.show()"
      ],
      "metadata": {
        "colab": {
          "base_uri": "https://localhost:8080/",
          "height": 616
        },
        "id": "XuHt6eBSjUCL",
        "outputId": "5c0910c2-df77-4910-e4bc-e4e858055d19"
      },
      "execution_count": 40,
      "outputs": [
        {
          "output_type": "display_data",
          "data": {
            "text/plain": [
              "<Figure size 1080x504 with 2 Axes>"
            ],
            "image/png": "[encoded data removed]"
          },
          "metadata": {
            "needs_background": "light"
          }
        }
      ]
    },
    {
      "cell_type": "code",
      "source": [
        "# Dropping some more columns\n",
        "\n",
        "# dropping columns that have value 'No'\n",
        "\n",
        "leads2 = leads1.drop(labels = ['Magazine', 'Receive More Updates About Our Courses', 'Update me on Supply Chain Content', 'Get updates on DM Content', 'I agree to pay the amount through cheque'], axis = 1)"
      ],
      "metadata": {
        "id": "vUZO31aomwfi"
      },
      "execution_count": 61,
      "outputs": []
    },
    {
      "cell_type": "code",
      "source": [
        "leads2.shape"
      ],
      "metadata": {
        "colab": {
          "base_uri": "https://localhost:8080/"
        },
        "id": "hJ1xQrMBmwlZ",
        "outputId": "099fac35-5a41-4f3f-cdf4-ca2797e1f167"
      },
      "execution_count": 42,
      "outputs": [
        {
          "output_type": "execute_result",
          "data": {
            "text/plain": [
              "(9240, 26)"
            ]
          },
          "metadata": {},
          "execution_count": 42
        }
      ]
    },
    {
      "cell_type": "code",
      "source": [
        "# Visualizing categorical variables\n",
        "\n",
        "plt.figure(figsize = (40,22))\n",
        "plt.subplot(3,3,1)\n",
        "sns.boxplot(x='Lead Origin', y='Converted', data=leads1)\n",
        "\n",
        "plt.subplot(3,3,2)\n",
        "sns.boxplot(x='Lead Source', y='Converted', data=leads1)\n",
        "\n",
        "plt.subplot(3,3,3)\n",
        "sns.boxplot(x='Do Not Email', y='Converted', data=leads1)\n",
        "\n",
        "plt.subplot(3,3,4)\n",
        "sns.boxplot(x='Do Not Call', y='Converted', data=leads1)\n",
        "\n",
        "plt.subplot(3,3,5)\n",
        "sns.boxplot(x='Last Activity', y='Converted', data=leads1)\n",
        "\n",
        "plt.subplot(3,3,6)\n",
        "sns.boxplot(x='Country', y='Converted', data=leads1)\n",
        "plt.show()\n",
        "\n",
        "plt.subplot(3,3,7)\n",
        "sns.boxplot(x='Lead Profile', y='Converted', data=leads1)\n",
        "plt.show()\n",
        "\n",
        "plt.subplot(3,3,8)\n",
        "sns.boxplot(x='What is your current occupation', y='Converted', data=leads1)\n",
        "plt.show()\n",
        "\n"
      ],
      "metadata": {
        "colab": {
          "base_uri": "https://localhost:8080/",
          "height": 653
        },
        "id": "-RsN3fT70DK6",
        "outputId": "51409b8f-15bb-4ac4-bdfb-677322901cf8"
      },
      "execution_count": 43,
      "outputs": [
        {
          "output_type": "display_data",
          "data": {
            "text/plain": [
              "<Figure size 2880x1584 with 6 Axes>"
            ],
            "image/png": "[encoded data removed]"
          },
          "metadata": {
            "needs_background": "light"
          }
        },
        {
          "output_type": "display_data",
          "data": {
            "text/plain": [
              "<Figure size 432x288 with 1 Axes>"
            ],
            "image/png": "[encoded data removed]"
          },
          "metadata": {
            "needs_background": "light"
          }
        },
        {
          "output_type": "display_data",
          "data": {
            "text/plain": [
              "<Figure size 432x288 with 1 Axes>"
            ],
            "image/png": "[encoded data removed]"
          },
          "metadata": {
            "needs_background": "light"
          }
        }
      ]
    },
    {
      "cell_type": "code",
      "source": [
        ""
      ],
      "metadata": {
        "id": "J7f33Bhjmrgb"
      },
      "execution_count": null,
      "outputs": []
    },
    {
      "cell_type": "code",
      "source": [
        ""
      ],
      "metadata": {
        "id": "Zme_VLep0DVf"
      },
      "execution_count": null,
      "outputs": []
    },
    {
      "cell_type": "code",
      "source": [
        ""
      ],
      "metadata": {
        "id": "-TCDUVWt0Db4"
      },
      "execution_count": null,
      "outputs": []
    },
    {
      "cell_type": "code",
      "source": [
        "# Data Preparation"
      ],
      "metadata": {
        "id": "Aquh7CqmoJYX"
      },
      "execution_count": null,
      "outputs": []
    },
    {
      "cell_type": "code",
      "source": [
        "# Converting binary vaariables to Yes/ No (1, 0)\n",
        "bi_var = ['Do Not Email', 'Do Not Call', 'Receive More Updates About Our Courses', 'Search', 'Update me on Supply Chain Content', 'Get updates on DM Content', 'I agree to pay the amount through cheque','A free copy of Mastering The Interview', 'Magazine',\n",
        "          'Newspaper Article', 'X Education Forums', 'Newspaper', 'Digital Advertisement', 'Through Recommendations']\n",
        "\n",
        "# Defining map_function\n",
        "def binary_map(x):\n",
        "      return x.map({'Yes': 1, 'No':0})\n",
        "\n",
        "# Applying map_function:\n",
        "leads1[bi_var] = leads[bi_var].apply(binary_map)\n",
        "\n",
        "leads1[bi_var].head()"
      ],
      "metadata": {
        "colab": {
          "base_uri": "https://localhost:8080/",
          "height": 337
        },
        "id": "3YJO27amoJc2",
        "outputId": "3a8d4b13-393b-4ac1-f35e-afa62aec4d31"
      },
      "execution_count": 44,
      "outputs": [
        {
          "output_type": "execute_result",
          "data": {
            "text/plain": [
              "   Do Not Email  Do Not Call  Receive More Updates About Our Courses  Search  \\\n",
              "0             0            0                                       0       0   \n",
              "1             0            0                                       0       0   \n",
              "2             0            0                                       0       0   \n",
              "3             0            0                                       0       0   \n",
              "4             0            0                                       0       0   \n",
              "\n",
              "   Update me on Supply Chain Content  Get updates on DM Content  \\\n",
              "0                                  0                          0   \n",
              "1                                  0                          0   \n",
              "2                                  0                          0   \n",
              "3                                  0                          0   \n",
              "4                                  0                          0   \n",
              "\n",
              "   I agree to pay the amount through cheque  \\\n",
              "0                                         0   \n",
              "1                                         0   \n",
              "2                                         0   \n",
              "3                                         0   \n",
              "4                                         0   \n",
              "\n",
              "   A free copy of Mastering The Interview  Magazine  Newspaper Article  \\\n",
              "0                                       0         0                  0   \n",
              "1                                       0         0                  0   \n",
              "2                                       1         0                  0   \n",
              "3                                       0         0                  0   \n",
              "4                                       0         0                  0   \n",
              "\n",
              "   X Education Forums  Newspaper  Digital Advertisement  \\\n",
              "0                   0          0                      0   \n",
              "1                   0          0                      0   \n",
              "2                   0          0                      0   \n",
              "3                   0          0                      0   \n",
              "4                   0          0                      0   \n",
              "\n",
              "   Through Recommendations  \n",
              "0                        0  \n",
              "1                        0  \n",
              "2                        0  \n",
              "3                        0  \n",
              "4                        0  "
            ],
            "text/html": [
              "\n",
              "  <div id=\"df-2719f92c-98b1-415b-b898-5f9dad4fa11b\">\n",
              "    <div class=\"colab-df-container\">\n",
              "      <div>\n",
              "<style scoped>\n",
              "    .dataframe tbody tr th:only-of-type {\n",
              "        vertical-align: middle;\n",
              "    }\n",
              "\n",
              "    .dataframe tbody tr th {\n",
              "        vertical-align: top;\n",
              "    }\n",
              "\n",
              "    .dataframe thead th {\n",
              "        text-align: right;\n",
              "    }\n",
              "</style>\n",
              "<table border=\"1\" class=\"dataframe\">\n",
              "  <thead>\n",
              "    <tr style=\"text-align: right;\">\n",
              "      <th></th>\n",
              "      <th>Do Not Email</th>\n",
              "      <th>Do Not Call</th>\n",
              "      <th>Receive More Updates About Our Courses</th>\n",
              "      <th>Search</th>\n",
              "      <th>Update me on Supply Chain Content</th>\n",
              "      <th>Get updates on DM Content</th>\n",
              "      <th>I agree to pay the amount through cheque</th>\n",
              "      <th>A free copy of Mastering The Interview</th>\n",
              "      <th>Magazine</th>\n",
              "      <th>Newspaper Article</th>\n",
              "      <th>X Education Forums</th>\n",
              "      <th>Newspaper</th>\n",
              "      <th>Digital Advertisement</th>\n",
              "      <th>Through Recommendations</th>\n",
              "    </tr>\n",
              "  </thead>\n",
              "  <tbody>\n",
              "    <tr>\n",
              "      <th>0</th>\n",
              "      <td>0</td>\n",
              "      <td>0</td>\n",
              "      <td>0</td>\n",
              "      <td>0</td>\n",
              "      <td>0</td>\n",
              "      <td>0</td>\n",
              "      <td>0</td>\n",
              "      <td>0</td>\n",
              "      <td>0</td>\n",
              "      <td>0</td>\n",
              "      <td>0</td>\n",
              "      <td>0</td>\n",
              "      <td>0</td>\n",
              "      <td>0</td>\n",
              "    </tr>\n",
              "    <tr>\n",
              "      <th>1</th>\n",
              "      <td>0</td>\n",
              "      <td>0</td>\n",
              "      <td>0</td>\n",
              "      <td>0</td>\n",
              "      <td>0</td>\n",
              "      <td>0</td>\n",
              "      <td>0</td>\n",
              "      <td>0</td>\n",
              "      <td>0</td>\n",
              "      <td>0</td>\n",
              "      <td>0</td>\n",
              "      <td>0</td>\n",
              "      <td>0</td>\n",
              "      <td>0</td>\n",
              "    </tr>\n",
              "    <tr>\n",
              "      <th>2</th>\n",
              "      <td>0</td>\n",
              "      <td>0</td>\n",
              "      <td>0</td>\n",
              "      <td>0</td>\n",
              "      <td>0</td>\n",
              "      <td>0</td>\n",
              "      <td>0</td>\n",
              "      <td>1</td>\n",
              "      <td>0</td>\n",
              "      <td>0</td>\n",
              "      <td>0</td>\n",
              "      <td>0</td>\n",
              "      <td>0</td>\n",
              "      <td>0</td>\n",
              "    </tr>\n",
              "    <tr>\n",
              "      <th>3</th>\n",
              "      <td>0</td>\n",
              "      <td>0</td>\n",
              "      <td>0</td>\n",
              "      <td>0</td>\n",
              "      <td>0</td>\n",
              "      <td>0</td>\n",
              "      <td>0</td>\n",
              "      <td>0</td>\n",
              "      <td>0</td>\n",
              "      <td>0</td>\n",
              "      <td>0</td>\n",
              "      <td>0</td>\n",
              "      <td>0</td>\n",
              "      <td>0</td>\n",
              "    </tr>\n",
              "    <tr>\n",
              "      <th>4</th>\n",
              "      <td>0</td>\n",
              "      <td>0</td>\n",
              "      <td>0</td>\n",
              "      <td>0</td>\n",
              "      <td>0</td>\n",
              "      <td>0</td>\n",
              "      <td>0</td>\n",
              "      <td>0</td>\n",
              "      <td>0</td>\n",
              "      <td>0</td>\n",
              "      <td>0</td>\n",
              "      <td>0</td>\n",
              "      <td>0</td>\n",
              "      <td>0</td>\n",
              "    </tr>\n",
              "  </tbody>\n",
              "</table>\n",
              "</div>\n",
              "      <button class=\"colab-df-convert\" onclick=\"convertToInteractive('df-2719f92c-98b1-415b-b898-5f9dad4fa11b')\"\n",
              "              title=\"Convert this dataframe to an interactive table.\"\n",
              "              style=\"display:none;\">\n",
              "        \n",
              "  <svg xmlns=\"http://www.w3.org/2000/svg\" height=\"24px\"viewBox=\"0 0 24 24\"\n",
              "       width=\"24px\">\n",
              "    <path d=\"M0 0h24v24H0V0z\" fill=\"none\"/>\n",
              "    <path d=\"M18.56 5.44l.94 2.06.94-2.06 2.06-.94-2.06-.94-.94-2.06-.94 2.06-2.06.94zm-11 1L8.5 8.5l.94-2.06 2.06-.94-2.06-.94L8.5 2.5l-.94 2.06-2.06.94zm10 10l.94 2.06.94-2.06 2.06-.94-2.06-.94-.94-2.06-.94 2.06-2.06.94z\"/><path d=\"M17.41 7.96l-1.37-1.37c-.4-.4-.92-.59-1.43-.59-.52 0-1.04.2-1.43.59L10.3 9.45l-7.72 7.72c-.78.78-.78 2.05 0 2.83L4 21.41c.39.39.9.59 1.41.59.51 0 1.02-.2 1.41-.59l7.78-7.78 2.81-2.81c.8-.78.8-2.07 0-2.86zM5.41 20L4 18.59l7.72-7.72 1.47 1.35L5.41 20z\"/>\n",
              "  </svg>\n",
              "      </button>\n",
              "      \n",
              "  <style>\n",
              "    .colab-df-container {\n",
              "      display:flex;\n",
              "      flex-wrap:wrap;\n",
              "      gap: 12px;\n",
              "    }\n",
              "\n",
              "    .colab-df-convert {\n",
              "      background-color: #E8F0FE;\n",
              "      border: none;\n",
              "      border-radius: 50%;\n",
              "      cursor: pointer;\n",
              "      display: none;\n",
              "      fill: #1967D2;\n",
              "      height: 32px;\n",
              "      padding: 0 0 0 0;\n",
              "      width: 32px;\n",
              "    }\n",
              "\n",
              "    .colab-df-convert:hover {\n",
              "      background-color: #E2EBFA;\n",
              "      box-shadow: 0px 1px 2px rgba(60, 64, 67, 0.3), 0px 1px 3px 1px rgba(60, 64, 67, 0.15);\n",
              "      fill: #174EA6;\n",
              "    }\n",
              "\n",
              "    [theme=dark] .colab-df-convert {\n",
              "      background-color: #3B4455;\n",
              "      fill: #D2E3FC;\n",
              "    }\n",
              "\n",
              "    [theme=dark] .colab-df-convert:hover {\n",
              "      background-color: #434B5C;\n",
              "      box-shadow: 0px 1px 3px 1px rgba(0, 0, 0, 0.15);\n",
              "      filter: drop-shadow(0px 1px 2px rgba(0, 0, 0, 0.3));\n",
              "      fill: #FFFFFF;\n",
              "    }\n",
              "  </style>\n",
              "\n",
              "      <script>\n",
              "        const buttonEl =\n",
              "          document.querySelector('#df-2719f92c-98b1-415b-b898-5f9dad4fa11b button.colab-df-convert');\n",
              "        buttonEl.style.display =\n",
              "          google.colab.kernel.accessAllowed ? 'block' : 'none';\n",
              "\n",
              "        async function convertToInteractive(key) {\n",
              "          const element = document.querySelector('#df-2719f92c-98b1-415b-b898-5f9dad4fa11b');\n",
              "          const dataTable =\n",
              "            await google.colab.kernel.invokeFunction('convertToInteractive',\n",
              "                                                     [key], {});\n",
              "          if (!dataTable) return;\n",
              "\n",
              "          const docLinkHtml = 'Like what you see? Visit the ' +\n",
              "            '<a target=\"_blank\" href=https://colab.research.google.com/notebooks/data_table.ipynb>data table notebook</a>'\n",
              "            + ' to learn more about interactive tables.';\n",
              "          element.innerHTML = '';\n",
              "          dataTable['output_type'] = 'display_data';\n",
              "          await google.colab.output.renderOutput(dataTable, element);\n",
              "          const docLink = document.createElement('div');\n",
              "          docLink.innerHTML = docLinkHtml;\n",
              "          element.appendChild(docLink);\n",
              "        }\n",
              "      </script>\n",
              "    </div>\n",
              "  </div>\n",
              "  "
            ]
          },
          "metadata": {},
          "execution_count": 44
        }
      ]
    },
    {
      "cell_type": "code",
      "source": [
        ""
      ],
      "metadata": {
        "id": "GwwKNvlvoJgw"
      },
      "execution_count": null,
      "outputs": []
    },
    {
      "cell_type": "code",
      "source": [
        "# Rationalizing the multiple levels in categorical variables\n",
        "leads1['Specialization'].value_counts(normalize=True)"
      ],
      "metadata": {
        "colab": {
          "base_uri": "https://localhost:8080/"
        },
        "id": "3tbQ5uW3oJlI",
        "outputId": "4243a23c-eae4-477f-c5ce-f3baef7351fb"
      },
      "execution_count": 46,
      "outputs": [
        {
          "output_type": "execute_result",
          "data": {
            "text/plain": [
              "Other                        0.409895\n",
              "0                            0.248911\n",
              "Finance Management           0.125096\n",
              "Human Resource Management    0.108690\n",
              "Marketing Management         0.107408\n",
              "Name: Specialization, dtype: float64"
            ]
          },
          "metadata": {},
          "execution_count": 46
        }
      ]
    },
    {
      "cell_type": "code",
      "source": [
        "#df['Education'].replace(['Under-Graduate', 'Diploma '], \n",
        "                        #[0, 1], inplace=True)\n",
        "\n",
        "\n",
        "leads1['Lead Origin'].replace(['Lead Add Form', 'Lead Import', 'Quick Add Form'],\n",
        "                              ['Other', 'Other', 'Other'], inplace=True)\n",
        "\n"
      ],
      "metadata": {
        "id": "Kx3NKQnIoJpB"
      },
      "execution_count": 48,
      "outputs": []
    },
    {
      "cell_type": "code",
      "source": [
        "leads1['Lead Source'].replace(['Reference','Welingak Website', 'Referral Sites', 'Facebook', 'bing', 'google', 'Click2call', 'Press_Release', 'Social Media','Live Chat', 'youtubechannel', 'testone', 'Pay per Click Ads', \n",
        "                     'welearnblog_Home', 'WeLearn', 'blog', 'NC_EDM'],\n",
        "                              ['Other', 'Other', 'Other', 'Other', 'Other', 'Other', 'Other', 'Other', 'Other', 'Other', 'Other', 'Other', 'Other', 'Other', 'Other', 'Other', 'Other'], inplace=True)\n",
        "\n",
        "\n"
      ],
      "metadata": {
        "id": "s0pUJeyQY-9a"
      },
      "execution_count": 49,
      "outputs": []
    },
    {
      "cell_type": "code",
      "source": [
        "cat_var1 = leads1[['Last Activity', 'Country', 'Specialization', 'What is your current occupation', 'What matters most to you in choosing a course', \n",
        "                  'Search', 'Magazine', 'Newspaper Article', 'X Education Forums', 'Newspaper',\n",
        "                  'Digital Advertisement', 'Through Recommendations','Tags', 'Lead Profile', 'City', 'Last Notable Activity']]"
      ],
      "metadata": {
        "id": "DGUYTGLH_sxj"
      },
      "execution_count": 21,
      "outputs": []
    },
    {
      "cell_type": "code",
      "source": [
        "cat_var1.value_counts(normalize=True)"
      ],
      "metadata": {
        "colab": {
          "base_uri": "https://localhost:8080/"
        },
        "id": "cQDx7hrWoJsf",
        "outputId": "dd1b3f7d-a34a-4694-c59f-e9f76477adc8"
      },
      "execution_count": 22,
      "outputs": [
        {
          "output_type": "execute_result",
          "data": {
            "text/plain": [
              "Last Activity               Country  Specialization        What is your current occupation  What matters most to you in choosing a course  Search  Magazine  Newspaper Article  X Education Forums  Newspaper  Digital Advertisement  Through Recommendations  Tags                                 Lead Profile    City                Last Notable Activity\n",
              "Email Opened                India    Select                Unemployed                       Better Career Prospects                        0       0         0                  0                   0          0                      0                        Ringing                              Select          Select              Email Opened             0.013671\n",
              "SMS Sent                    India    Select                Unemployed                       Better Career Prospects                        0       0         0                  0                   0          0                      0                        Will revert after reading the email  Select          Select              SMS Sent                 0.011025\n",
              "                                                                                                                                                                                                                                                               Ringing                              Select          Select              SMS Sent                 0.009041\n",
              "Email Opened                India    Finance Management    Unemployed                       Better Career Prospects                        0       0         0                  0                   0          0                      0                        Ringing                              Select          Mumbai              Email Opened             0.008600\n",
              "SMS Sent                    India    Finance Management    Unemployed                       Better Career Prospects                        0       0         0                  0                   0          0                      0                        Will revert after reading the email  Select          Mumbai              SMS Sent                 0.007277\n",
              "                                                                                                                                                                                                                                                                                                                                                                   ...   \n",
              "Email Opened                India    Marketing Management  Unemployed                       Better Career Prospects                        0       0         0                  0                   0          0                      0                        in touch with EINS                   Potential Lead  Other Cities        Modified                 0.000221\n",
              "                                                                                                                                                                                                                                                               invalid number                       Other Leads     Other Metro Cities  Modified                 0.000221\n",
              "                                                                                                                                                                                                                                                                                                    Select          Mumbai              Email Opened             0.000221\n",
              "                                                                                                                                                                                                                                                                                                                    Other Cities        Email Opened             0.000221\n",
              "Visited Booth in Tradeshow  India    Finance Management    Unemployed                       Better Career Prospects                        0       0         0                  0                   0          0                      0                        wrong number given                   Select          Mumbai              Modified                 0.000221\n",
              "Length: 2771, dtype: float64"
            ]
          },
          "metadata": {},
          "execution_count": 22
        }
      ]
    },
    {
      "cell_type": "code",
      "source": [
        "# To convert 'Select' in columns to Null or NaN; in case more classes of fewer values are present, to convert these to 'Other'"
      ],
      "metadata": {
        "id": "5H_KhkNroJwH"
      },
      "execution_count": null,
      "outputs": []
    },
    {
      "cell_type": "code",
      "source": [
        "# Then do EDA, create dummy variables, transform variables, etc"
      ],
      "metadata": {
        "id": "qZL4qC9vmUH2"
      },
      "execution_count": null,
      "outputs": []
    },
    {
      "cell_type": "code",
      "source": [
        "# to count the occurence of a value in a column\n",
        "#data['column_name'].value_counts()[value]"
      ],
      "metadata": {
        "id": "21GQA9S1mUME"
      },
      "execution_count": null,
      "outputs": []
    },
    {
      "cell_type": "code",
      "source": [
        "leads1['Search'].value_counts(normalize=True)"
      ],
      "metadata": {
        "colab": {
          "base_uri": "https://localhost:8080/"
        },
        "id": "MVuCY2sONe_8",
        "outputId": "18e8298c-3421-432b-e91d-00b9af1a57f2"
      },
      "execution_count": 23,
      "outputs": [
        {
          "output_type": "execute_result",
          "data": {
            "text/plain": [
              "0    0.998485\n",
              "1    0.001515\n",
              "Name: Search, dtype: float64"
            ]
          },
          "metadata": {},
          "execution_count": 23
        }
      ]
    },
    {
      "cell_type": "code",
      "source": [
        "leads1['Country'].replace(['United Arab Emirates', 'Singapore', 'Saudi Arabia', 'United Kingdom', 'Australia', 'Qatar', 'Hong Kong', 'Bahrain', 'Oman',\n",
        "                'France', 'South Africa', 'Nigeria', 'Germany', 'Kuwait', 'Canada', 'Sweden', 'China', 'Asia/Pacific Region',\n",
        "                'Uganda', 'Bangladesh', 'Italy', 'Belgium', 'Netherlands', 'Ghana', 'Philippines', 'Russia',\n",
        "                'Switzerland', 'Vietnam', 'Denmark', 'Tanzania', 'Liberia', 'Malaysia', 'Kenya', 'Sri Lanka', 'Indonesia'],\n",
        "                              ['Other', 'Other', 'Other', 'Other', 'Other', 'Other', 'Other', 'Other', 'Other', 'Other', 'Other', 'Other', 'Other', 'Other', 'Other', 'Other', 'Other', 'Other', 'Other', 'Other', 'Other', 'Other', 'Other', 'Other', 'Other', 'Other', 'Other', 'Other', 'Other', 'Other', 'Other', 'Other', 'Other', 'Other', 'Other'], inplace=True)"
      ],
      "metadata": {
        "id": "FgUEoRcXNfDq"
      },
      "execution_count": 23,
      "outputs": []
    },
    {
      "cell_type": "code",
      "source": [
        ""
      ],
      "metadata": {
        "id": "nxNjCFdKNfLp"
      },
      "execution_count": null,
      "outputs": []
    },
    {
      "cell_type": "code",
      "source": [
        "leads1['Specialization'].replace(['Operations Management', 'Business Administration', 'IT Projects Management', 'Supply Chain Management', 'Banking, Investment And Insurance', 'Travel and Tourism', 'Media and Advertising', \n",
        "                               'International Business', 'Healthcare Management', 'Hospitality Management', 'E-COMMERCE', 'Retail Management', \n",
        "                               'Rural and Agribusiness', 'E-Business', 'Services Excellence'],\n",
        "                              ['Other', 'Other', 'Other','Other', 'Other', 'Other', 'Other', 'Other', 'Other', 'Other', 'Other', 'Other', 'Other', 'Other', 'Other'], inplace=True)\n",
        "\n"
      ],
      "metadata": {
        "id": "KId3LlosNfPt"
      },
      "execution_count": 24,
      "outputs": []
    },
    {
      "cell_type": "code",
      "source": [
        "# to count the occurence of a value in a column\n",
        "#data['column_name'].value_counts()[value]"
      ],
      "metadata": {
        "id": "cH0K5o5poYbM"
      },
      "execution_count": null,
      "outputs": []
    },
    {
      "cell_type": "code",
      "source": [
        "# to replace Select w/ '0'\n",
        "#df.replace({'>20':27.5, '<5':2.5, '<1':0.5, '>10':22.5})\n",
        "\n",
        "leads1.Specialization= leads1.Specialization.replace('Select', 0)"
      ],
      "metadata": {
        "id": "EurXlbajg-km"
      },
      "execution_count": 25,
      "outputs": []
    },
    {
      "cell_type": "code",
      "source": [
        "leads1['How did you hear about X Education'].value_counts()"
      ],
      "metadata": {
        "id": "MLwwKBIBg-om"
      },
      "execution_count": null,
      "outputs": []
    },
    {
      "cell_type": "code",
      "source": [
        "leads2.head()"
      ],
      "metadata": {
        "id": "kW9xiLAOg-sy"
      },
      "execution_count": null,
      "outputs": []
    },
    {
      "cell_type": "code",
      "source": [
        "leads1['How did you hear about X Education'].replace(['Advertisements', 'Social Media', 'Email', 'SMS'],\n",
        "                              ['Other', 'Other', 'Other', 'Other'], inplace=True)"
      ],
      "metadata": {
        "id": "zld0QWwKL4PR"
      },
      "execution_count": null,
      "outputs": []
    },
    {
      "cell_type": "code",
      "source": [
        "# since 70% of data in 'How did you hear about X Education' is Select, which is equivalent to null, this column can be dropped"
      ],
      "metadata": {
        "id": "V2OHXiIDoYe9"
      },
      "execution_count": null,
      "outputs": []
    },
    {
      "cell_type": "code",
      "source": [
        "leads1['Tags'].replace(['Interested in other courses', 'Already a student', 'Closed by Horizzon', 'switched off', 'Busy', 'Lost to EINS', 'Not doing further education', 'Interested  in full time MBA', 'Graduation in progress', \n",
        "'invalid number', 'Diploma holder (Not Eligible)', 'wrong number given', 'opp hangup', 'number not provided', 'in touch with EINS',\n",
        "'Lost to Others', 'Still Thinking', 'Want to take admission but has financial problems', 'In confusion whether part time or DLP',\n",
        "'Interested in Next batch', 'Lateral student', 'Shall take in the next coming month', 'University not recognized', 'Recognition issue (DEC approval)'],\n",
        "                              ['Other', 'Other', 'Other', 'Other', 'Other', 'Other', 'Other', 'Other', 'Other', 'Other', 'Other', 'Other', 'Other', 'Other', 'Other','Other', 'Other', 'Other', 'Other', 'Other', 'Other', 'Other', 'Other', 'Other' ], inplace=True)"
      ],
      "metadata": {
        "id": "8RtkJP_zoYiy"
      },
      "execution_count": 52,
      "outputs": []
    },
    {
      "cell_type": "code",
      "source": [
        "leads1['Last Notable Activity'].value_counts(normalize=True)"
      ],
      "metadata": {
        "id": "XA27TSbjoYmi",
        "colab": {
          "base_uri": "https://localhost:8080/"
        },
        "outputId": "c78958dc-377b-41f5-e2ee-3cfa7e534d97"
      },
      "execution_count": 53,
      "outputs": [
        {
          "output_type": "execute_result",
          "data": {
            "text/plain": [
              "Modified        0.368723\n",
              "Email Opened    0.305952\n",
              "SMS Sent        0.235065\n",
              "Other           0.090260\n",
              "Name: Last Notable Activity, dtype: float64"
            ]
          },
          "metadata": {},
          "execution_count": 53
        }
      ]
    },
    {
      "cell_type": "code",
      "source": [
        "leads1['Lead Profile'].replace(['Student of SomeSchool', 'Lateral Student', 'Dual Specialization Student'], ['Other', 'Other', 'Other'], inplace=True)"
      ],
      "metadata": {
        "id": "5lrp4RtzoYp5"
      },
      "execution_count": 54,
      "outputs": []
    },
    {
      "cell_type": "code",
      "source": [
        "leads1['Lead Profile'] = leads1['Lead Profile'].replace('Select', 0)"
      ],
      "metadata": {
        "id": "XJPukhiTuZTS"
      },
      "execution_count": 55,
      "outputs": []
    },
    {
      "cell_type": "code",
      "source": [
        ""
      ],
      "metadata": {
        "id": "w5a9F8QiuZeo"
      },
      "execution_count": null,
      "outputs": []
    },
    {
      "cell_type": "code",
      "source": [
        "leads1['City'].replace(['Other Cities', 'Other Cities of Maharashtra', 'Other Metro Cities', 'Tier II Cities'], ['Other', 'Other', 'Other', 'Other'], inplace=True)"
      ],
      "metadata": {
        "id": "hWlSKq9yoYtY"
      },
      "execution_count": 56,
      "outputs": []
    },
    {
      "cell_type": "code",
      "source": [
        "leads1['Last Notable Activity'].replace(['Page Visited on Website', 'Olark Chat Conversation', 'Email Link Clicked', 'Email Bounced','Unsubscribed', 'Unreachable',\n",
        "'Had a Phone Conversation', 'Email Marked Spam', 'Approached upfront', 'Resubscribed to emails','View in browser link Clicked',\n",
        "'Form Submitted on Website', 'Email Received'],\n",
        "                              ['Other', 'Other', 'Other', 'Other', 'Other', 'Other', 'Other', 'Other', 'Other', 'Other', 'Other', 'Other', 'Other'], inplace=True)\n"
      ],
      "metadata": {
        "id": "NvNYJdHdoYww"
      },
      "execution_count": 57,
      "outputs": []
    },
    {
      "cell_type": "code",
      "source": [
        "leads1['Receive More Updates About Our Courses'].value_counts()"
      ],
      "metadata": {
        "id": "gt0dp8PPoY0I",
        "colab": {
          "base_uri": "https://localhost:8080/"
        },
        "outputId": "44ed77c1-b083-401d-d929-6a96f4f49e13"
      },
      "execution_count": 58,
      "outputs": [
        {
          "output_type": "execute_result",
          "data": {
            "text/plain": [
              "0    9240\n",
              "Name: Receive More Updates About Our Courses, dtype: int64"
            ]
          },
          "metadata": {},
          "execution_count": 58
        }
      ]
    },
    {
      "cell_type": "code",
      "source": [
        "# Creating dummy variable for some of the categorical variables:\n",
        "\n",
        "dummy1 = pd.get_dummies(leads2[['Lead Origin', 'Lead Source', 'Last Activity', 'Country']], drop_first = True)\n",
        "\n",
        "#Adding this to the dataframe leads2\n",
        "leads2 = pd.concat([leads2, dummy1], axis=1)\n",
        "\n",
        "#Dropping the original categorical var.\n",
        "leads2 = leads2.drop(['Lead Origin', 'Lead Source', 'Last Activity', 'Country'], axis=1)\n",
        "\n",
        "leads2.shape"
      ],
      "metadata": {
        "id": "EtnEUlOVoY3c",
        "colab": {
          "base_uri": "https://localhost:8080/"
        },
        "outputId": "7a372ee0-78f7-4f49-e07c-8e83085c0910"
      },
      "execution_count": 62,
      "outputs": [
        {
          "output_type": "execute_result",
          "data": {
            "text/plain": [
              "(9240, 47)"
            ]
          },
          "metadata": {},
          "execution_count": 62
        }
      ]
    },
    {
      "cell_type": "code",
      "source": [
        "# creating some more dummy variables"
      ],
      "metadata": {
        "id": "RTBffs0277R3"
      },
      "execution_count": 63,
      "outputs": []
    },
    {
      "cell_type": "code",
      "source": [
        "lna = pd.get_dummies(leads2['Last Notable Activity'],drop_first = True)\n",
        "\n",
        "#Adding this to the dataframe leads2\n",
        "leads2 = pd.concat([leads2, lna], axis=1)\n",
        "\n",
        "#Dropping the original categorical var.\n",
        "leads2 = leads2.drop(['Last Notable Activity'], axis=1)\n",
        "\n",
        "leads2.shape"
      ],
      "metadata": {
        "colab": {
          "base_uri": "https://localhost:8080/"
        },
        "id": "vgGWm7mO77cb",
        "outputId": "f35fd12c-09c5-48fc-9ff5-c0b3a2aab21a"
      },
      "execution_count": 87,
      "outputs": [
        {
          "output_type": "execute_result",
          "data": {
            "text/plain": [
              "(9240, 62)"
            ]
          },
          "metadata": {},
          "execution_count": 87
        }
      ]
    },
    {
      "cell_type": "code",
      "source": [
        "dummy2 = pd.get_dummies(leads2[['What is your current occupation', 'What matters most to you in choosing a course','Specialization','Tags']], drop_first = True)"
      ],
      "metadata": {
        "id": "7ZW042aZ77gD"
      },
      "execution_count": 64,
      "outputs": []
    },
    {
      "cell_type": "code",
      "source": [
        "# Adding this to dataframe\n",
        "leads2 = pd.concat([leads2, dummy2], axis=1)\n",
        "\n",
        "# Dropping original categorical var.\n",
        "leads2 = leads2.drop(['What is your current occupation', 'What matters most to you in choosing a course','Specialization','Tags'], axis=1)\n",
        "\n",
        "leads2.head()"
      ],
      "metadata": {
        "colab": {
          "base_uri": "https://localhost:8080/",
          "height": 612
        },
        "id": "6dtl-z7Z77k1",
        "outputId": "8812d504-ff1f-4d8d-898d-1f0fc7060519"
      },
      "execution_count": 65,
      "outputs": [
        {
          "output_type": "execute_result",
          "data": {
            "text/plain": [
              "                            Prospect ID  Lead Number  Do Not Email  \\\n",
              "0  7927b2df-8bba-4d29-b9a2-b6e0beafe620       660737             0   \n",
              "1  2a272436-5132-4136-86fa-dcc88c88f482       660728             0   \n",
              "2  8cc8c611-a219-4f35-ad23-fdfd2656bd8a       660727             0   \n",
              "3  0cc2df48-7cf4-4e39-9de9-19797f9b38cc       660719             0   \n",
              "4  3256f628-e534-4826-9d63-4a8b88782852       660681             0   \n",
              "\n",
              "   Do Not Call  Converted  TotalVisits  Total Time Spent on Website  \\\n",
              "0            0          0          0.0                            0   \n",
              "1            0          0          5.0                          674   \n",
              "2            0          1          2.0                         1532   \n",
              "3            0          0          1.0                          305   \n",
              "4            0          1          2.0                         1428   \n",
              "\n",
              "   Page Views Per Visit  Search  Newspaper Article  ...  \\\n",
              "0                   0.0       0                  0  ...   \n",
              "1                   2.5       0                  0  ...   \n",
              "2                   2.0       0                  0  ...   \n",
              "3                   1.0       0                  0  ...   \n",
              "4                   1.0       0                  0  ...   \n",
              "\n",
              "   What is your current occupation_Unemployed  \\\n",
              "0                                           1   \n",
              "1                                           1   \n",
              "2                                           0   \n",
              "3                                           1   \n",
              "4                                           1   \n",
              "\n",
              "   What is your current occupation_Working Professional  \\\n",
              "0                                                  0      \n",
              "1                                                  0      \n",
              "2                                                  0      \n",
              "3                                                  0      \n",
              "4                                                  0      \n",
              "\n",
              "   What matters most to you in choosing a course_Flexibility & Convenience  \\\n",
              "0                                                  0                         \n",
              "1                                                  0                         \n",
              "2                                                  0                         \n",
              "3                                                  0                         \n",
              "4                                                  0                         \n",
              "\n",
              "   What matters most to you in choosing a course_Other  \\\n",
              "0                                                  0     \n",
              "1                                                  0     \n",
              "2                                                  0     \n",
              "3                                                  0     \n",
              "4                                                  0     \n",
              "\n",
              "  Specialization_Finance Management Specialization_Human Resource Management  \\\n",
              "0                                 0                                        0   \n",
              "1                                 0                                        0   \n",
              "2                                 0                                        0   \n",
              "3                                 0                                        0   \n",
              "4                                 0                                        0   \n",
              "\n",
              "   Specialization_Marketing Management Specialization_Other  Tags_Ringing  \\\n",
              "0                                    0                    0             0   \n",
              "1                                    0                    0             1   \n",
              "2                                    0                    1             0   \n",
              "3                                    0                    1             1   \n",
              "4                                    0                    0             0   \n",
              "\n",
              "   Tags_Will revert after reading the email  \n",
              "0                                         0  \n",
              "1                                         0  \n",
              "2                                         1  \n",
              "3                                         0  \n",
              "4                                         1  \n",
              "\n",
              "[5 rows x 56 columns]"
            ],
            "text/html": [
              "\n",
              "  <div id=\"df-0e0b75d6-9129-4aa9-8bc3-85316ecd6d67\">\n",
              "    <div class=\"colab-df-container\">\n",
              "      <div>\n",
              "<style scoped>\n",
              "    .dataframe tbody tr th:only-of-type {\n",
              "        vertical-align: middle;\n",
              "    }\n",
              "\n",
              "    .dataframe tbody tr th {\n",
              "        vertical-align: top;\n",
              "    }\n",
              "\n",
              "    .dataframe thead th {\n",
              "        text-align: right;\n",
              "    }\n",
              "</style>\n",
              "<table border=\"1\" class=\"dataframe\">\n",
              "  <thead>\n",
              "    <tr style=\"text-align: right;\">\n",
              "      <th></th>\n",
              "      <th>Prospect ID</th>\n",
              "      <th>Lead Number</th>\n",
              "      <th>Do Not Email</th>\n",
              "      <th>Do Not Call</th>\n",
              "      <th>Converted</th>\n",
              "      <th>TotalVisits</th>\n",
              "      <th>Total Time Spent on Website</th>\n",
              "      <th>Page Views Per Visit</th>\n",
              "      <th>Search</th>\n",
              "      <th>Newspaper Article</th>\n",
              "      <th>...</th>\n",
              "      <th>What is your current occupation_Unemployed</th>\n",
              "      <th>What is your current occupation_Working Professional</th>\n",
              "      <th>What matters most to you in choosing a course_Flexibility &amp; Convenience</th>\n",
              "      <th>What matters most to you in choosing a course_Other</th>\n",
              "      <th>Specialization_Finance Management</th>\n",
              "      <th>Specialization_Human Resource Management</th>\n",
              "      <th>Specialization_Marketing Management</th>\n",
              "      <th>Specialization_Other</th>\n",
              "      <th>Tags_Ringing</th>\n",
              "      <th>Tags_Will revert after reading the email</th>\n",
              "    </tr>\n",
              "  </thead>\n",
              "  <tbody>\n",
              "    <tr>\n",
              "      <th>0</th>\n",
              "      <td>7927b2df-8bba-4d29-b9a2-b6e0beafe620</td>\n",
              "      <td>660737</td>\n",
              "      <td>0</td>\n",
              "      <td>0</td>\n",
              "      <td>0</td>\n",
              "      <td>0.0</td>\n",
              "      <td>0</td>\n",
              "      <td>0.0</td>\n",
              "      <td>0</td>\n",
              "      <td>0</td>\n",
              "      <td>...</td>\n",
              "      <td>1</td>\n",
              "      <td>0</td>\n",
              "      <td>0</td>\n",
              "      <td>0</td>\n",
              "      <td>0</td>\n",
              "      <td>0</td>\n",
              "      <td>0</td>\n",
              "      <td>0</td>\n",
              "      <td>0</td>\n",
              "      <td>0</td>\n",
              "    </tr>\n",
              "    <tr>\n",
              "      <th>1</th>\n",
              "      <td>2a272436-5132-4136-86fa-dcc88c88f482</td>\n",
              "      <td>660728</td>\n",
              "      <td>0</td>\n",
              "      <td>0</td>\n",
              "      <td>0</td>\n",
              "      <td>5.0</td>\n",
              "      <td>674</td>\n",
              "      <td>2.5</td>\n",
              "      <td>0</td>\n",
              "      <td>0</td>\n",
              "      <td>...</td>\n",
              "      <td>1</td>\n",
              "      <td>0</td>\n",
              "      <td>0</td>\n",
              "      <td>0</td>\n",
              "      <td>0</td>\n",
              "      <td>0</td>\n",
              "      <td>0</td>\n",
              "      <td>0</td>\n",
              "      <td>1</td>\n",
              "      <td>0</td>\n",
              "    </tr>\n",
              "    <tr>\n",
              "      <th>2</th>\n",
              "      <td>8cc8c611-a219-4f35-ad23-fdfd2656bd8a</td>\n",
              "      <td>660727</td>\n",
              "      <td>0</td>\n",
              "      <td>0</td>\n",
              "      <td>1</td>\n",
              "      <td>2.0</td>\n",
              "      <td>1532</td>\n",
              "      <td>2.0</td>\n",
              "      <td>0</td>\n",
              "      <td>0</td>\n",
              "      <td>...</td>\n",
              "      <td>0</td>\n",
              "      <td>0</td>\n",
              "      <td>0</td>\n",
              "      <td>0</td>\n",
              "      <td>0</td>\n",
              "      <td>0</td>\n",
              "      <td>0</td>\n",
              "      <td>1</td>\n",
              "      <td>0</td>\n",
              "      <td>1</td>\n",
              "    </tr>\n",
              "    <tr>\n",
              "      <th>3</th>\n",
              "      <td>0cc2df48-7cf4-4e39-9de9-19797f9b38cc</td>\n",
              "      <td>660719</td>\n",
              "      <td>0</td>\n",
              "      <td>0</td>\n",
              "      <td>0</td>\n",
              "      <td>1.0</td>\n",
              "      <td>305</td>\n",
              "      <td>1.0</td>\n",
              "      <td>0</td>\n",
              "      <td>0</td>\n",
              "      <td>...</td>\n",
              "      <td>1</td>\n",
              "      <td>0</td>\n",
              "      <td>0</td>\n",
              "      <td>0</td>\n",
              "      <td>0</td>\n",
              "      <td>0</td>\n",
              "      <td>0</td>\n",
              "      <td>1</td>\n",
              "      <td>1</td>\n",
              "      <td>0</td>\n",
              "    </tr>\n",
              "    <tr>\n",
              "      <th>4</th>\n",
              "      <td>3256f628-e534-4826-9d63-4a8b88782852</td>\n",
              "      <td>660681</td>\n",
              "      <td>0</td>\n",
              "      <td>0</td>\n",
              "      <td>1</td>\n",
              "      <td>2.0</td>\n",
              "      <td>1428</td>\n",
              "      <td>1.0</td>\n",
              "      <td>0</td>\n",
              "      <td>0</td>\n",
              "      <td>...</td>\n",
              "      <td>1</td>\n",
              "      <td>0</td>\n",
              "      <td>0</td>\n",
              "      <td>0</td>\n",
              "      <td>0</td>\n",
              "      <td>0</td>\n",
              "      <td>0</td>\n",
              "      <td>0</td>\n",
              "      <td>0</td>\n",
              "      <td>1</td>\n",
              "    </tr>\n",
              "  </tbody>\n",
              "</table>\n",
              "<p>5 rows × 56 columns</p>\n",
              "</div>\n",
              "      <button class=\"colab-df-convert\" onclick=\"convertToInteractive('df-0e0b75d6-9129-4aa9-8bc3-85316ecd6d67')\"\n",
              "              title=\"Convert this dataframe to an interactive table.\"\n",
              "              style=\"display:none;\">\n",
              "        \n",
              "  <svg xmlns=\"http://www.w3.org/2000/svg\" height=\"24px\"viewBox=\"0 0 24 24\"\n",
              "       width=\"24px\">\n",
              "    <path d=\"M0 0h24v24H0V0z\" fill=\"none\"/>\n",
              "    <path d=\"M18.56 5.44l.94 2.06.94-2.06 2.06-.94-2.06-.94-.94-2.06-.94 2.06-2.06.94zm-11 1L8.5 8.5l.94-2.06 2.06-.94-2.06-.94L8.5 2.5l-.94 2.06-2.06.94zm10 10l.94 2.06.94-2.06 2.06-.94-2.06-.94-.94-2.06-.94 2.06-2.06.94z\"/><path d=\"M17.41 7.96l-1.37-1.37c-.4-.4-.92-.59-1.43-.59-.52 0-1.04.2-1.43.59L10.3 9.45l-7.72 7.72c-.78.78-.78 2.05 0 2.83L4 21.41c.39.39.9.59 1.41.59.51 0 1.02-.2 1.41-.59l7.78-7.78 2.81-2.81c.8-.78.8-2.07 0-2.86zM5.41 20L4 18.59l7.72-7.72 1.47 1.35L5.41 20z\"/>\n",
              "  </svg>\n",
              "      </button>\n",
              "      \n",
              "  <style>\n",
              "    .colab-df-container {\n",
              "      display:flex;\n",
              "      flex-wrap:wrap;\n",
              "      gap: 12px;\n",
              "    }\n",
              "\n",
              "    .colab-df-convert {\n",
              "      background-color: #E8F0FE;\n",
              "      border: none;\n",
              "      border-radius: 50%;\n",
              "      cursor: pointer;\n",
              "      display: none;\n",
              "      fill: #1967D2;\n",
              "      height: 32px;\n",
              "      padding: 0 0 0 0;\n",
              "      width: 32px;\n",
              "    }\n",
              "\n",
              "    .colab-df-convert:hover {\n",
              "      background-color: #E2EBFA;\n",
              "      box-shadow: 0px 1px 2px rgba(60, 64, 67, 0.3), 0px 1px 3px 1px rgba(60, 64, 67, 0.15);\n",
              "      fill: #174EA6;\n",
              "    }\n",
              "\n",
              "    [theme=dark] .colab-df-convert {\n",
              "      background-color: #3B4455;\n",
              "      fill: #D2E3FC;\n",
              "    }\n",
              "\n",
              "    [theme=dark] .colab-df-convert:hover {\n",
              "      background-color: #434B5C;\n",
              "      box-shadow: 0px 1px 3px 1px rgba(0, 0, 0, 0.15);\n",
              "      filter: drop-shadow(0px 1px 2px rgba(0, 0, 0, 0.3));\n",
              "      fill: #FFFFFF;\n",
              "    }\n",
              "  </style>\n",
              "\n",
              "      <script>\n",
              "        const buttonEl =\n",
              "          document.querySelector('#df-0e0b75d6-9129-4aa9-8bc3-85316ecd6d67 button.colab-df-convert');\n",
              "        buttonEl.style.display =\n",
              "          google.colab.kernel.accessAllowed ? 'block' : 'none';\n",
              "\n",
              "        async function convertToInteractive(key) {\n",
              "          const element = document.querySelector('#df-0e0b75d6-9129-4aa9-8bc3-85316ecd6d67');\n",
              "          const dataTable =\n",
              "            await google.colab.kernel.invokeFunction('convertToInteractive',\n",
              "                                                     [key], {});\n",
              "          if (!dataTable) return;\n",
              "\n",
              "          const docLinkHtml = 'Like what you see? Visit the ' +\n",
              "            '<a target=\"_blank\" href=https://colab.research.google.com/notebooks/data_table.ipynb>data table notebook</a>'\n",
              "            + ' to learn more about interactive tables.';\n",
              "          element.innerHTML = '';\n",
              "          dataTable['output_type'] = 'display_data';\n",
              "          await google.colab.output.renderOutput(dataTable, element);\n",
              "          const docLink = document.createElement('div');\n",
              "          docLink.innerHTML = docLinkHtml;\n",
              "          element.appendChild(docLink);\n",
              "        }\n",
              "      </script>\n",
              "    </div>\n",
              "  </div>\n",
              "  "
            ]
          },
          "metadata": {},
          "execution_count": 65
        }
      ]
    },
    {
      "cell_type": "code",
      "source": [
        "# creating some more dummy var.:\n",
        "lp = pd.get_dummies(leads2['Lead Profile'],drop_first = True)"
      ],
      "metadata": {
        "id": "98QjJRrC4L0R"
      },
      "execution_count": 66,
      "outputs": []
    },
    {
      "cell_type": "code",
      "source": [
        "# Adding this to dataframe\n",
        "leads2 = pd.concat([leads2, lp], axis=1)\n",
        "\n",
        "# Dropping original categorical var.\n",
        "leads2 = leads2.drop(['Lead Profile'], axis=1)\n",
        "\n",
        "leads2.head()"
      ],
      "metadata": {
        "id": "1U0Gj6Jz4Nk1",
        "outputId": "7856ba6e-c7e6-4878-adc8-ac5965bfdc6f",
        "colab": {
          "base_uri": "https://localhost:8080/",
          "height": 612
        }
      },
      "execution_count": 67,
      "outputs": [
        {
          "output_type": "execute_result",
          "data": {
            "text/plain": [
              "                            Prospect ID  Lead Number  Do Not Email  \\\n",
              "0  7927b2df-8bba-4d29-b9a2-b6e0beafe620       660737             0   \n",
              "1  2a272436-5132-4136-86fa-dcc88c88f482       660728             0   \n",
              "2  8cc8c611-a219-4f35-ad23-fdfd2656bd8a       660727             0   \n",
              "3  0cc2df48-7cf4-4e39-9de9-19797f9b38cc       660719             0   \n",
              "4  3256f628-e534-4826-9d63-4a8b88782852       660681             0   \n",
              "\n",
              "   Do Not Call  Converted  TotalVisits  Total Time Spent on Website  \\\n",
              "0            0          0          0.0                            0   \n",
              "1            0          0          5.0                          674   \n",
              "2            0          1          2.0                         1532   \n",
              "3            0          0          1.0                          305   \n",
              "4            0          1          2.0                         1428   \n",
              "\n",
              "   Page Views Per Visit  Search  Newspaper Article  ...  \\\n",
              "0                   0.0       0                  0  ...   \n",
              "1                   2.5       0                  0  ...   \n",
              "2                   2.0       0                  0  ...   \n",
              "3                   1.0       0                  0  ...   \n",
              "4                   1.0       0                  0  ...   \n",
              "\n",
              "   What matters most to you in choosing a course_Other  \\\n",
              "0                                                  0     \n",
              "1                                                  0     \n",
              "2                                                  0     \n",
              "3                                                  0     \n",
              "4                                                  0     \n",
              "\n",
              "   Specialization_Finance Management  \\\n",
              "0                                  0   \n",
              "1                                  0   \n",
              "2                                  0   \n",
              "3                                  0   \n",
              "4                                  0   \n",
              "\n",
              "   Specialization_Human Resource Management  \\\n",
              "0                                         0   \n",
              "1                                         0   \n",
              "2                                         0   \n",
              "3                                         0   \n",
              "4                                         0   \n",
              "\n",
              "   Specialization_Marketing Management Specialization_Other  Tags_Ringing  \\\n",
              "0                                    0                    0             0   \n",
              "1                                    0                    0             1   \n",
              "2                                    0                    1             0   \n",
              "3                                    0                    1             1   \n",
              "4                                    0                    0             0   \n",
              "\n",
              "  Tags_Will revert after reading the email  Other  Other Leads  Potential Lead  \n",
              "0                                        0      0            0               0  \n",
              "1                                        0      0            0               0  \n",
              "2                                        1      0            0               1  \n",
              "3                                        0      0            0               0  \n",
              "4                                        1      0            0               0  \n",
              "\n",
              "[5 rows x 58 columns]"
            ],
            "text/html": [
              "\n",
              "  <div id=\"df-2e65d0ac-8f06-42c2-b411-37a1c178b392\">\n",
              "    <div class=\"colab-df-container\">\n",
              "      <div>\n",
              "<style scoped>\n",
              "    .dataframe tbody tr th:only-of-type {\n",
              "        vertical-align: middle;\n",
              "    }\n",
              "\n",
              "    .dataframe tbody tr th {\n",
              "        vertical-align: top;\n",
              "    }\n",
              "\n",
              "    .dataframe thead th {\n",
              "        text-align: right;\n",
              "    }\n",
              "</style>\n",
              "<table border=\"1\" class=\"dataframe\">\n",
              "  <thead>\n",
              "    <tr style=\"text-align: right;\">\n",
              "      <th></th>\n",
              "      <th>Prospect ID</th>\n",
              "      <th>Lead Number</th>\n",
              "      <th>Do Not Email</th>\n",
              "      <th>Do Not Call</th>\n",
              "      <th>Converted</th>\n",
              "      <th>TotalVisits</th>\n",
              "      <th>Total Time Spent on Website</th>\n",
              "      <th>Page Views Per Visit</th>\n",
              "      <th>Search</th>\n",
              "      <th>Newspaper Article</th>\n",
              "      <th>...</th>\n",
              "      <th>What matters most to you in choosing a course_Other</th>\n",
              "      <th>Specialization_Finance Management</th>\n",
              "      <th>Specialization_Human Resource Management</th>\n",
              "      <th>Specialization_Marketing Management</th>\n",
              "      <th>Specialization_Other</th>\n",
              "      <th>Tags_Ringing</th>\n",
              "      <th>Tags_Will revert after reading the email</th>\n",
              "      <th>Other</th>\n",
              "      <th>Other Leads</th>\n",
              "      <th>Potential Lead</th>\n",
              "    </tr>\n",
              "  </thead>\n",
              "  <tbody>\n",
              "    <tr>\n",
              "      <th>0</th>\n",
              "      <td>7927b2df-8bba-4d29-b9a2-b6e0beafe620</td>\n",
              "      <td>660737</td>\n",
              "      <td>0</td>\n",
              "      <td>0</td>\n",
              "      <td>0</td>\n",
              "      <td>0.0</td>\n",
              "      <td>0</td>\n",
              "      <td>0.0</td>\n",
              "      <td>0</td>\n",
              "      <td>0</td>\n",
              "      <td>...</td>\n",
              "      <td>0</td>\n",
              "      <td>0</td>\n",
              "      <td>0</td>\n",
              "      <td>0</td>\n",
              "      <td>0</td>\n",
              "      <td>0</td>\n",
              "      <td>0</td>\n",
              "      <td>0</td>\n",
              "      <td>0</td>\n",
              "      <td>0</td>\n",
              "    </tr>\n",
              "    <tr>\n",
              "      <th>1</th>\n",
              "      <td>2a272436-5132-4136-86fa-dcc88c88f482</td>\n",
              "      <td>660728</td>\n",
              "      <td>0</td>\n",
              "      <td>0</td>\n",
              "      <td>0</td>\n",
              "      <td>5.0</td>\n",
              "      <td>674</td>\n",
              "      <td>2.5</td>\n",
              "      <td>0</td>\n",
              "      <td>0</td>\n",
              "      <td>...</td>\n",
              "      <td>0</td>\n",
              "      <td>0</td>\n",
              "      <td>0</td>\n",
              "      <td>0</td>\n",
              "      <td>0</td>\n",
              "      <td>1</td>\n",
              "      <td>0</td>\n",
              "      <td>0</td>\n",
              "      <td>0</td>\n",
              "      <td>0</td>\n",
              "    </tr>\n",
              "    <tr>\n",
              "      <th>2</th>\n",
              "      <td>8cc8c611-a219-4f35-ad23-fdfd2656bd8a</td>\n",
              "      <td>660727</td>\n",
              "      <td>0</td>\n",
              "      <td>0</td>\n",
              "      <td>1</td>\n",
              "      <td>2.0</td>\n",
              "      <td>1532</td>\n",
              "      <td>2.0</td>\n",
              "      <td>0</td>\n",
              "      <td>0</td>\n",
              "      <td>...</td>\n",
              "      <td>0</td>\n",
              "      <td>0</td>\n",
              "      <td>0</td>\n",
              "      <td>0</td>\n",
              "      <td>1</td>\n",
              "      <td>0</td>\n",
              "      <td>1</td>\n",
              "      <td>0</td>\n",
              "      <td>0</td>\n",
              "      <td>1</td>\n",
              "    </tr>\n",
              "    <tr>\n",
              "      <th>3</th>\n",
              "      <td>0cc2df48-7cf4-4e39-9de9-19797f9b38cc</td>\n",
              "      <td>660719</td>\n",
              "      <td>0</td>\n",
              "      <td>0</td>\n",
              "      <td>0</td>\n",
              "      <td>1.0</td>\n",
              "      <td>305</td>\n",
              "      <td>1.0</td>\n",
              "      <td>0</td>\n",
              "      <td>0</td>\n",
              "      <td>...</td>\n",
              "      <td>0</td>\n",
              "      <td>0</td>\n",
              "      <td>0</td>\n",
              "      <td>0</td>\n",
              "      <td>1</td>\n",
              "      <td>1</td>\n",
              "      <td>0</td>\n",
              "      <td>0</td>\n",
              "      <td>0</td>\n",
              "      <td>0</td>\n",
              "    </tr>\n",
              "    <tr>\n",
              "      <th>4</th>\n",
              "      <td>3256f628-e534-4826-9d63-4a8b88782852</td>\n",
              "      <td>660681</td>\n",
              "      <td>0</td>\n",
              "      <td>0</td>\n",
              "      <td>1</td>\n",
              "      <td>2.0</td>\n",
              "      <td>1428</td>\n",
              "      <td>1.0</td>\n",
              "      <td>0</td>\n",
              "      <td>0</td>\n",
              "      <td>...</td>\n",
              "      <td>0</td>\n",
              "      <td>0</td>\n",
              "      <td>0</td>\n",
              "      <td>0</td>\n",
              "      <td>0</td>\n",
              "      <td>0</td>\n",
              "      <td>1</td>\n",
              "      <td>0</td>\n",
              "      <td>0</td>\n",
              "      <td>0</td>\n",
              "    </tr>\n",
              "  </tbody>\n",
              "</table>\n",
              "<p>5 rows × 58 columns</p>\n",
              "</div>\n",
              "      <button class=\"colab-df-convert\" onclick=\"convertToInteractive('df-2e65d0ac-8f06-42c2-b411-37a1c178b392')\"\n",
              "              title=\"Convert this dataframe to an interactive table.\"\n",
              "              style=\"display:none;\">\n",
              "        \n",
              "  <svg xmlns=\"http://www.w3.org/2000/svg\" height=\"24px\"viewBox=\"0 0 24 24\"\n",
              "       width=\"24px\">\n",
              "    <path d=\"M0 0h24v24H0V0z\" fill=\"none\"/>\n",
              "    <path d=\"M18.56 5.44l.94 2.06.94-2.06 2.06-.94-2.06-.94-.94-2.06-.94 2.06-2.06.94zm-11 1L8.5 8.5l.94-2.06 2.06-.94-2.06-.94L8.5 2.5l-.94 2.06-2.06.94zm10 10l.94 2.06.94-2.06 2.06-.94-2.06-.94-.94-2.06-.94 2.06-2.06.94z\"/><path d=\"M17.41 7.96l-1.37-1.37c-.4-.4-.92-.59-1.43-.59-.52 0-1.04.2-1.43.59L10.3 9.45l-7.72 7.72c-.78.78-.78 2.05 0 2.83L4 21.41c.39.39.9.59 1.41.59.51 0 1.02-.2 1.41-.59l7.78-7.78 2.81-2.81c.8-.78.8-2.07 0-2.86zM5.41 20L4 18.59l7.72-7.72 1.47 1.35L5.41 20z\"/>\n",
              "  </svg>\n",
              "      </button>\n",
              "      \n",
              "  <style>\n",
              "    .colab-df-container {\n",
              "      display:flex;\n",
              "      flex-wrap:wrap;\n",
              "      gap: 12px;\n",
              "    }\n",
              "\n",
              "    .colab-df-convert {\n",
              "      background-color: #E8F0FE;\n",
              "      border: none;\n",
              "      border-radius: 50%;\n",
              "      cursor: pointer;\n",
              "      display: none;\n",
              "      fill: #1967D2;\n",
              "      height: 32px;\n",
              "      padding: 0 0 0 0;\n",
              "      width: 32px;\n",
              "    }\n",
              "\n",
              "    .colab-df-convert:hover {\n",
              "      background-color: #E2EBFA;\n",
              "      box-shadow: 0px 1px 2px rgba(60, 64, 67, 0.3), 0px 1px 3px 1px rgba(60, 64, 67, 0.15);\n",
              "      fill: #174EA6;\n",
              "    }\n",
              "\n",
              "    [theme=dark] .colab-df-convert {\n",
              "      background-color: #3B4455;\n",
              "      fill: #D2E3FC;\n",
              "    }\n",
              "\n",
              "    [theme=dark] .colab-df-convert:hover {\n",
              "      background-color: #434B5C;\n",
              "      box-shadow: 0px 1px 3px 1px rgba(0, 0, 0, 0.15);\n",
              "      filter: drop-shadow(0px 1px 2px rgba(0, 0, 0, 0.3));\n",
              "      fill: #FFFFFF;\n",
              "    }\n",
              "  </style>\n",
              "\n",
              "      <script>\n",
              "        const buttonEl =\n",
              "          document.querySelector('#df-2e65d0ac-8f06-42c2-b411-37a1c178b392 button.colab-df-convert');\n",
              "        buttonEl.style.display =\n",
              "          google.colab.kernel.accessAllowed ? 'block' : 'none';\n",
              "\n",
              "        async function convertToInteractive(key) {\n",
              "          const element = document.querySelector('#df-2e65d0ac-8f06-42c2-b411-37a1c178b392');\n",
              "          const dataTable =\n",
              "            await google.colab.kernel.invokeFunction('convertToInteractive',\n",
              "                                                     [key], {});\n",
              "          if (!dataTable) return;\n",
              "\n",
              "          const docLinkHtml = 'Like what you see? Visit the ' +\n",
              "            '<a target=\"_blank\" href=https://colab.research.google.com/notebooks/data_table.ipynb>data table notebook</a>'\n",
              "            + ' to learn more about interactive tables.';\n",
              "          element.innerHTML = '';\n",
              "          dataTable['output_type'] = 'display_data';\n",
              "          await google.colab.output.renderOutput(dataTable, element);\n",
              "          const docLink = document.createElement('div');\n",
              "          docLink.innerHTML = docLinkHtml;\n",
              "          element.appendChild(docLink);\n",
              "        }\n",
              "      </script>\n",
              "    </div>\n",
              "  </div>\n",
              "  "
            ]
          },
          "metadata": {},
          "execution_count": 67
        }
      ]
    },
    {
      "cell_type": "code",
      "source": [
        "# creating some more dummy var.:\n",
        "cty = pd.get_dummies(leads2['City'],drop_first = True)"
      ],
      "metadata": {
        "id": "3EraraFD8j99"
      },
      "execution_count": 68,
      "outputs": []
    },
    {
      "cell_type": "code",
      "source": [
        "# Adding this to dataframe\n",
        "leads2 = pd.concat([leads2, cty], axis=1)\n",
        "\n",
        "# Dropping original categorical var.\n",
        "leads2 = leads2.drop(['City'], axis=1)\n",
        "\n",
        "leads2.head()"
      ],
      "metadata": {
        "id": "p2Czqjyj8kCt",
        "outputId": "ee3368ca-411f-419d-b0f2-e3b593af3521",
        "colab": {
          "base_uri": "https://localhost:8080/",
          "height": 612
        }
      },
      "execution_count": 69,
      "outputs": [
        {
          "output_type": "execute_result",
          "data": {
            "text/plain": [
              "                            Prospect ID  Lead Number  Do Not Email  \\\n",
              "0  7927b2df-8bba-4d29-b9a2-b6e0beafe620       660737             0   \n",
              "1  2a272436-5132-4136-86fa-dcc88c88f482       660728             0   \n",
              "2  8cc8c611-a219-4f35-ad23-fdfd2656bd8a       660727             0   \n",
              "3  0cc2df48-7cf4-4e39-9de9-19797f9b38cc       660719             0   \n",
              "4  3256f628-e534-4826-9d63-4a8b88782852       660681             0   \n",
              "\n",
              "   Do Not Call  Converted  TotalVisits  Total Time Spent on Website  \\\n",
              "0            0          0          0.0                            0   \n",
              "1            0          0          5.0                          674   \n",
              "2            0          1          2.0                         1532   \n",
              "3            0          0          1.0                          305   \n",
              "4            0          1          2.0                         1428   \n",
              "\n",
              "   Page Views Per Visit  Search  Newspaper Article  ...  \\\n",
              "0                   0.0       0                  0  ...   \n",
              "1                   2.5       0                  0  ...   \n",
              "2                   2.0       0                  0  ...   \n",
              "3                   1.0       0                  0  ...   \n",
              "4                   1.0       0                  0  ...   \n",
              "\n",
              "   Specialization_Marketing Management  Specialization_Other  Tags_Ringing  \\\n",
              "0                                    0                     0             0   \n",
              "1                                    0                     0             1   \n",
              "2                                    0                     1             0   \n",
              "3                                    0                     1             1   \n",
              "4                                    0                     0             0   \n",
              "\n",
              "   Tags_Will revert after reading the email  Other Other Leads  \\\n",
              "0                                         0      0           0   \n",
              "1                                         0      0           0   \n",
              "2                                         1      0           0   \n",
              "3                                         0      0           0   \n",
              "4                                         1      0           0   \n",
              "\n",
              "   Potential Lead  Other  Select  Thane & Outskirts  \n",
              "0               0      0       1                  0  \n",
              "1               0      0       1                  0  \n",
              "2               1      0       0                  0  \n",
              "3               0      0       0                  0  \n",
              "4               0      0       0                  0  \n",
              "\n",
              "[5 rows x 60 columns]"
            ],
            "text/html": [
              "\n",
              "  <div id=\"df-8e4f2e02-c2c7-4a5b-802d-fd71a8594789\">\n",
              "    <div class=\"colab-df-container\">\n",
              "      <div>\n",
              "<style scoped>\n",
              "    .dataframe tbody tr th:only-of-type {\n",
              "        vertical-align: middle;\n",
              "    }\n",
              "\n",
              "    .dataframe tbody tr th {\n",
              "        vertical-align: top;\n",
              "    }\n",
              "\n",
              "    .dataframe thead th {\n",
              "        text-align: right;\n",
              "    }\n",
              "</style>\n",
              "<table border=\"1\" class=\"dataframe\">\n",
              "  <thead>\n",
              "    <tr style=\"text-align: right;\">\n",
              "      <th></th>\n",
              "      <th>Prospect ID</th>\n",
              "      <th>Lead Number</th>\n",
              "      <th>Do Not Email</th>\n",
              "      <th>Do Not Call</th>\n",
              "      <th>Converted</th>\n",
              "      <th>TotalVisits</th>\n",
              "      <th>Total Time Spent on Website</th>\n",
              "      <th>Page Views Per Visit</th>\n",
              "      <th>Search</th>\n",
              "      <th>Newspaper Article</th>\n",
              "      <th>...</th>\n",
              "      <th>Specialization_Marketing Management</th>\n",
              "      <th>Specialization_Other</th>\n",
              "      <th>Tags_Ringing</th>\n",
              "      <th>Tags_Will revert after reading the email</th>\n",
              "      <th>Other</th>\n",
              "      <th>Other Leads</th>\n",
              "      <th>Potential Lead</th>\n",
              "      <th>Other</th>\n",
              "      <th>Select</th>\n",
              "      <th>Thane &amp; Outskirts</th>\n",
              "    </tr>\n",
              "  </thead>\n",
              "  <tbody>\n",
              "    <tr>\n",
              "      <th>0</th>\n",
              "      <td>7927b2df-8bba-4d29-b9a2-b6e0beafe620</td>\n",
              "      <td>660737</td>\n",
              "      <td>0</td>\n",
              "      <td>0</td>\n",
              "      <td>0</td>\n",
              "      <td>0.0</td>\n",
              "      <td>0</td>\n",
              "      <td>0.0</td>\n",
              "      <td>0</td>\n",
              "      <td>0</td>\n",
              "      <td>...</td>\n",
              "      <td>0</td>\n",
              "      <td>0</td>\n",
              "      <td>0</td>\n",
              "      <td>0</td>\n",
              "      <td>0</td>\n",
              "      <td>0</td>\n",
              "      <td>0</td>\n",
              "      <td>0</td>\n",
              "      <td>1</td>\n",
              "      <td>0</td>\n",
              "    </tr>\n",
              "    <tr>\n",
              "      <th>1</th>\n",
              "      <td>2a272436-5132-4136-86fa-dcc88c88f482</td>\n",
              "      <td>660728</td>\n",
              "      <td>0</td>\n",
              "      <td>0</td>\n",
              "      <td>0</td>\n",
              "      <td>5.0</td>\n",
              "      <td>674</td>\n",
              "      <td>2.5</td>\n",
              "      <td>0</td>\n",
              "      <td>0</td>\n",
              "      <td>...</td>\n",
              "      <td>0</td>\n",
              "      <td>0</td>\n",
              "      <td>1</td>\n",
              "      <td>0</td>\n",
              "      <td>0</td>\n",
              "      <td>0</td>\n",
              "      <td>0</td>\n",
              "      <td>0</td>\n",
              "      <td>1</td>\n",
              "      <td>0</td>\n",
              "    </tr>\n",
              "    <tr>\n",
              "      <th>2</th>\n",
              "      <td>8cc8c611-a219-4f35-ad23-fdfd2656bd8a</td>\n",
              "      <td>660727</td>\n",
              "      <td>0</td>\n",
              "      <td>0</td>\n",
              "      <td>1</td>\n",
              "      <td>2.0</td>\n",
              "      <td>1532</td>\n",
              "      <td>2.0</td>\n",
              "      <td>0</td>\n",
              "      <td>0</td>\n",
              "      <td>...</td>\n",
              "      <td>0</td>\n",
              "      <td>1</td>\n",
              "      <td>0</td>\n",
              "      <td>1</td>\n",
              "      <td>0</td>\n",
              "      <td>0</td>\n",
              "      <td>1</td>\n",
              "      <td>0</td>\n",
              "      <td>0</td>\n",
              "      <td>0</td>\n",
              "    </tr>\n",
              "    <tr>\n",
              "      <th>3</th>\n",
              "      <td>0cc2df48-7cf4-4e39-9de9-19797f9b38cc</td>\n",
              "      <td>660719</td>\n",
              "      <td>0</td>\n",
              "      <td>0</td>\n",
              "      <td>0</td>\n",
              "      <td>1.0</td>\n",
              "      <td>305</td>\n",
              "      <td>1.0</td>\n",
              "      <td>0</td>\n",
              "      <td>0</td>\n",
              "      <td>...</td>\n",
              "      <td>0</td>\n",
              "      <td>1</td>\n",
              "      <td>1</td>\n",
              "      <td>0</td>\n",
              "      <td>0</td>\n",
              "      <td>0</td>\n",
              "      <td>0</td>\n",
              "      <td>0</td>\n",
              "      <td>0</td>\n",
              "      <td>0</td>\n",
              "    </tr>\n",
              "    <tr>\n",
              "      <th>4</th>\n",
              "      <td>3256f628-e534-4826-9d63-4a8b88782852</td>\n",
              "      <td>660681</td>\n",
              "      <td>0</td>\n",
              "      <td>0</td>\n",
              "      <td>1</td>\n",
              "      <td>2.0</td>\n",
              "      <td>1428</td>\n",
              "      <td>1.0</td>\n",
              "      <td>0</td>\n",
              "      <td>0</td>\n",
              "      <td>...</td>\n",
              "      <td>0</td>\n",
              "      <td>0</td>\n",
              "      <td>0</td>\n",
              "      <td>1</td>\n",
              "      <td>0</td>\n",
              "      <td>0</td>\n",
              "      <td>0</td>\n",
              "      <td>0</td>\n",
              "      <td>0</td>\n",
              "      <td>0</td>\n",
              "    </tr>\n",
              "  </tbody>\n",
              "</table>\n",
              "<p>5 rows × 60 columns</p>\n",
              "</div>\n",
              "      <button class=\"colab-df-convert\" onclick=\"convertToInteractive('df-8e4f2e02-c2c7-4a5b-802d-fd71a8594789')\"\n",
              "              title=\"Convert this dataframe to an interactive table.\"\n",
              "              style=\"display:none;\">\n",
              "        \n",
              "  <svg xmlns=\"http://www.w3.org/2000/svg\" height=\"24px\"viewBox=\"0 0 24 24\"\n",
              "       width=\"24px\">\n",
              "    <path d=\"M0 0h24v24H0V0z\" fill=\"none\"/>\n",
              "    <path d=\"M18.56 5.44l.94 2.06.94-2.06 2.06-.94-2.06-.94-.94-2.06-.94 2.06-2.06.94zm-11 1L8.5 8.5l.94-2.06 2.06-.94-2.06-.94L8.5 2.5l-.94 2.06-2.06.94zm10 10l.94 2.06.94-2.06 2.06-.94-2.06-.94-.94-2.06-.94 2.06-2.06.94z\"/><path d=\"M17.41 7.96l-1.37-1.37c-.4-.4-.92-.59-1.43-.59-.52 0-1.04.2-1.43.59L10.3 9.45l-7.72 7.72c-.78.78-.78 2.05 0 2.83L4 21.41c.39.39.9.59 1.41.59.51 0 1.02-.2 1.41-.59l7.78-7.78 2.81-2.81c.8-.78.8-2.07 0-2.86zM5.41 20L4 18.59l7.72-7.72 1.47 1.35L5.41 20z\"/>\n",
              "  </svg>\n",
              "      </button>\n",
              "      \n",
              "  <style>\n",
              "    .colab-df-container {\n",
              "      display:flex;\n",
              "      flex-wrap:wrap;\n",
              "      gap: 12px;\n",
              "    }\n",
              "\n",
              "    .colab-df-convert {\n",
              "      background-color: #E8F0FE;\n",
              "      border: none;\n",
              "      border-radius: 50%;\n",
              "      cursor: pointer;\n",
              "      display: none;\n",
              "      fill: #1967D2;\n",
              "      height: 32px;\n",
              "      padding: 0 0 0 0;\n",
              "      width: 32px;\n",
              "    }\n",
              "\n",
              "    .colab-df-convert:hover {\n",
              "      background-color: #E2EBFA;\n",
              "      box-shadow: 0px 1px 2px rgba(60, 64, 67, 0.3), 0px 1px 3px 1px rgba(60, 64, 67, 0.15);\n",
              "      fill: #174EA6;\n",
              "    }\n",
              "\n",
              "    [theme=dark] .colab-df-convert {\n",
              "      background-color: #3B4455;\n",
              "      fill: #D2E3FC;\n",
              "    }\n",
              "\n",
              "    [theme=dark] .colab-df-convert:hover {\n",
              "      background-color: #434B5C;\n",
              "      box-shadow: 0px 1px 3px 1px rgba(0, 0, 0, 0.15);\n",
              "      filter: drop-shadow(0px 1px 2px rgba(0, 0, 0, 0.3));\n",
              "      fill: #FFFFFF;\n",
              "    }\n",
              "  </style>\n",
              "\n",
              "      <script>\n",
              "        const buttonEl =\n",
              "          document.querySelector('#df-8e4f2e02-c2c7-4a5b-802d-fd71a8594789 button.colab-df-convert');\n",
              "        buttonEl.style.display =\n",
              "          google.colab.kernel.accessAllowed ? 'block' : 'none';\n",
              "\n",
              "        async function convertToInteractive(key) {\n",
              "          const element = document.querySelector('#df-8e4f2e02-c2c7-4a5b-802d-fd71a8594789');\n",
              "          const dataTable =\n",
              "            await google.colab.kernel.invokeFunction('convertToInteractive',\n",
              "                                                     [key], {});\n",
              "          if (!dataTable) return;\n",
              "\n",
              "          const docLinkHtml = 'Like what you see? Visit the ' +\n",
              "            '<a target=\"_blank\" href=https://colab.research.google.com/notebooks/data_table.ipynb>data table notebook</a>'\n",
              "            + ' to learn more about interactive tables.';\n",
              "          element.innerHTML = '';\n",
              "          dataTable['output_type'] = 'display_data';\n",
              "          await google.colab.output.renderOutput(dataTable, element);\n",
              "          const docLink = document.createElement('div');\n",
              "          docLink.innerHTML = docLinkHtml;\n",
              "          element.appendChild(docLink);\n",
              "        }\n",
              "      </script>\n",
              "    </div>\n",
              "  </div>\n",
              "  "
            ]
          },
          "metadata": {},
          "execution_count": 69
        }
      ]
    },
    {
      "cell_type": "code",
      "source": [
        ""
      ],
      "metadata": {
        "id": "6AGpDqllSgdw"
      },
      "execution_count": null,
      "outputs": []
    },
    {
      "cell_type": "code",
      "source": [
        "leads2.info()"
      ],
      "metadata": {
        "id": "Zxn6C_eQ4Nte",
        "outputId": "4d4f6943-2333-4474-b3de-e0c0cdda239d",
        "colab": {
          "base_uri": "https://localhost:8080/"
        }
      },
      "execution_count": 89,
      "outputs": [
        {
          "output_type": "stream",
          "name": "stdout",
          "text": [
            "<class 'pandas.core.frame.DataFrame'>\n",
            "RangeIndex: 9240 entries, 0 to 9239\n",
            "Data columns (total 62 columns):\n",
            " #   Column                                                                   Non-Null Count  Dtype  \n",
            "---  ------                                                                   --------------  -----  \n",
            " 0   Prospect ID                                                              9240 non-null   object \n",
            " 1   Lead Number                                                              9240 non-null   int64  \n",
            " 2   Do Not Email                                                             9240 non-null   int64  \n",
            " 3   Do Not Call                                                              9240 non-null   int64  \n",
            " 4   Converted                                                                9240 non-null   int64  \n",
            " 5   TotalVisits                                                              9240 non-null   float64\n",
            " 6   Total Time Spent on Website                                              9240 non-null   int64  \n",
            " 7   Page Views Per Visit                                                     9240 non-null   float64\n",
            " 8   Search                                                                   9240 non-null   int64  \n",
            " 9   Newspaper Article                                                        9240 non-null   int64  \n",
            " 10  X Education Forums                                                       9240 non-null   int64  \n",
            " 11  Newspaper                                                                9240 non-null   int64  \n",
            " 12  Digital Advertisement                                                    9240 non-null   int64  \n",
            " 13  Through Recommendations                                                  9240 non-null   int64  \n",
            " 14  A free copy of Mastering The Interview                                   9240 non-null   int64  \n",
            " 15  Lead Origin_Landing Page Submission                                      9240 non-null   uint8  \n",
            " 16  Lead Origin_Other                                                        9240 non-null   uint8  \n",
            " 17  Lead Source_Google                                                       9240 non-null   uint8  \n",
            " 18  Lead Source_Olark Chat                                                   9240 non-null   uint8  \n",
            " 19  Lead Source_Organic Search                                               9240 non-null   uint8  \n",
            " 20  Lead Source_Other                                                        9240 non-null   uint8  \n",
            " 21  Last Activity_Converted to Lead                                          9240 non-null   uint8  \n",
            " 22  Last Activity_Email Bounced                                              9240 non-null   uint8  \n",
            " 23  Last Activity_Email Link Clicked                                         9240 non-null   uint8  \n",
            " 24  Last Activity_Email Marked Spam                                          9240 non-null   uint8  \n",
            " 25  Last Activity_Email Opened                                               9240 non-null   uint8  \n",
            " 26  Last Activity_Email Received                                             9240 non-null   uint8  \n",
            " 27  Last Activity_Form Submitted on Website                                  9240 non-null   uint8  \n",
            " 28  Last Activity_Had a Phone Conversation                                   9240 non-null   uint8  \n",
            " 29  Last Activity_Olark Chat Conversation                                    9240 non-null   uint8  \n",
            " 30  Last Activity_Page Visited on Website                                    9240 non-null   uint8  \n",
            " 31  Last Activity_Resubscribed to emails                                     9240 non-null   uint8  \n",
            " 32  Last Activity_SMS Sent                                                   9240 non-null   uint8  \n",
            " 33  Last Activity_Unreachable                                                9240 non-null   uint8  \n",
            " 34  Last Activity_Unsubscribed                                               9240 non-null   uint8  \n",
            " 35  Last Activity_View in browser link Clicked                               9240 non-null   uint8  \n",
            " 36  Last Activity_Visited Booth in Tradeshow                                 9240 non-null   uint8  \n",
            " 37  Country_Other                                                            9240 non-null   uint8  \n",
            " 38  Country_United States                                                    9240 non-null   uint8  \n",
            " 39  Country_unknown                                                          9240 non-null   uint8  \n",
            " 40  What is your current occupation_Housewife                                9240 non-null   uint8  \n",
            " 41  What is your current occupation_Other                                    9240 non-null   uint8  \n",
            " 42  What is your current occupation_Student                                  9240 non-null   uint8  \n",
            " 43  What is your current occupation_Unemployed                               9240 non-null   uint8  \n",
            " 44  What is your current occupation_Working Professional                     9240 non-null   uint8  \n",
            " 45  What matters most to you in choosing a course_Flexibility & Convenience  9240 non-null   uint8  \n",
            " 46  What matters most to you in choosing a course_Other                      9240 non-null   uint8  \n",
            " 47  Specialization_Finance Management                                        9240 non-null   uint8  \n",
            " 48  Specialization_Human Resource Management                                 9240 non-null   uint8  \n",
            " 49  Specialization_Marketing Management                                      9240 non-null   uint8  \n",
            " 50  Specialization_Other                                                     9240 non-null   uint8  \n",
            " 51  Tags_Ringing                                                             9240 non-null   uint8  \n",
            " 52  Tags_Will revert after reading the email                                 9240 non-null   uint8  \n",
            " 53  Other                                                                    9240 non-null   uint8  \n",
            " 54  Other Leads                                                              9240 non-null   uint8  \n",
            " 55  Potential Lead                                                           9240 non-null   uint8  \n",
            " 56  Other                                                                    9240 non-null   uint8  \n",
            " 57  Select                                                                   9240 non-null   uint8  \n",
            " 58  Thane & Outskirts                                                        9240 non-null   uint8  \n",
            " 59  Modified                                                                 9240 non-null   uint8  \n",
            " 60  Other                                                                    9240 non-null   uint8  \n",
            " 61  SMS Sent                                                                 9240 non-null   uint8  \n",
            "dtypes: float64(2), int64(12), object(1), uint8(47)\n",
            "memory usage: 1.5+ MB\n"
          ]
        }
      ]
    },
    {
      "cell_type": "code",
      "source": [
        "leads2 = leads2.fillna(0)"
      ],
      "metadata": {
        "id": "ud4LVytc5DnV"
      },
      "execution_count": 71,
      "outputs": []
    },
    {
      "cell_type": "code",
      "source": [
        ""
      ],
      "metadata": {
        "id": "pULAiYb35Dr6"
      },
      "execution_count": null,
      "outputs": []
    },
    {
      "cell_type": "code",
      "source": [
        "# Data transformation\n",
        "leads2.Converted.value_counts(normalize=True)"
      ],
      "metadata": {
        "id": "pzS9OH40oY6n",
        "colab": {
          "base_uri": "https://localhost:8080/"
        },
        "outputId": "6807ee20-178a-414b-d55e-4b7272f83122"
      },
      "execution_count": 72,
      "outputs": [
        {
          "output_type": "execute_result",
          "data": {
            "text/plain": [
              "0    0.61461\n",
              "1    0.38539\n",
              "Name: Converted, dtype: float64"
            ]
          },
          "metadata": {},
          "execution_count": 72
        }
      ]
    },
    {
      "cell_type": "code",
      "source": [
        "# to count the occurence of a value in a column\n",
        "#data['column_name'].value_counts()[value]\n"
      ],
      "metadata": {
        "id": "x2htAr8lKYZv"
      },
      "execution_count": null,
      "outputs": []
    },
    {
      "cell_type": "code",
      "source": [
        "# To look at the heatmap for correlations:\n",
        "plt.figure(figsize =(10,6))\n",
        "sns.heatmap(X_train.corr(), annot=True, fmt='.3g')\n",
        "plt.show()\n"
      ],
      "metadata": {
        "colab": {
          "base_uri": "https://localhost:8080/",
          "height": 550
        },
        "id": "MVoCB2VFKYdW",
        "outputId": "740aa81d-5883-4cff-d5da-c09494d17539"
      },
      "execution_count": 188,
      "outputs": [
        {
          "output_type": "display_data",
          "data": {
            "text/plain": [
              "<Figure size 720x432 with 2 Axes>"
            ],
            "image/png": "[encoded data removed]"
          },
          "metadata": {
            "needs_background": "light"
          }
        }
      ]
    },
    {
      "cell_type": "code",
      "source": [
        "# To run first training model"
      ],
      "metadata": {
        "id": "LpvUOPhDKYgw"
      },
      "execution_count": null,
      "outputs": []
    },
    {
      "cell_type": "code",
      "source": [
        "#Test-Train Split"
      ],
      "metadata": {
        "id": "EBvRh-zff2Qs"
      },
      "execution_count": 90,
      "outputs": []
    },
    {
      "cell_type": "code",
      "source": [
        "from sklearn.model_selection import train_test_split"
      ],
      "metadata": {
        "id": "RdLP0b98f2Vg"
      },
      "execution_count": 73,
      "outputs": []
    },
    {
      "cell_type": "code",
      "source": [
        "# Putting feature variable to X\n",
        "X = leads2.drop(['Converted','Prospect ID'], axis=1)\n",
        "\n",
        "X.head()"
      ],
      "metadata": {
        "colab": {
          "base_uri": "https://localhost:8080/",
          "height": 369
        },
        "id": "J7ZXuEn-f2aO",
        "outputId": "7705899d-aad3-4f84-eff0-35bcadc4bb33"
      },
      "execution_count": 91,
      "outputs": [
        {
          "output_type": "execute_result",
          "data": {
            "text/plain": [
              "   Lead Number  Do Not Email  Do Not Call  TotalVisits  \\\n",
              "0       660737             0            0          0.0   \n",
              "1       660728             0            0          5.0   \n",
              "2       660727             0            0          2.0   \n",
              "3       660719             0            0          1.0   \n",
              "4       660681             0            0          2.0   \n",
              "\n",
              "   Total Time Spent on Website  Page Views Per Visit  Search  \\\n",
              "0                            0                   0.0       0   \n",
              "1                          674                   2.5       0   \n",
              "2                         1532                   2.0       0   \n",
              "3                          305                   1.0       0   \n",
              "4                         1428                   1.0       0   \n",
              "\n",
              "   Newspaper Article  X Education Forums  Newspaper  ...  \\\n",
              "0                  0                   0          0  ...   \n",
              "1                  0                   0          0  ...   \n",
              "2                  0                   0          0  ...   \n",
              "3                  0                   0          0  ...   \n",
              "4                  0                   0          0  ...   \n",
              "\n",
              "   Tags_Will revert after reading the email  Other  Other Leads  \\\n",
              "0                                         0      0            0   \n",
              "1                                         0      0            0   \n",
              "2                                         1      0            0   \n",
              "3                                         0      0            0   \n",
              "4                                         1      0            0   \n",
              "\n",
              "   Potential Lead  Other  Select  Thane & Outskirts  Modified  Other  SMS Sent  \n",
              "0               0      0       1                  0         1      0         0  \n",
              "1               0      0       1                  0         0      0         0  \n",
              "2               1      0       0                  0         0      0         0  \n",
              "3               0      0       0                  0         1      0         0  \n",
              "4               0      0       0                  0         1      0         0  \n",
              "\n",
              "[5 rows x 60 columns]"
            ],
            "text/html": [
              "\n",
              "  <div id=\"df-69784fa7-67d3-49b1-b52c-2198f5715b2e\">\n",
              "    <div class=\"colab-df-container\">\n",
              "      <div>\n",
              "<style scoped>\n",
              "    .dataframe tbody tr th:only-of-type {\n",
              "        vertical-align: middle;\n",
              "    }\n",
              "\n",
              "    .dataframe tbody tr th {\n",
              "        vertical-align: top;\n",
              "    }\n",
              "\n",
              "    .dataframe thead th {\n",
              "        text-align: right;\n",
              "    }\n",
              "</style>\n",
              "<table border=\"1\" class=\"dataframe\">\n",
              "  <thead>\n",
              "    <tr style=\"text-align: right;\">\n",
              "      <th></th>\n",
              "      <th>Lead Number</th>\n",
              "      <th>Do Not Email</th>\n",
              "      <th>Do Not Call</th>\n",
              "      <th>TotalVisits</th>\n",
              "      <th>Total Time Spent on Website</th>\n",
              "      <th>Page Views Per Visit</th>\n",
              "      <th>Search</th>\n",
              "      <th>Newspaper Article</th>\n",
              "      <th>X Education Forums</th>\n",
              "      <th>Newspaper</th>\n",
              "      <th>...</th>\n",
              "      <th>Tags_Will revert after reading the email</th>\n",
              "      <th>Other</th>\n",
              "      <th>Other Leads</th>\n",
              "      <th>Potential Lead</th>\n",
              "      <th>Other</th>\n",
              "      <th>Select</th>\n",
              "      <th>Thane &amp; Outskirts</th>\n",
              "      <th>Modified</th>\n",
              "      <th>Other</th>\n",
              "      <th>SMS Sent</th>\n",
              "    </tr>\n",
              "  </thead>\n",
              "  <tbody>\n",
              "    <tr>\n",
              "      <th>0</th>\n",
              "      <td>660737</td>\n",
              "      <td>0</td>\n",
              "      <td>0</td>\n",
              "      <td>0.0</td>\n",
              "      <td>0</td>\n",
              "      <td>0.0</td>\n",
              "      <td>0</td>\n",
              "      <td>0</td>\n",
              "      <td>0</td>\n",
              "      <td>0</td>\n",
              "      <td>...</td>\n",
              "      <td>0</td>\n",
              "      <td>0</td>\n",
              "      <td>0</td>\n",
              "      <td>0</td>\n",
              "      <td>0</td>\n",
              "      <td>1</td>\n",
              "      <td>0</td>\n",
              "      <td>1</td>\n",
              "      <td>0</td>\n",
              "      <td>0</td>\n",
              "    </tr>\n",
              "    <tr>\n",
              "      <th>1</th>\n",
              "      <td>660728</td>\n",
              "      <td>0</td>\n",
              "      <td>0</td>\n",
              "      <td>5.0</td>\n",
              "      <td>674</td>\n",
              "      <td>2.5</td>\n",
              "      <td>0</td>\n",
              "      <td>0</td>\n",
              "      <td>0</td>\n",
              "      <td>0</td>\n",
              "      <td>...</td>\n",
              "      <td>0</td>\n",
              "      <td>0</td>\n",
              "      <td>0</td>\n",
              "      <td>0</td>\n",
              "      <td>0</td>\n",
              "      <td>1</td>\n",
              "      <td>0</td>\n",
              "      <td>0</td>\n",
              "      <td>0</td>\n",
              "      <td>0</td>\n",
              "    </tr>\n",
              "    <tr>\n",
              "      <th>2</th>\n",
              "      <td>660727</td>\n",
              "      <td>0</td>\n",
              "      <td>0</td>\n",
              "      <td>2.0</td>\n",
              "      <td>1532</td>\n",
              "      <td>2.0</td>\n",
              "      <td>0</td>\n",
              "      <td>0</td>\n",
              "      <td>0</td>\n",
              "      <td>0</td>\n",
              "      <td>...</td>\n",
              "      <td>1</td>\n",
              "      <td>0</td>\n",
              "      <td>0</td>\n",
              "      <td>1</td>\n",
              "      <td>0</td>\n",
              "      <td>0</td>\n",
              "      <td>0</td>\n",
              "      <td>0</td>\n",
              "      <td>0</td>\n",
              "      <td>0</td>\n",
              "    </tr>\n",
              "    <tr>\n",
              "      <th>3</th>\n",
              "      <td>660719</td>\n",
              "      <td>0</td>\n",
              "      <td>0</td>\n",
              "      <td>1.0</td>\n",
              "      <td>305</td>\n",
              "      <td>1.0</td>\n",
              "      <td>0</td>\n",
              "      <td>0</td>\n",
              "      <td>0</td>\n",
              "      <td>0</td>\n",
              "      <td>...</td>\n",
              "      <td>0</td>\n",
              "      <td>0</td>\n",
              "      <td>0</td>\n",
              "      <td>0</td>\n",
              "      <td>0</td>\n",
              "      <td>0</td>\n",
              "      <td>0</td>\n",
              "      <td>1</td>\n",
              "      <td>0</td>\n",
              "      <td>0</td>\n",
              "    </tr>\n",
              "    <tr>\n",
              "      <th>4</th>\n",
              "      <td>660681</td>\n",
              "      <td>0</td>\n",
              "      <td>0</td>\n",
              "      <td>2.0</td>\n",
              "      <td>1428</td>\n",
              "      <td>1.0</td>\n",
              "      <td>0</td>\n",
              "      <td>0</td>\n",
              "      <td>0</td>\n",
              "      <td>0</td>\n",
              "      <td>...</td>\n",
              "      <td>1</td>\n",
              "      <td>0</td>\n",
              "      <td>0</td>\n",
              "      <td>0</td>\n",
              "      <td>0</td>\n",
              "      <td>0</td>\n",
              "      <td>0</td>\n",
              "      <td>1</td>\n",
              "      <td>0</td>\n",
              "      <td>0</td>\n",
              "    </tr>\n",
              "  </tbody>\n",
              "</table>\n",
              "<p>5 rows × 60 columns</p>\n",
              "</div>\n",
              "      <button class=\"colab-df-convert\" onclick=\"convertToInteractive('df-69784fa7-67d3-49b1-b52c-2198f5715b2e')\"\n",
              "              title=\"Convert this dataframe to an interactive table.\"\n",
              "              style=\"display:none;\">\n",
              "        \n",
              "  <svg xmlns=\"http://www.w3.org/2000/svg\" height=\"24px\"viewBox=\"0 0 24 24\"\n",
              "       width=\"24px\">\n",
              "    <path d=\"M0 0h24v24H0V0z\" fill=\"none\"/>\n",
              "    <path d=\"M18.56 5.44l.94 2.06.94-2.06 2.06-.94-2.06-.94-.94-2.06-.94 2.06-2.06.94zm-11 1L8.5 8.5l.94-2.06 2.06-.94-2.06-.94L8.5 2.5l-.94 2.06-2.06.94zm10 10l.94 2.06.94-2.06 2.06-.94-2.06-.94-.94-2.06-.94 2.06-2.06.94z\"/><path d=\"M17.41 7.96l-1.37-1.37c-.4-.4-.92-.59-1.43-.59-.52 0-1.04.2-1.43.59L10.3 9.45l-7.72 7.72c-.78.78-.78 2.05 0 2.83L4 21.41c.39.39.9.59 1.41.59.51 0 1.02-.2 1.41-.59l7.78-7.78 2.81-2.81c.8-.78.8-2.07 0-2.86zM5.41 20L4 18.59l7.72-7.72 1.47 1.35L5.41 20z\"/>\n",
              "  </svg>\n",
              "      </button>\n",
              "      \n",
              "  <style>\n",
              "    .colab-df-container {\n",
              "      display:flex;\n",
              "      flex-wrap:wrap;\n",
              "      gap: 12px;\n",
              "    }\n",
              "\n",
              "    .colab-df-convert {\n",
              "      background-color: #E8F0FE;\n",
              "      border: none;\n",
              "      border-radius: 50%;\n",
              "      cursor: pointer;\n",
              "      display: none;\n",
              "      fill: #1967D2;\n",
              "      height: 32px;\n",
              "      padding: 0 0 0 0;\n",
              "      width: 32px;\n",
              "    }\n",
              "\n",
              "    .colab-df-convert:hover {\n",
              "      background-color: #E2EBFA;\n",
              "      box-shadow: 0px 1px 2px rgba(60, 64, 67, 0.3), 0px 1px 3px 1px rgba(60, 64, 67, 0.15);\n",
              "      fill: #174EA6;\n",
              "    }\n",
              "\n",
              "    [theme=dark] .colab-df-convert {\n",
              "      background-color: #3B4455;\n",
              "      fill: #D2E3FC;\n",
              "    }\n",
              "\n",
              "    [theme=dark] .colab-df-convert:hover {\n",
              "      background-color: #434B5C;\n",
              "      box-shadow: 0px 1px 3px 1px rgba(0, 0, 0, 0.15);\n",
              "      filter: drop-shadow(0px 1px 2px rgba(0, 0, 0, 0.3));\n",
              "      fill: #FFFFFF;\n",
              "    }\n",
              "  </style>\n",
              "\n",
              "      <script>\n",
              "        const buttonEl =\n",
              "          document.querySelector('#df-69784fa7-67d3-49b1-b52c-2198f5715b2e button.colab-df-convert');\n",
              "        buttonEl.style.display =\n",
              "          google.colab.kernel.accessAllowed ? 'block' : 'none';\n",
              "\n",
              "        async function convertToInteractive(key) {\n",
              "          const element = document.querySelector('#df-69784fa7-67d3-49b1-b52c-2198f5715b2e');\n",
              "          const dataTable =\n",
              "            await google.colab.kernel.invokeFunction('convertToInteractive',\n",
              "                                                     [key], {});\n",
              "          if (!dataTable) return;\n",
              "\n",
              "          const docLinkHtml = 'Like what you see? Visit the ' +\n",
              "            '<a target=\"_blank\" href=https://colab.research.google.com/notebooks/data_table.ipynb>data table notebook</a>'\n",
              "            + ' to learn more about interactive tables.';\n",
              "          element.innerHTML = '';\n",
              "          dataTable['output_type'] = 'display_data';\n",
              "          await google.colab.output.renderOutput(dataTable, element);\n",
              "          const docLink = document.createElement('div');\n",
              "          docLink.innerHTML = docLinkHtml;\n",
              "          element.appendChild(docLink);\n",
              "        }\n",
              "      </script>\n",
              "    </div>\n",
              "  </div>\n",
              "  "
            ]
          },
          "metadata": {},
          "execution_count": 91
        }
      ]
    },
    {
      "cell_type": "code",
      "source": [
        "# Putting response variable to y\n",
        "y = leads2['Converted']\n",
        "\n",
        "y.head()"
      ],
      "metadata": {
        "colab": {
          "base_uri": "https://localhost:8080/"
        },
        "id": "9B76NwbCf2eE",
        "outputId": "b8a55856-8e29-4035-b491-36da663e87bd"
      },
      "execution_count": 92,
      "outputs": [
        {
          "output_type": "execute_result",
          "data": {
            "text/plain": [
              "0    0\n",
              "1    0\n",
              "2    1\n",
              "3    0\n",
              "4    1\n",
              "Name: Converted, dtype: int64"
            ]
          },
          "metadata": {},
          "execution_count": 92
        }
      ]
    },
    {
      "cell_type": "code",
      "source": [
        "# Splitting the data into train and test\n",
        "X_train, X_test, y_train, y_test = train_test_split(X, y, train_size=0.7, test_size=0.3, random_state=100)"
      ],
      "metadata": {
        "id": "wBPFwno5f2hw"
      },
      "execution_count": 93,
      "outputs": []
    },
    {
      "cell_type": "code",
      "source": [
        "#Feature Scaling"
      ],
      "metadata": {
        "id": "6j2a-3w5hEUB"
      },
      "execution_count": null,
      "outputs": []
    },
    {
      "cell_type": "code",
      "source": [
        "from sklearn.preprocessing import StandardScaler\n",
        "scaler = StandardScaler()\n",
        "\n",
        "X_train[['TotalVisits', 'Total Time Spent on Website','Page Views Per Visit']] = scaler.fit_transform(X_train[['TotalVisits', 'Total Time Spent on Website','Page Views Per Visit']])\n",
        "\n",
        "X_train.head()"
      ],
      "metadata": {
        "colab": {
          "base_uri": "https://localhost:8080/",
          "height": 369
        },
        "id": "U7jraDUphEXj",
        "outputId": "a4998567-6911-4d61-bd08-3a9e3538c72a"
      },
      "execution_count": 94,
      "outputs": [
        {
          "output_type": "execute_result",
          "data": {
            "text/plain": [
              "      Lead Number  Do Not Email  Do Not Call  TotalVisits  \\\n",
              "1871       641410             0            0    -0.645678   \n",
              "6795       597687             0            0     0.109111   \n",
              "3516       626825             0            0     0.297808   \n",
              "8105       587928             0            0     0.297808   \n",
              "3934       622366             0            0    -0.645678   \n",
              "\n",
              "      Total Time Spent on Website  Page Views Per Visit  Search  \\\n",
              "1871                    -0.885371             -1.062143       0   \n",
              "6795                     0.005716             -0.452487       0   \n",
              "3516                    -0.691418              0.083827       0   \n",
              "8105                     1.365219              1.229797       0   \n",
              "3934                    -0.885371             -1.062143       0   \n",
              "\n",
              "      Newspaper Article  X Education Forums  Newspaper  ...  \\\n",
              "1871                  0                   0          0  ...   \n",
              "6795                  0                   0          0  ...   \n",
              "3516                  0                   0          0  ...   \n",
              "8105                  0                   0          0  ...   \n",
              "3934                  0                   0          0  ...   \n",
              "\n",
              "      Tags_Will revert after reading the email  Other  Other Leads  \\\n",
              "1871                                         0      0            0   \n",
              "6795                                         0      0            0   \n",
              "3516                                         0      0            0   \n",
              "8105                                         0      0            0   \n",
              "3934                                         0      0            0   \n",
              "\n",
              "      Potential Lead  Other  Select  Thane & Outskirts  Modified  Other  \\\n",
              "1871               0      0       1                  0         0      0   \n",
              "6795               0      1       0                  0         0      0   \n",
              "3516               0      0       1                  0         0      0   \n",
              "8105               0      0       0                  0         0      0   \n",
              "3934               0      0       1                  0         1      0   \n",
              "\n",
              "      SMS Sent  \n",
              "1871         0  \n",
              "6795         0  \n",
              "3516         0  \n",
              "8105         1  \n",
              "3934         0  \n",
              "\n",
              "[5 rows x 60 columns]"
            ],
            "text/html": [
              "\n",
              "  <div id=\"df-23061520-7f98-4589-b643-50fc27cd6cfc\">\n",
              "    <div class=\"colab-df-container\">\n",
              "      <div>\n",
              "<style scoped>\n",
              "    .dataframe tbody tr th:only-of-type {\n",
              "        vertical-align: middle;\n",
              "    }\n",
              "\n",
              "    .dataframe tbody tr th {\n",
              "        vertical-align: top;\n",
              "    }\n",
              "\n",
              "    .dataframe thead th {\n",
              "        text-align: right;\n",
              "    }\n",
              "</style>\n",
              "<table border=\"1\" class=\"dataframe\">\n",
              "  <thead>\n",
              "    <tr style=\"text-align: right;\">\n",
              "      <th></th>\n",
              "      <th>Lead Number</th>\n",
              "      <th>Do Not Email</th>\n",
              "      <th>Do Not Call</th>\n",
              "      <th>TotalVisits</th>\n",
              "      <th>Total Time Spent on Website</th>\n",
              "      <th>Page Views Per Visit</th>\n",
              "      <th>Search</th>\n",
              "      <th>Newspaper Article</th>\n",
              "      <th>X Education Forums</th>\n",
              "      <th>Newspaper</th>\n",
              "      <th>...</th>\n",
              "      <th>Tags_Will revert after reading the email</th>\n",
              "      <th>Other</th>\n",
              "      <th>Other Leads</th>\n",
              "      <th>Potential Lead</th>\n",
              "      <th>Other</th>\n",
              "      <th>Select</th>\n",
              "      <th>Thane &amp; Outskirts</th>\n",
              "      <th>Modified</th>\n",
              "      <th>Other</th>\n",
              "      <th>SMS Sent</th>\n",
              "    </tr>\n",
              "  </thead>\n",
              "  <tbody>\n",
              "    <tr>\n",
              "      <th>1871</th>\n",
              "      <td>641410</td>\n",
              "      <td>0</td>\n",
              "      <td>0</td>\n",
              "      <td>-0.645678</td>\n",
              "      <td>-0.885371</td>\n",
              "      <td>-1.062143</td>\n",
              "      <td>0</td>\n",
              "      <td>0</td>\n",
              "      <td>0</td>\n",
              "      <td>0</td>\n",
              "      <td>...</td>\n",
              "      <td>0</td>\n",
              "      <td>0</td>\n",
              "      <td>0</td>\n",
              "      <td>0</td>\n",
              "      <td>0</td>\n",
              "      <td>1</td>\n",
              "      <td>0</td>\n",
              "      <td>0</td>\n",
              "      <td>0</td>\n",
              "      <td>0</td>\n",
              "    </tr>\n",
              "    <tr>\n",
              "      <th>6795</th>\n",
              "      <td>597687</td>\n",
              "      <td>0</td>\n",
              "      <td>0</td>\n",
              "      <td>0.109111</td>\n",
              "      <td>0.005716</td>\n",
              "      <td>-0.452487</td>\n",
              "      <td>0</td>\n",
              "      <td>0</td>\n",
              "      <td>0</td>\n",
              "      <td>0</td>\n",
              "      <td>...</td>\n",
              "      <td>0</td>\n",
              "      <td>0</td>\n",
              "      <td>0</td>\n",
              "      <td>0</td>\n",
              "      <td>1</td>\n",
              "      <td>0</td>\n",
              "      <td>0</td>\n",
              "      <td>0</td>\n",
              "      <td>0</td>\n",
              "      <td>0</td>\n",
              "    </tr>\n",
              "    <tr>\n",
              "      <th>3516</th>\n",
              "      <td>626825</td>\n",
              "      <td>0</td>\n",
              "      <td>0</td>\n",
              "      <td>0.297808</td>\n",
              "      <td>-0.691418</td>\n",
              "      <td>0.083827</td>\n",
              "      <td>0</td>\n",
              "      <td>0</td>\n",
              "      <td>0</td>\n",
              "      <td>0</td>\n",
              "      <td>...</td>\n",
              "      <td>0</td>\n",
              "      <td>0</td>\n",
              "      <td>0</td>\n",
              "      <td>0</td>\n",
              "      <td>0</td>\n",
              "      <td>1</td>\n",
              "      <td>0</td>\n",
              "      <td>0</td>\n",
              "      <td>0</td>\n",
              "      <td>0</td>\n",
              "    </tr>\n",
              "    <tr>\n",
              "      <th>8105</th>\n",
              "      <td>587928</td>\n",
              "      <td>0</td>\n",
              "      <td>0</td>\n",
              "      <td>0.297808</td>\n",
              "      <td>1.365219</td>\n",
              "      <td>1.229797</td>\n",
              "      <td>0</td>\n",
              "      <td>0</td>\n",
              "      <td>0</td>\n",
              "      <td>0</td>\n",
              "      <td>...</td>\n",
              "      <td>0</td>\n",
              "      <td>0</td>\n",
              "      <td>0</td>\n",
              "      <td>0</td>\n",
              "      <td>0</td>\n",
              "      <td>0</td>\n",
              "      <td>0</td>\n",
              "      <td>0</td>\n",
              "      <td>0</td>\n",
              "      <td>1</td>\n",
              "    </tr>\n",
              "    <tr>\n",
              "      <th>3934</th>\n",
              "      <td>622366</td>\n",
              "      <td>0</td>\n",
              "      <td>0</td>\n",
              "      <td>-0.645678</td>\n",
              "      <td>-0.885371</td>\n",
              "      <td>-1.062143</td>\n",
              "      <td>0</td>\n",
              "      <td>0</td>\n",
              "      <td>0</td>\n",
              "      <td>0</td>\n",
              "      <td>...</td>\n",
              "      <td>0</td>\n",
              "      <td>0</td>\n",
              "      <td>0</td>\n",
              "      <td>0</td>\n",
              "      <td>0</td>\n",
              "      <td>1</td>\n",
              "      <td>0</td>\n",
              "      <td>1</td>\n",
              "      <td>0</td>\n",
              "      <td>0</td>\n",
              "    </tr>\n",
              "  </tbody>\n",
              "</table>\n",
              "<p>5 rows × 60 columns</p>\n",
              "</div>\n",
              "      <button class=\"colab-df-convert\" onclick=\"convertToInteractive('df-23061520-7f98-4589-b643-50fc27cd6cfc')\"\n",
              "              title=\"Convert this dataframe to an interactive table.\"\n",
              "              style=\"display:none;\">\n",
              "        \n",
              "  <svg xmlns=\"http://www.w3.org/2000/svg\" height=\"24px\"viewBox=\"0 0 24 24\"\n",
              "       width=\"24px\">\n",
              "    <path d=\"M0 0h24v24H0V0z\" fill=\"none\"/>\n",
              "    <path d=\"M18.56 5.44l.94 2.06.94-2.06 2.06-.94-2.06-.94-.94-2.06-.94 2.06-2.06.94zm-11 1L8.5 8.5l.94-2.06 2.06-.94-2.06-.94L8.5 2.5l-.94 2.06-2.06.94zm10 10l.94 2.06.94-2.06 2.06-.94-2.06-.94-.94-2.06-.94 2.06-2.06.94z\"/><path d=\"M17.41 7.96l-1.37-1.37c-.4-.4-.92-.59-1.43-.59-.52 0-1.04.2-1.43.59L10.3 9.45l-7.72 7.72c-.78.78-.78 2.05 0 2.83L4 21.41c.39.39.9.59 1.41.59.51 0 1.02-.2 1.41-.59l7.78-7.78 2.81-2.81c.8-.78.8-2.07 0-2.86zM5.41 20L4 18.59l7.72-7.72 1.47 1.35L5.41 20z\"/>\n",
              "  </svg>\n",
              "      </button>\n",
              "      \n",
              "  <style>\n",
              "    .colab-df-container {\n",
              "      display:flex;\n",
              "      flex-wrap:wrap;\n",
              "      gap: 12px;\n",
              "    }\n",
              "\n",
              "    .colab-df-convert {\n",
              "      background-color: #E8F0FE;\n",
              "      border: none;\n",
              "      border-radius: 50%;\n",
              "      cursor: pointer;\n",
              "      display: none;\n",
              "      fill: #1967D2;\n",
              "      height: 32px;\n",
              "      padding: 0 0 0 0;\n",
              "      width: 32px;\n",
              "    }\n",
              "\n",
              "    .colab-df-convert:hover {\n",
              "      background-color: #E2EBFA;\n",
              "      box-shadow: 0px 1px 2px rgba(60, 64, 67, 0.3), 0px 1px 3px 1px rgba(60, 64, 67, 0.15);\n",
              "      fill: #174EA6;\n",
              "    }\n",
              "\n",
              "    [theme=dark] .colab-df-convert {\n",
              "      background-color: #3B4455;\n",
              "      fill: #D2E3FC;\n",
              "    }\n",
              "\n",
              "    [theme=dark] .colab-df-convert:hover {\n",
              "      background-color: #434B5C;\n",
              "      box-shadow: 0px 1px 3px 1px rgba(0, 0, 0, 0.15);\n",
              "      filter: drop-shadow(0px 1px 2px rgba(0, 0, 0, 0.3));\n",
              "      fill: #FFFFFF;\n",
              "    }\n",
              "  </style>\n",
              "\n",
              "      <script>\n",
              "        const buttonEl =\n",
              "          document.querySelector('#df-23061520-7f98-4589-b643-50fc27cd6cfc button.colab-df-convert');\n",
              "        buttonEl.style.display =\n",
              "          google.colab.kernel.accessAllowed ? 'block' : 'none';\n",
              "\n",
              "        async function convertToInteractive(key) {\n",
              "          const element = document.querySelector('#df-23061520-7f98-4589-b643-50fc27cd6cfc');\n",
              "          const dataTable =\n",
              "            await google.colab.kernel.invokeFunction('convertToInteractive',\n",
              "                                                     [key], {});\n",
              "          if (!dataTable) return;\n",
              "\n",
              "          const docLinkHtml = 'Like what you see? Visit the ' +\n",
              "            '<a target=\"_blank\" href=https://colab.research.google.com/notebooks/data_table.ipynb>data table notebook</a>'\n",
              "            + ' to learn more about interactive tables.';\n",
              "          element.innerHTML = '';\n",
              "          dataTable['output_type'] = 'display_data';\n",
              "          await google.colab.output.renderOutput(dataTable, element);\n",
              "          const docLink = document.createElement('div');\n",
              "          docLink.innerHTML = docLinkHtml;\n",
              "          element.appendChild(docLink);\n",
              "        }\n",
              "      </script>\n",
              "    </div>\n",
              "  </div>\n",
              "  "
            ]
          },
          "metadata": {},
          "execution_count": 94
        }
      ]
    },
    {
      "cell_type": "code",
      "source": [
        "leads2 = leads2.replace('Select', 0)"
      ],
      "metadata": {
        "id": "Yq1FbKIjhEbS"
      },
      "execution_count": 95,
      "outputs": []
    },
    {
      "cell_type": "code",
      "source": [
        "leads2 = leads2.replace(np.nan,0)"
      ],
      "metadata": {
        "id": "ODvxpumrhEej"
      },
      "execution_count": 96,
      "outputs": []
    },
    {
      "cell_type": "code",
      "source": [
        "leads2.info()"
      ],
      "metadata": {
        "id": "Idj3Cm8qhEh5",
        "outputId": "c63952eb-f351-4307-9076-ac2bdfe895b3",
        "colab": {
          "base_uri": "https://localhost:8080/"
        }
      },
      "execution_count": 86,
      "outputs": [
        {
          "output_type": "stream",
          "name": "stdout",
          "text": [
            "<class 'pandas.core.frame.DataFrame'>\n",
            "RangeIndex: 9240 entries, 0 to 9239\n",
            "Data columns (total 60 columns):\n",
            " #   Column                                                                   Non-Null Count  Dtype  \n",
            "---  ------                                                                   --------------  -----  \n",
            " 0   Prospect ID                                                              9240 non-null   object \n",
            " 1   Lead Number                                                              9240 non-null   int64  \n",
            " 2   Do Not Email                                                             9240 non-null   int64  \n",
            " 3   Do Not Call                                                              9240 non-null   int64  \n",
            " 4   Converted                                                                9240 non-null   int64  \n",
            " 5   TotalVisits                                                              9240 non-null   float64\n",
            " 6   Total Time Spent on Website                                              9240 non-null   int64  \n",
            " 7   Page Views Per Visit                                                     9240 non-null   float64\n",
            " 8   Search                                                                   9240 non-null   int64  \n",
            " 9   Newspaper Article                                                        9240 non-null   int64  \n",
            " 10  X Education Forums                                                       9240 non-null   int64  \n",
            " 11  Newspaper                                                                9240 non-null   int64  \n",
            " 12  Digital Advertisement                                                    9240 non-null   int64  \n",
            " 13  Through Recommendations                                                  9240 non-null   int64  \n",
            " 14  A free copy of Mastering The Interview                                   9240 non-null   int64  \n",
            " 15  Last Notable Activity                                                    9240 non-null   object \n",
            " 16  Lead Origin_Landing Page Submission                                      9240 non-null   uint8  \n",
            " 17  Lead Origin_Other                                                        9240 non-null   uint8  \n",
            " 18  Lead Source_Google                                                       9240 non-null   uint8  \n",
            " 19  Lead Source_Olark Chat                                                   9240 non-null   uint8  \n",
            " 20  Lead Source_Organic Search                                               9240 non-null   uint8  \n",
            " 21  Lead Source_Other                                                        9240 non-null   uint8  \n",
            " 22  Last Activity_Converted to Lead                                          9240 non-null   uint8  \n",
            " 23  Last Activity_Email Bounced                                              9240 non-null   uint8  \n",
            " 24  Last Activity_Email Link Clicked                                         9240 non-null   uint8  \n",
            " 25  Last Activity_Email Marked Spam                                          9240 non-null   uint8  \n",
            " 26  Last Activity_Email Opened                                               9240 non-null   uint8  \n",
            " 27  Last Activity_Email Received                                             9240 non-null   uint8  \n",
            " 28  Last Activity_Form Submitted on Website                                  9240 non-null   uint8  \n",
            " 29  Last Activity_Had a Phone Conversation                                   9240 non-null   uint8  \n",
            " 30  Last Activity_Olark Chat Conversation                                    9240 non-null   uint8  \n",
            " 31  Last Activity_Page Visited on Website                                    9240 non-null   uint8  \n",
            " 32  Last Activity_Resubscribed to emails                                     9240 non-null   uint8  \n",
            " 33  Last Activity_SMS Sent                                                   9240 non-null   uint8  \n",
            " 34  Last Activity_Unreachable                                                9240 non-null   uint8  \n",
            " 35  Last Activity_Unsubscribed                                               9240 non-null   uint8  \n",
            " 36  Last Activity_View in browser link Clicked                               9240 non-null   uint8  \n",
            " 37  Last Activity_Visited Booth in Tradeshow                                 9240 non-null   uint8  \n",
            " 38  Country_Other                                                            9240 non-null   uint8  \n",
            " 39  Country_United States                                                    9240 non-null   uint8  \n",
            " 40  Country_unknown                                                          9240 non-null   uint8  \n",
            " 41  What is your current occupation_Housewife                                9240 non-null   uint8  \n",
            " 42  What is your current occupation_Other                                    9240 non-null   uint8  \n",
            " 43  What is your current occupation_Student                                  9240 non-null   uint8  \n",
            " 44  What is your current occupation_Unemployed                               9240 non-null   uint8  \n",
            " 45  What is your current occupation_Working Professional                     9240 non-null   uint8  \n",
            " 46  What matters most to you in choosing a course_Flexibility & Convenience  9240 non-null   uint8  \n",
            " 47  What matters most to you in choosing a course_Other                      9240 non-null   uint8  \n",
            " 48  Specialization_Finance Management                                        9240 non-null   uint8  \n",
            " 49  Specialization_Human Resource Management                                 9240 non-null   uint8  \n",
            " 50  Specialization_Marketing Management                                      9240 non-null   uint8  \n",
            " 51  Specialization_Other                                                     9240 non-null   uint8  \n",
            " 52  Tags_Ringing                                                             9240 non-null   uint8  \n",
            " 53  Tags_Will revert after reading the email                                 9240 non-null   uint8  \n",
            " 54  Other                                                                    9240 non-null   uint8  \n",
            " 55  Other Leads                                                              9240 non-null   uint8  \n",
            " 56  Potential Lead                                                           9240 non-null   uint8  \n",
            " 57  Other                                                                    9240 non-null   uint8  \n",
            " 58  Select                                                                   9240 non-null   uint8  \n",
            " 59  Thane & Outskirts                                                        9240 non-null   uint8  \n",
            "dtypes: float64(2), int64(12), object(2), uint8(44)\n",
            "memory usage: 1.5+ MB\n"
          ]
        }
      ]
    },
    {
      "cell_type": "code",
      "source": [
        "leads2['Lead Origin_Landing Page Submission'].dtype\n"
      ],
      "metadata": {
        "id": "bHuiAqbFhElL",
        "outputId": "769689b9-f249-45ab-8027-be7121420683",
        "colab": {
          "base_uri": "https://localhost:8080/"
        }
      },
      "execution_count": 81,
      "outputs": [
        {
          "output_type": "execute_result",
          "data": {
            "text/plain": [
              "dtype('uint8')"
            ]
          },
          "metadata": {},
          "execution_count": 81
        }
      ]
    },
    {
      "cell_type": "code",
      "source": [
        ""
      ],
      "metadata": {
        "id": "SeJ4lPaJhEow"
      },
      "execution_count": null,
      "outputs": []
    },
    {
      "cell_type": "code",
      "source": [
        "import statsmodels.api as sm"
      ],
      "metadata": {
        "id": "PtK1o7RjKYm4"
      },
      "execution_count": 97,
      "outputs": []
    },
    {
      "cell_type": "code",
      "source": [
        "# Logistic regression\n",
        "logm1 = sm.GLM(y_train,(sm.add_constant(X_train)), family = sm.families.Binomial())\n",
        "logm1.fit().summary()"
      ],
      "metadata": {
        "id": "hqQi85ICKYql",
        "outputId": "82df7e6c-148f-4edf-cbcc-211365e253d4",
        "colab": {
          "base_uri": "https://localhost:8080/",
          "height": 1000
        }
      },
      "execution_count": 98,
      "outputs": [
        {
          "output_type": "stream",
          "name": "stderr",
          "text": [
            "/usr/local/lib/python3.7/dist-packages/statsmodels/tsa/tsatools.py:117: FutureWarning: In a future version of pandas all arguments of concat except for the argument 'objs' will be keyword-only\n",
            "  x = pd.concat(x[::order], 1)\n"
          ]
        },
        {
          "output_type": "execute_result",
          "data": {
            "text/plain": [
              "<class 'statsmodels.iolib.summary.Summary'>\n",
              "\"\"\"\n",
              "                 Generalized Linear Model Regression Results                  \n",
              "==============================================================================\n",
              "Dep. Variable:              Converted   No. Observations:                 6468\n",
              "Model:                            GLM   Df Residuals:                     6407\n",
              "Model Family:                Binomial   Df Model:                           60\n",
              "Link Function:                  logit   Scale:                          1.0000\n",
              "Method:                          IRLS   Log-Likelihood:                -1679.0\n",
              "Date:                Tue, 15 Mar 2022   Deviance:                       3357.9\n",
              "Time:                        11:17:56   Pearson chi2:                 1.74e+04\n",
              "No. Iterations:                    22                                         \n",
              "Covariance Type:            nonrobust                                         \n",
              "===========================================================================================================================================\n",
              "                                                                              coef    std err          z      P>|z|      [0.025      0.975]\n",
              "-------------------------------------------------------------------------------------------------------------------------------------------\n",
              "const                                                                      -6.5070      1.386     -4.695      0.000      -9.224      -3.790\n",
              "Lead Number                                                              5.313e-06   2.06e-06      2.583      0.010    1.28e-06    9.34e-06\n",
              "Do Not Email                                                               -1.0867      0.269     -4.039      0.000      -1.614      -0.559\n",
              "Do Not Call                                                                22.8231   4.47e+04      0.001      1.000   -8.76e+04    8.77e+04\n",
              "TotalVisits                                                                 0.1955      0.057      3.446      0.001       0.084       0.307\n",
              "Total Time Spent on Website                                                 1.0956      0.052     21.099      0.000       0.994       1.197\n",
              "Page Views Per Visit                                                       -0.1306      0.071     -1.845      0.065      -0.269       0.008\n",
              "Search                                                                      2.0870      0.991      2.105      0.035       0.144       4.030\n",
              "Newspaper Article                                                          20.4888   7.95e+04      0.000      1.000   -1.56e+05    1.56e+05\n",
              "X Education Forums                                                        -23.7792   1.23e+05     -0.000      1.000   -2.41e+05    2.41e+05\n",
              "Newspaper                                                                 -22.0826   7.95e+04     -0.000      1.000   -1.56e+05    1.56e+05\n",
              "Digital Advertisement                                                     -22.4498   5.01e+04     -0.000      1.000   -9.83e+04    9.82e+04\n",
              "Through Recommendations                                                     2.1858      1.865      1.172      0.241      -1.469       5.841\n",
              "A free copy of Mastering The Interview                                      0.0386      0.142      0.271      0.786      -0.240       0.317\n",
              "Lead Origin_Landing Page Submission                                        -0.0885      0.188     -0.471      0.637      -0.457       0.279\n",
              "Lead Origin_Other                                                           3.2485      0.375      8.666      0.000       2.514       3.983\n",
              "Lead Source_Google                                                          0.2138      0.150      1.429      0.153      -0.080       0.507\n",
              "Lead Source_Olark Chat                                                      1.1863      0.203      5.842      0.000       0.788       1.584\n",
              "Lead Source_Organic Search                                                  0.0093      0.173      0.054      0.957      -0.330       0.348\n",
              "Lead Source_Other                                                          -0.0498      0.336     -0.148      0.882      -0.708       0.608\n",
              "Last Activity_Converted to Lead                                            -0.3752      0.534     -0.703      0.482      -1.422       0.671\n",
              "Last Activity_Email Bounced                                                -0.2899      0.633     -0.458      0.647      -1.530       0.950\n",
              "Last Activity_Email Link Clicked                                            0.0631      0.539      0.117      0.907      -0.993       1.119\n",
              "Last Activity_Email Marked Spam                                            19.6930   7.94e+04      0.000      1.000   -1.56e+05    1.56e+05\n",
              "Last Activity_Email Opened                                                  0.9098      0.475      1.916      0.055      -0.021       1.841\n",
              "Last Activity_Email Received                                               20.0596   5.61e+04      0.000      1.000    -1.1e+05     1.1e+05\n",
              "Last Activity_Form Submitted on Website                                     0.4776      0.607      0.787      0.431      -0.711       1.667\n",
              "Last Activity_Had a Phone Conversation                                      1.3669      0.984      1.389      0.165      -0.562       3.296\n",
              "Last Activity_Olark Chat Conversation                                      -0.6879      0.501     -1.372      0.170      -1.671       0.295\n",
              "Last Activity_Page Visited on Website                                       0.0354      0.503      0.070      0.944      -0.950       1.020\n",
              "Last Activity_Resubscribed to emails                                       25.9042   7.96e+04      0.000      1.000   -1.56e+05    1.56e+05\n",
              "Last Activity_SMS Sent                                                      1.3660      0.479      2.853      0.004       0.427       2.305\n",
              "Last Activity_Unreachable                                                   0.1690      0.728      0.232      0.816      -1.257       1.595\n",
              "Last Activity_Unsubscribed                                                  0.7374      0.834      0.884      0.376      -0.897       2.371\n",
              "Last Activity_View in browser link Clicked                                  0.5152      1.310      0.393      0.694      -2.052       3.082\n",
              "Last Activity_Visited Booth in Tradeshow                                  -20.7515   7.99e+04     -0.000      1.000   -1.57e+05    1.57e+05\n",
              "Country_Other                                                              -0.1091      0.311     -0.351      0.726      -0.719       0.501\n",
              "Country_United States                                                       0.5774      0.543      1.063      0.288      -0.487       1.642\n",
              "Country_unknown                                                             0.9853      1.152      0.855      0.393      -1.273       3.244\n",
              "What is your current occupation_Housewife                                  23.4685   2.19e+04      0.001      0.999   -4.29e+04     4.3e+04\n",
              "What is your current occupation_Other                                      -0.4818      1.447     -0.333      0.739      -3.317       2.353\n",
              "What is your current occupation_Student                                    -0.1963      0.397     -0.494      0.621      -0.975       0.583\n",
              "What is your current occupation_Unemployed                                  0.5386      0.132      4.066      0.000       0.279       0.798\n",
              "What is your current occupation_Working Professional                        1.6540      0.275      6.010      0.000       1.115       2.193\n",
              "What matters most to you in choosing a course_Flexibility & Convenience    -0.5720      1.782     -0.321      0.748      -4.064       2.920\n",
              "What matters most to you in choosing a course_Other                       -20.1372   7.98e+04     -0.000      1.000   -1.56e+05    1.56e+05\n",
              "Specialization_Finance Management                                           0.5030      0.222      2.262      0.024       0.067       0.939\n",
              "Specialization_Human Resource Management                                    0.0882      0.231      0.382      0.703      -0.365       0.541\n",
              "Specialization_Marketing Management                                         0.1441      0.224      0.644      0.520      -0.295       0.583\n",
              "Specialization_Other                                                        0.1061      0.191      0.555      0.579      -0.269       0.481\n",
              "Tags_Ringing                                                               -3.7632      0.237    -15.896      0.000      -4.227      -3.299\n",
              "Tags_Will revert after reading the email                                    3.6781      0.186     19.785      0.000       3.314       4.042\n",
              "Other                                                                      -1.0779      0.321     -3.354      0.001      -1.708      -0.448\n",
              "Other Leads                                                                -0.3669      0.215     -1.706      0.088      -0.788       0.055\n",
              "Potential Lead                                                              0.7916      0.154      5.153      0.000       0.490       1.093\n",
              "Other                                                                      -0.0211      0.134     -0.158      0.874      -0.283       0.241\n",
              "Select                                                                      0.7433      0.166      4.467      0.000       0.417       1.070\n",
              "Thane & Outskirts                                                          -0.0792      0.180     -0.439      0.661      -0.433       0.274\n",
              "Modified                                                                   -0.1656      0.162     -1.022      0.307      -0.483       0.152\n",
              "Other                                                                       0.5934      0.272      2.179      0.029       0.060       1.127\n",
              "SMS Sent                                                                    1.3571      0.245      5.528      0.000       0.876       1.838\n",
              "===========================================================================================================================================\n",
              "\"\"\""
            ],
            "text/html": [
              "<table class=\"simpletable\">\n",
              "<caption>Generalized Linear Model Regression Results</caption>\n",
              "<tr>\n",
              "  <th>Dep. Variable:</th>       <td>Converted</td>    <th>  No. Observations:  </th>  <td>  6468</td> \n",
              "</tr>\n",
              "<tr>\n",
              "  <th>Model:</th>                  <td>GLM</td>       <th>  Df Residuals:      </th>  <td>  6407</td> \n",
              "</tr>\n",
              "<tr>\n",
              "  <th>Model Family:</th>        <td>Binomial</td>     <th>  Df Model:          </th>  <td>    60</td> \n",
              "</tr>\n",
              "<tr>\n",
              "  <th>Link Function:</th>         <td>logit</td>      <th>  Scale:             </th> <td>  1.0000</td>\n",
              "</tr>\n",
              "<tr>\n",
              "  <th>Method:</th>                <td>IRLS</td>       <th>  Log-Likelihood:    </th> <td> -1679.0</td>\n",
              "</tr>\n",
              "<tr>\n",
              "  <th>Date:</th>            <td>Tue, 15 Mar 2022</td> <th>  Deviance:          </th> <td>  3357.9</td>\n",
              "</tr>\n",
              "<tr>\n",
              "  <th>Time:</th>                <td>11:17:56</td>     <th>  Pearson chi2:      </th> <td>1.74e+04</td>\n",
              "</tr>\n",
              "<tr>\n",
              "  <th>No. Iterations:</th>         <td>22</td>        <th>                     </th>     <td> </td>   \n",
              "</tr>\n",
              "<tr>\n",
              "  <th>Covariance Type:</th>     <td>nonrobust</td>    <th>                     </th>     <td> </td>   \n",
              "</tr>\n",
              "</table>\n",
              "<table class=\"simpletable\">\n",
              "<tr>\n",
              "                                     <td></td>                                        <th>coef</th>     <th>std err</th>      <th>z</th>      <th>P>|z|</th>  <th>[0.025</th>    <th>0.975]</th>  \n",
              "</tr>\n",
              "<tr>\n",
              "  <th>const</th>                                                                   <td>   -6.5070</td> <td>    1.386</td> <td>   -4.695</td> <td> 0.000</td> <td>   -9.224</td> <td>   -3.790</td>\n",
              "</tr>\n",
              "<tr>\n",
              "  <th>Lead Number</th>                                                             <td> 5.313e-06</td> <td> 2.06e-06</td> <td>    2.583</td> <td> 0.010</td> <td> 1.28e-06</td> <td> 9.34e-06</td>\n",
              "</tr>\n",
              "<tr>\n",
              "  <th>Do Not Email</th>                                                            <td>   -1.0867</td> <td>    0.269</td> <td>   -4.039</td> <td> 0.000</td> <td>   -1.614</td> <td>   -0.559</td>\n",
              "</tr>\n",
              "<tr>\n",
              "  <th>Do Not Call</th>                                                             <td>   22.8231</td> <td> 4.47e+04</td> <td>    0.001</td> <td> 1.000</td> <td>-8.76e+04</td> <td> 8.77e+04</td>\n",
              "</tr>\n",
              "<tr>\n",
              "  <th>TotalVisits</th>                                                             <td>    0.1955</td> <td>    0.057</td> <td>    3.446</td> <td> 0.001</td> <td>    0.084</td> <td>    0.307</td>\n",
              "</tr>\n",
              "<tr>\n",
              "  <th>Total Time Spent on Website</th>                                             <td>    1.0956</td> <td>    0.052</td> <td>   21.099</td> <td> 0.000</td> <td>    0.994</td> <td>    1.197</td>\n",
              "</tr>\n",
              "<tr>\n",
              "  <th>Page Views Per Visit</th>                                                    <td>   -0.1306</td> <td>    0.071</td> <td>   -1.845</td> <td> 0.065</td> <td>   -0.269</td> <td>    0.008</td>\n",
              "</tr>\n",
              "<tr>\n",
              "  <th>Search</th>                                                                  <td>    2.0870</td> <td>    0.991</td> <td>    2.105</td> <td> 0.035</td> <td>    0.144</td> <td>    4.030</td>\n",
              "</tr>\n",
              "<tr>\n",
              "  <th>Newspaper Article</th>                                                       <td>   20.4888</td> <td> 7.95e+04</td> <td>    0.000</td> <td> 1.000</td> <td>-1.56e+05</td> <td> 1.56e+05</td>\n",
              "</tr>\n",
              "<tr>\n",
              "  <th>X Education Forums</th>                                                      <td>  -23.7792</td> <td> 1.23e+05</td> <td>   -0.000</td> <td> 1.000</td> <td>-2.41e+05</td> <td> 2.41e+05</td>\n",
              "</tr>\n",
              "<tr>\n",
              "  <th>Newspaper</th>                                                               <td>  -22.0826</td> <td> 7.95e+04</td> <td>   -0.000</td> <td> 1.000</td> <td>-1.56e+05</td> <td> 1.56e+05</td>\n",
              "</tr>\n",
              "<tr>\n",
              "  <th>Digital Advertisement</th>                                                   <td>  -22.4498</td> <td> 5.01e+04</td> <td>   -0.000</td> <td> 1.000</td> <td>-9.83e+04</td> <td> 9.82e+04</td>\n",
              "</tr>\n",
              "<tr>\n",
              "  <th>Through Recommendations</th>                                                 <td>    2.1858</td> <td>    1.865</td> <td>    1.172</td> <td> 0.241</td> <td>   -1.469</td> <td>    5.841</td>\n",
              "</tr>\n",
              "<tr>\n",
              "  <th>A free copy of Mastering The Interview</th>                                  <td>    0.0386</td> <td>    0.142</td> <td>    0.271</td> <td> 0.786</td> <td>   -0.240</td> <td>    0.317</td>\n",
              "</tr>\n",
              "<tr>\n",
              "  <th>Lead Origin_Landing Page Submission</th>                                     <td>   -0.0885</td> <td>    0.188</td> <td>   -0.471</td> <td> 0.637</td> <td>   -0.457</td> <td>    0.279</td>\n",
              "</tr>\n",
              "<tr>\n",
              "  <th>Lead Origin_Other</th>                                                       <td>    3.2485</td> <td>    0.375</td> <td>    8.666</td> <td> 0.000</td> <td>    2.514</td> <td>    3.983</td>\n",
              "</tr>\n",
              "<tr>\n",
              "  <th>Lead Source_Google</th>                                                      <td>    0.2138</td> <td>    0.150</td> <td>    1.429</td> <td> 0.153</td> <td>   -0.080</td> <td>    0.507</td>\n",
              "</tr>\n",
              "<tr>\n",
              "  <th>Lead Source_Olark Chat</th>                                                  <td>    1.1863</td> <td>    0.203</td> <td>    5.842</td> <td> 0.000</td> <td>    0.788</td> <td>    1.584</td>\n",
              "</tr>\n",
              "<tr>\n",
              "  <th>Lead Source_Organic Search</th>                                              <td>    0.0093</td> <td>    0.173</td> <td>    0.054</td> <td> 0.957</td> <td>   -0.330</td> <td>    0.348</td>\n",
              "</tr>\n",
              "<tr>\n",
              "  <th>Lead Source_Other</th>                                                       <td>   -0.0498</td> <td>    0.336</td> <td>   -0.148</td> <td> 0.882</td> <td>   -0.708</td> <td>    0.608</td>\n",
              "</tr>\n",
              "<tr>\n",
              "  <th>Last Activity_Converted to Lead</th>                                         <td>   -0.3752</td> <td>    0.534</td> <td>   -0.703</td> <td> 0.482</td> <td>   -1.422</td> <td>    0.671</td>\n",
              "</tr>\n",
              "<tr>\n",
              "  <th>Last Activity_Email Bounced</th>                                             <td>   -0.2899</td> <td>    0.633</td> <td>   -0.458</td> <td> 0.647</td> <td>   -1.530</td> <td>    0.950</td>\n",
              "</tr>\n",
              "<tr>\n",
              "  <th>Last Activity_Email Link Clicked</th>                                        <td>    0.0631</td> <td>    0.539</td> <td>    0.117</td> <td> 0.907</td> <td>   -0.993</td> <td>    1.119</td>\n",
              "</tr>\n",
              "<tr>\n",
              "  <th>Last Activity_Email Marked Spam</th>                                         <td>   19.6930</td> <td> 7.94e+04</td> <td>    0.000</td> <td> 1.000</td> <td>-1.56e+05</td> <td> 1.56e+05</td>\n",
              "</tr>\n",
              "<tr>\n",
              "  <th>Last Activity_Email Opened</th>                                              <td>    0.9098</td> <td>    0.475</td> <td>    1.916</td> <td> 0.055</td> <td>   -0.021</td> <td>    1.841</td>\n",
              "</tr>\n",
              "<tr>\n",
              "  <th>Last Activity_Email Received</th>                                            <td>   20.0596</td> <td> 5.61e+04</td> <td>    0.000</td> <td> 1.000</td> <td> -1.1e+05</td> <td>  1.1e+05</td>\n",
              "</tr>\n",
              "<tr>\n",
              "  <th>Last Activity_Form Submitted on Website</th>                                 <td>    0.4776</td> <td>    0.607</td> <td>    0.787</td> <td> 0.431</td> <td>   -0.711</td> <td>    1.667</td>\n",
              "</tr>\n",
              "<tr>\n",
              "  <th>Last Activity_Had a Phone Conversation</th>                                  <td>    1.3669</td> <td>    0.984</td> <td>    1.389</td> <td> 0.165</td> <td>   -0.562</td> <td>    3.296</td>\n",
              "</tr>\n",
              "<tr>\n",
              "  <th>Last Activity_Olark Chat Conversation</th>                                   <td>   -0.6879</td> <td>    0.501</td> <td>   -1.372</td> <td> 0.170</td> <td>   -1.671</td> <td>    0.295</td>\n",
              "</tr>\n",
              "<tr>\n",
              "  <th>Last Activity_Page Visited on Website</th>                                   <td>    0.0354</td> <td>    0.503</td> <td>    0.070</td> <td> 0.944</td> <td>   -0.950</td> <td>    1.020</td>\n",
              "</tr>\n",
              "<tr>\n",
              "  <th>Last Activity_Resubscribed to emails</th>                                    <td>   25.9042</td> <td> 7.96e+04</td> <td>    0.000</td> <td> 1.000</td> <td>-1.56e+05</td> <td> 1.56e+05</td>\n",
              "</tr>\n",
              "<tr>\n",
              "  <th>Last Activity_SMS Sent</th>                                                  <td>    1.3660</td> <td>    0.479</td> <td>    2.853</td> <td> 0.004</td> <td>    0.427</td> <td>    2.305</td>\n",
              "</tr>\n",
              "<tr>\n",
              "  <th>Last Activity_Unreachable</th>                                               <td>    0.1690</td> <td>    0.728</td> <td>    0.232</td> <td> 0.816</td> <td>   -1.257</td> <td>    1.595</td>\n",
              "</tr>\n",
              "<tr>\n",
              "  <th>Last Activity_Unsubscribed</th>                                              <td>    0.7374</td> <td>    0.834</td> <td>    0.884</td> <td> 0.376</td> <td>   -0.897</td> <td>    2.371</td>\n",
              "</tr>\n",
              "<tr>\n",
              "  <th>Last Activity_View in browser link Clicked</th>                              <td>    0.5152</td> <td>    1.310</td> <td>    0.393</td> <td> 0.694</td> <td>   -2.052</td> <td>    3.082</td>\n",
              "</tr>\n",
              "<tr>\n",
              "  <th>Last Activity_Visited Booth in Tradeshow</th>                                <td>  -20.7515</td> <td> 7.99e+04</td> <td>   -0.000</td> <td> 1.000</td> <td>-1.57e+05</td> <td> 1.57e+05</td>\n",
              "</tr>\n",
              "<tr>\n",
              "  <th>Country_Other</th>                                                           <td>   -0.1091</td> <td>    0.311</td> <td>   -0.351</td> <td> 0.726</td> <td>   -0.719</td> <td>    0.501</td>\n",
              "</tr>\n",
              "<tr>\n",
              "  <th>Country_United States</th>                                                   <td>    0.5774</td> <td>    0.543</td> <td>    1.063</td> <td> 0.288</td> <td>   -0.487</td> <td>    1.642</td>\n",
              "</tr>\n",
              "<tr>\n",
              "  <th>Country_unknown</th>                                                         <td>    0.9853</td> <td>    1.152</td> <td>    0.855</td> <td> 0.393</td> <td>   -1.273</td> <td>    3.244</td>\n",
              "</tr>\n",
              "<tr>\n",
              "  <th>What is your current occupation_Housewife</th>                               <td>   23.4685</td> <td> 2.19e+04</td> <td>    0.001</td> <td> 0.999</td> <td>-4.29e+04</td> <td>  4.3e+04</td>\n",
              "</tr>\n",
              "<tr>\n",
              "  <th>What is your current occupation_Other</th>                                   <td>   -0.4818</td> <td>    1.447</td> <td>   -0.333</td> <td> 0.739</td> <td>   -3.317</td> <td>    2.353</td>\n",
              "</tr>\n",
              "<tr>\n",
              "  <th>What is your current occupation_Student</th>                                 <td>   -0.1963</td> <td>    0.397</td> <td>   -0.494</td> <td> 0.621</td> <td>   -0.975</td> <td>    0.583</td>\n",
              "</tr>\n",
              "<tr>\n",
              "  <th>What is your current occupation_Unemployed</th>                              <td>    0.5386</td> <td>    0.132</td> <td>    4.066</td> <td> 0.000</td> <td>    0.279</td> <td>    0.798</td>\n",
              "</tr>\n",
              "<tr>\n",
              "  <th>What is your current occupation_Working Professional</th>                    <td>    1.6540</td> <td>    0.275</td> <td>    6.010</td> <td> 0.000</td> <td>    1.115</td> <td>    2.193</td>\n",
              "</tr>\n",
              "<tr>\n",
              "  <th>What matters most to you in choosing a course_Flexibility & Convenience</th> <td>   -0.5720</td> <td>    1.782</td> <td>   -0.321</td> <td> 0.748</td> <td>   -4.064</td> <td>    2.920</td>\n",
              "</tr>\n",
              "<tr>\n",
              "  <th>What matters most to you in choosing a course_Other</th>                     <td>  -20.1372</td> <td> 7.98e+04</td> <td>   -0.000</td> <td> 1.000</td> <td>-1.56e+05</td> <td> 1.56e+05</td>\n",
              "</tr>\n",
              "<tr>\n",
              "  <th>Specialization_Finance Management</th>                                       <td>    0.5030</td> <td>    0.222</td> <td>    2.262</td> <td> 0.024</td> <td>    0.067</td> <td>    0.939</td>\n",
              "</tr>\n",
              "<tr>\n",
              "  <th>Specialization_Human Resource Management</th>                                <td>    0.0882</td> <td>    0.231</td> <td>    0.382</td> <td> 0.703</td> <td>   -0.365</td> <td>    0.541</td>\n",
              "</tr>\n",
              "<tr>\n",
              "  <th>Specialization_Marketing Management</th>                                     <td>    0.1441</td> <td>    0.224</td> <td>    0.644</td> <td> 0.520</td> <td>   -0.295</td> <td>    0.583</td>\n",
              "</tr>\n",
              "<tr>\n",
              "  <th>Specialization_Other</th>                                                    <td>    0.1061</td> <td>    0.191</td> <td>    0.555</td> <td> 0.579</td> <td>   -0.269</td> <td>    0.481</td>\n",
              "</tr>\n",
              "<tr>\n",
              "  <th>Tags_Ringing</th>                                                            <td>   -3.7632</td> <td>    0.237</td> <td>  -15.896</td> <td> 0.000</td> <td>   -4.227</td> <td>   -3.299</td>\n",
              "</tr>\n",
              "<tr>\n",
              "  <th>Tags_Will revert after reading the email</th>                                <td>    3.6781</td> <td>    0.186</td> <td>   19.785</td> <td> 0.000</td> <td>    3.314</td> <td>    4.042</td>\n",
              "</tr>\n",
              "<tr>\n",
              "  <th>Other</th>                                                                   <td>   -1.0779</td> <td>    0.321</td> <td>   -3.354</td> <td> 0.001</td> <td>   -1.708</td> <td>   -0.448</td>\n",
              "</tr>\n",
              "<tr>\n",
              "  <th>Other Leads</th>                                                             <td>   -0.3669</td> <td>    0.215</td> <td>   -1.706</td> <td> 0.088</td> <td>   -0.788</td> <td>    0.055</td>\n",
              "</tr>\n",
              "<tr>\n",
              "  <th>Potential Lead</th>                                                          <td>    0.7916</td> <td>    0.154</td> <td>    5.153</td> <td> 0.000</td> <td>    0.490</td> <td>    1.093</td>\n",
              "</tr>\n",
              "<tr>\n",
              "  <th>Other</th>                                                                   <td>   -0.0211</td> <td>    0.134</td> <td>   -0.158</td> <td> 0.874</td> <td>   -0.283</td> <td>    0.241</td>\n",
              "</tr>\n",
              "<tr>\n",
              "  <th>Select</th>                                                                  <td>    0.7433</td> <td>    0.166</td> <td>    4.467</td> <td> 0.000</td> <td>    0.417</td> <td>    1.070</td>\n",
              "</tr>\n",
              "<tr>\n",
              "  <th>Thane & Outskirts</th>                                                       <td>   -0.0792</td> <td>    0.180</td> <td>   -0.439</td> <td> 0.661</td> <td>   -0.433</td> <td>    0.274</td>\n",
              "</tr>\n",
              "<tr>\n",
              "  <th>Modified</th>                                                                <td>   -0.1656</td> <td>    0.162</td> <td>   -1.022</td> <td> 0.307</td> <td>   -0.483</td> <td>    0.152</td>\n",
              "</tr>\n",
              "<tr>\n",
              "  <th>Other</th>                                                                   <td>    0.5934</td> <td>    0.272</td> <td>    2.179</td> <td> 0.029</td> <td>    0.060</td> <td>    1.127</td>\n",
              "</tr>\n",
              "<tr>\n",
              "  <th>SMS Sent</th>                                                                <td>    1.3571</td> <td>    0.245</td> <td>    5.528</td> <td> 0.000</td> <td>    0.876</td> <td>    1.838</td>\n",
              "</tr>\n",
              "</table>"
            ]
          },
          "metadata": {},
          "execution_count": 98
        }
      ]
    },
    {
      "cell_type": "code",
      "source": [
        "# From the above, important features are:\n",
        "#TotalVisits, Total Time Spent on Website, Last Activity_Email Opened, Last Activity_SMS Sent, Specialization_Finance Management, Other Leads,\n",
        "# Potential Lead,\n",
        "#, Mumbai, Thane & Outskirts, Search, Lead Origin_Other, Lead Source_Olark Chat, Tags_Ringing, Tags_Will revert after reading the email, SMS Sent"
      ],
      "metadata": {
        "id": "CLwPU5UEO4a7"
      },
      "execution_count": null,
      "outputs": []
    },
    {
      "cell_type": "code",
      "source": [
        "#Model re-building"
      ],
      "metadata": {
        "id": "THK4-4VDO4fW"
      },
      "execution_count": null,
      "outputs": []
    },
    {
      "cell_type": "code",
      "source": [
        "# Putting feature variable to X\n",
        "X = leads2.drop(['Prospect ID','Do Not Call', 'Page Views Per Visit', 'Newspaper Article', 'X Education Forums', 'Newspaper', 'Digital Advertisement', 'Through Recommendations', 'A free copy of Mastering The Interview', 'Lead Origin_Landing Page Submission',\n",
        "'Lead Source_Google', 'Lead Source_Organic Search', 'Lead Source_Other', \n",
        "'Last Activity_Converted to Lead', 'Last Activity_Email Bounced', 'Last Activity_Email Link Clicked', 'Last Activity_Email Marked Spam', 'Last Activity_Email Received',\n",
        "'Last Activity_Form Submitted on Website', 'Last Activity_Had a Phone Conversation', 'Last Activity_Olark Chat Conversation',\n",
        "'Last Activity_Page Visited on Website', 'Last Activity_Resubscribed to emails', \n",
        "'Last Activity_Unreachable', 'Last Activity_Unsubscribed', 'Last Activity_View in browser link Clicked',\n",
        "'Last Activity_Visited Booth in Tradeshow', 'Country_Other',\n",
        "'Country_United States', 'Country_unknown', 'Modified', 'Other','What is your current occupation_Housewife',\n",
        "'What is your current occupation_Other', 'What is your current occupation_Student',\n",
        "'What is your current occupation_Unemployed', 'What is your current occupation_Working Professional', \n",
        "'What matters most to you in choosing a course_Flexibility & Convenience', \n",
        "'What matters most to you in choosing a course_Other','Specialization_Human Resource Management',\t'Specialization_Marketing Management',\n",
        "'Specialization_Other', 'Other', 'Other', 'Converted'], axis=1)\n",
        "\n",
        "X.head(3)\n",
        "X.shape"
      ],
      "metadata": {
        "id": "wHL-z40SO4js",
        "outputId": "4a4274e3-cafa-4b5c-b5a4-967a2e7db886",
        "colab": {
          "base_uri": "https://localhost:8080/"
        }
      },
      "execution_count": 99,
      "outputs": [
        {
          "output_type": "execute_result",
          "data": {
            "text/plain": [
              "(9240, 17)"
            ]
          },
          "metadata": {},
          "execution_count": 99
        }
      ]
    },
    {
      "cell_type": "code",
      "source": [
        "# Putting response variable to y\n",
        "y = leads2['Converted']\n",
        "\n",
        "y.head()"
      ],
      "metadata": {
        "id": "dx4W2q9KRiLg",
        "outputId": "ed4ac56b-1184-4de7-aa82-bbd3274153b8",
        "colab": {
          "base_uri": "https://localhost:8080/"
        }
      },
      "execution_count": 100,
      "outputs": [
        {
          "output_type": "execute_result",
          "data": {
            "text/plain": [
              "0    0\n",
              "1    0\n",
              "2    1\n",
              "3    0\n",
              "4    1\n",
              "Name: Converted, dtype: int64"
            ]
          },
          "metadata": {},
          "execution_count": 100
        }
      ]
    },
    {
      "cell_type": "code",
      "source": [
        "# Splitting the data into train and test\n",
        "X_train, X_test, y_train, y_test = train_test_split(X, y, train_size=0.7, test_size=0.3, random_state=100)"
      ],
      "metadata": {
        "id": "NWgCa7Q6RiPW"
      },
      "execution_count": 111,
      "outputs": []
    },
    {
      "cell_type": "code",
      "source": [
        "#Feature Scaling"
      ],
      "metadata": {
        "id": "6hXIY78sRiSt"
      },
      "execution_count": 106,
      "outputs": []
    },
    {
      "cell_type": "code",
      "source": [
        "from sklearn.preprocessing import StandardScaler\n",
        "scaler = StandardScaler()\n",
        "\n",
        "X_train[['TotalVisits', 'Total Time Spent on Website']] = scaler.fit_transform(X_train[['TotalVisits', 'Total Time Spent on Website']])\n",
        "\n",
        "X_train.head()\n",
        "X_train.info()"
      ],
      "metadata": {
        "id": "mQlQXXTYRiWP",
        "outputId": "59a22f8f-ac8c-4577-c706-462301af6c40",
        "colab": {
          "base_uri": "https://localhost:8080/"
        }
      },
      "execution_count": 112,
      "outputs": [
        {
          "output_type": "stream",
          "name": "stdout",
          "text": [
            "<class 'pandas.core.frame.DataFrame'>\n",
            "Int64Index: 6468 entries, 1871 to 5640\n",
            "Data columns (total 17 columns):\n",
            " #   Column                                    Non-Null Count  Dtype  \n",
            "---  ------                                    --------------  -----  \n",
            " 0   Lead Number                               6468 non-null   int64  \n",
            " 1   Do Not Email                              6468 non-null   int64  \n",
            " 2   TotalVisits                               6468 non-null   float64\n",
            " 3   Total Time Spent on Website               6468 non-null   float64\n",
            " 4   Search                                    6468 non-null   int64  \n",
            " 5   Lead Origin_Other                         6468 non-null   uint8  \n",
            " 6   Lead Source_Olark Chat                    6468 non-null   uint8  \n",
            " 7   Last Activity_Email Opened                6468 non-null   uint8  \n",
            " 8   Last Activity_SMS Sent                    6468 non-null   uint8  \n",
            " 9   Specialization_Finance Management         6468 non-null   uint8  \n",
            " 10  Tags_Ringing                              6468 non-null   uint8  \n",
            " 11  Tags_Will revert after reading the email  6468 non-null   uint8  \n",
            " 12  Other Leads                               6468 non-null   uint8  \n",
            " 13  Potential Lead                            6468 non-null   uint8  \n",
            " 14  Select                                    6468 non-null   uint8  \n",
            " 15  Thane & Outskirts                         6468 non-null   uint8  \n",
            " 16  SMS Sent                                  6468 non-null   uint8  \n",
            "dtypes: float64(2), int64(3), uint8(12)\n",
            "memory usage: 379.0 KB\n"
          ]
        }
      ]
    },
    {
      "cell_type": "code",
      "source": [
        "# Logistic regression\n",
        "logm2 = sm.GLM(y_train,(sm.add_constant(X_train)), family = sm.families.Binomial())\n",
        "res = logm2.fit()\n",
        "res.summary()"
      ],
      "metadata": {
        "id": "ftVgICHIRiZg",
        "outputId": "078f0d8d-f3aa-4fc0-c0e9-c520bc04e139",
        "colab": {
          "base_uri": "https://localhost:8080/",
          "height": 691
        }
      },
      "execution_count": 107,
      "outputs": [
        {
          "output_type": "stream",
          "name": "stderr",
          "text": [
            "/usr/local/lib/python3.7/dist-packages/statsmodels/tsa/tsatools.py:117: FutureWarning: In a future version of pandas all arguments of concat except for the argument 'objs' will be keyword-only\n",
            "  x = pd.concat(x[::order], 1)\n"
          ]
        },
        {
          "output_type": "execute_result",
          "data": {
            "text/plain": [
              "<class 'statsmodels.iolib.summary.Summary'>\n",
              "\"\"\"\n",
              "                 Generalized Linear Model Regression Results                  \n",
              "==============================================================================\n",
              "Dep. Variable:              Converted   No. Observations:                 6468\n",
              "Model:                            GLM   Df Residuals:                     6450\n",
              "Model Family:                Binomial   Df Model:                           17\n",
              "Link Function:                  logit   Scale:                          1.0000\n",
              "Method:                          IRLS   Log-Likelihood:                -1748.8\n",
              "Date:                Tue, 15 Mar 2022   Deviance:                       3497.6\n",
              "Time:                        11:32:09   Pearson chi2:                 1.27e+04\n",
              "No. Iterations:                     7                                         \n",
              "Covariance Type:            nonrobust                                         \n",
              "============================================================================================================\n",
              "                                               coef    std err          z      P>|z|      [0.025      0.975]\n",
              "------------------------------------------------------------------------------------------------------------\n",
              "const                                       -7.2211      1.222     -5.909      0.000      -9.616      -4.826\n",
              "Lead Number                               5.039e-06   1.94e-06      2.592      0.010    1.23e-06    8.85e-06\n",
              "Do Not Email                                -1.0201      0.214     -4.757      0.000      -1.440      -0.600\n",
              "TotalVisits                                  0.0411      0.010      4.313      0.000       0.022       0.060\n",
              "Total Time Spent on Website                  0.0020   9.21e-05     21.958      0.000       0.002       0.002\n",
              "Search                                       1.4817      0.929      1.596      0.111      -0.338       3.302\n",
              "Lead Origin_Other                            3.4850      0.198     17.571      0.000       3.096       3.874\n",
              "Lead Source_Olark Chat                       1.0725      0.135      7.964      0.000       0.809       1.336\n",
              "Last Activity_Email Opened                   0.9532      0.111      8.577      0.000       0.735       1.171\n",
              "Last Activity_SMS Sent                       1.2139      0.178      6.817      0.000       0.865       1.563\n",
              "Specialization_Finance Management            0.4882      0.148      3.293      0.001       0.198       0.779\n",
              "Tags_Ringing                                -3.6798      0.237    -15.547      0.000      -4.144      -3.216\n",
              "Tags_Will revert after reading the email     3.9429      0.176     22.465      0.000       3.599       4.287\n",
              "Other Leads                                 -0.0683      0.200     -0.342      0.732      -0.460       0.323\n",
              "Potential Lead                               1.1396      0.138      8.275      0.000       0.870       1.410\n",
              "Select                                       0.9609      0.109      8.822      0.000       0.747       1.174\n",
              "Thane & Outskirts                           -0.0432      0.173     -0.250      0.803      -0.382       0.296\n",
              "SMS Sent                                     1.6100      0.183      8.805      0.000       1.252       1.968\n",
              "============================================================================================================\n",
              "\"\"\""
            ],
            "text/html": [
              "<table class=\"simpletable\">\n",
              "<caption>Generalized Linear Model Regression Results</caption>\n",
              "<tr>\n",
              "  <th>Dep. Variable:</th>       <td>Converted</td>    <th>  No. Observations:  </th>  <td>  6468</td> \n",
              "</tr>\n",
              "<tr>\n",
              "  <th>Model:</th>                  <td>GLM</td>       <th>  Df Residuals:      </th>  <td>  6450</td> \n",
              "</tr>\n",
              "<tr>\n",
              "  <th>Model Family:</th>        <td>Binomial</td>     <th>  Df Model:          </th>  <td>    17</td> \n",
              "</tr>\n",
              "<tr>\n",
              "  <th>Link Function:</th>         <td>logit</td>      <th>  Scale:             </th> <td>  1.0000</td>\n",
              "</tr>\n",
              "<tr>\n",
              "  <th>Method:</th>                <td>IRLS</td>       <th>  Log-Likelihood:    </th> <td> -1748.8</td>\n",
              "</tr>\n",
              "<tr>\n",
              "  <th>Date:</th>            <td>Tue, 15 Mar 2022</td> <th>  Deviance:          </th> <td>  3497.6</td>\n",
              "</tr>\n",
              "<tr>\n",
              "  <th>Time:</th>                <td>11:32:09</td>     <th>  Pearson chi2:      </th> <td>1.27e+04</td>\n",
              "</tr>\n",
              "<tr>\n",
              "  <th>No. Iterations:</th>          <td>7</td>        <th>                     </th>     <td> </td>   \n",
              "</tr>\n",
              "<tr>\n",
              "  <th>Covariance Type:</th>     <td>nonrobust</td>    <th>                     </th>     <td> </td>   \n",
              "</tr>\n",
              "</table>\n",
              "<table class=\"simpletable\">\n",
              "<tr>\n",
              "                      <td></td>                        <th>coef</th>     <th>std err</th>      <th>z</th>      <th>P>|z|</th>  <th>[0.025</th>    <th>0.975]</th>  \n",
              "</tr>\n",
              "<tr>\n",
              "  <th>const</th>                                    <td>   -7.2211</td> <td>    1.222</td> <td>   -5.909</td> <td> 0.000</td> <td>   -9.616</td> <td>   -4.826</td>\n",
              "</tr>\n",
              "<tr>\n",
              "  <th>Lead Number</th>                              <td> 5.039e-06</td> <td> 1.94e-06</td> <td>    2.592</td> <td> 0.010</td> <td> 1.23e-06</td> <td> 8.85e-06</td>\n",
              "</tr>\n",
              "<tr>\n",
              "  <th>Do Not Email</th>                             <td>   -1.0201</td> <td>    0.214</td> <td>   -4.757</td> <td> 0.000</td> <td>   -1.440</td> <td>   -0.600</td>\n",
              "</tr>\n",
              "<tr>\n",
              "  <th>TotalVisits</th>                              <td>    0.0411</td> <td>    0.010</td> <td>    4.313</td> <td> 0.000</td> <td>    0.022</td> <td>    0.060</td>\n",
              "</tr>\n",
              "<tr>\n",
              "  <th>Total Time Spent on Website</th>              <td>    0.0020</td> <td> 9.21e-05</td> <td>   21.958</td> <td> 0.000</td> <td>    0.002</td> <td>    0.002</td>\n",
              "</tr>\n",
              "<tr>\n",
              "  <th>Search</th>                                   <td>    1.4817</td> <td>    0.929</td> <td>    1.596</td> <td> 0.111</td> <td>   -0.338</td> <td>    3.302</td>\n",
              "</tr>\n",
              "<tr>\n",
              "  <th>Lead Origin_Other</th>                        <td>    3.4850</td> <td>    0.198</td> <td>   17.571</td> <td> 0.000</td> <td>    3.096</td> <td>    3.874</td>\n",
              "</tr>\n",
              "<tr>\n",
              "  <th>Lead Source_Olark Chat</th>                   <td>    1.0725</td> <td>    0.135</td> <td>    7.964</td> <td> 0.000</td> <td>    0.809</td> <td>    1.336</td>\n",
              "</tr>\n",
              "<tr>\n",
              "  <th>Last Activity_Email Opened</th>               <td>    0.9532</td> <td>    0.111</td> <td>    8.577</td> <td> 0.000</td> <td>    0.735</td> <td>    1.171</td>\n",
              "</tr>\n",
              "<tr>\n",
              "  <th>Last Activity_SMS Sent</th>                   <td>    1.2139</td> <td>    0.178</td> <td>    6.817</td> <td> 0.000</td> <td>    0.865</td> <td>    1.563</td>\n",
              "</tr>\n",
              "<tr>\n",
              "  <th>Specialization_Finance Management</th>        <td>    0.4882</td> <td>    0.148</td> <td>    3.293</td> <td> 0.001</td> <td>    0.198</td> <td>    0.779</td>\n",
              "</tr>\n",
              "<tr>\n",
              "  <th>Tags_Ringing</th>                             <td>   -3.6798</td> <td>    0.237</td> <td>  -15.547</td> <td> 0.000</td> <td>   -4.144</td> <td>   -3.216</td>\n",
              "</tr>\n",
              "<tr>\n",
              "  <th>Tags_Will revert after reading the email</th> <td>    3.9429</td> <td>    0.176</td> <td>   22.465</td> <td> 0.000</td> <td>    3.599</td> <td>    4.287</td>\n",
              "</tr>\n",
              "<tr>\n",
              "  <th>Other Leads</th>                              <td>   -0.0683</td> <td>    0.200</td> <td>   -0.342</td> <td> 0.732</td> <td>   -0.460</td> <td>    0.323</td>\n",
              "</tr>\n",
              "<tr>\n",
              "  <th>Potential Lead</th>                           <td>    1.1396</td> <td>    0.138</td> <td>    8.275</td> <td> 0.000</td> <td>    0.870</td> <td>    1.410</td>\n",
              "</tr>\n",
              "<tr>\n",
              "  <th>Select</th>                                   <td>    0.9609</td> <td>    0.109</td> <td>    8.822</td> <td> 0.000</td> <td>    0.747</td> <td>    1.174</td>\n",
              "</tr>\n",
              "<tr>\n",
              "  <th>Thane & Outskirts</th>                        <td>   -0.0432</td> <td>    0.173</td> <td>   -0.250</td> <td> 0.803</td> <td>   -0.382</td> <td>    0.296</td>\n",
              "</tr>\n",
              "<tr>\n",
              "  <th>SMS Sent</th>                                 <td>    1.6100</td> <td>    0.183</td> <td>    8.805</td> <td> 0.000</td> <td>    1.252</td> <td>    1.968</td>\n",
              "</tr>\n",
              "</table>"
            ]
          },
          "metadata": {},
          "execution_count": 107
        }
      ]
    },
    {
      "cell_type": "code",
      "source": [
        "# Feature Elimination using RFE\n",
        "from sklearn.linear_model import LogisticRegression"
      ],
      "metadata": {
        "id": "DftIY7roRikG"
      },
      "execution_count": 113,
      "outputs": []
    },
    {
      "cell_type": "code",
      "source": [
        "logreg = LogisticRegression()"
      ],
      "metadata": {
        "id": "-Tncaj0Qni5m"
      },
      "execution_count": 114,
      "outputs": []
    },
    {
      "cell_type": "code",
      "source": [
        "from sklearn.feature_selection import RFE\n",
        "rfe = RFE(logreg, step=15)\n",
        "rfe = rfe.fit(X_train, y_train)"
      ],
      "metadata": {
        "id": "WXQny6eeni9t"
      },
      "execution_count": 116,
      "outputs": []
    },
    {
      "cell_type": "code",
      "source": [
        "rfe.support_"
      ],
      "metadata": {
        "id": "ezYBQBX7njCL",
        "outputId": "0eab63bb-404a-41fd-bf99-3cf5abc82690",
        "colab": {
          "base_uri": "https://localhost:8080/"
        }
      },
      "execution_count": 117,
      "outputs": [
        {
          "output_type": "execute_result",
          "data": {
            "text/plain": [
              "array([ True, False, False,  True, False,  True, False, False,  True,\n",
              "       False,  True,  True, False,  True, False, False,  True])"
            ]
          },
          "metadata": {},
          "execution_count": 117
        }
      ]
    },
    {
      "cell_type": "code",
      "source": [
        "list(zip(X_train.columns, rfe.support_, rfe.ranking_))"
      ],
      "metadata": {
        "id": "JJpmWz0mnjFR",
        "outputId": "573083fb-afda-4835-badb-83f910639624",
        "colab": {
          "base_uri": "https://localhost:8080/"
        }
      },
      "execution_count": 118,
      "outputs": [
        {
          "output_type": "execute_result",
          "data": {
            "text/plain": [
              "[('Lead Number', True, 1),\n",
              " ('Do Not Email', False, 2),\n",
              " ('TotalVisits', False, 2),\n",
              " ('Total Time Spent on Website', True, 1),\n",
              " ('Search', False, 2),\n",
              " ('Lead Origin_Other', True, 1),\n",
              " ('Lead Source_Olark Chat', False, 2),\n",
              " ('Last Activity_Email Opened', False, 2),\n",
              " ('Last Activity_SMS Sent', True, 1),\n",
              " ('Specialization_Finance Management', False, 2),\n",
              " ('Tags_Ringing', True, 1),\n",
              " ('Tags_Will revert after reading the email', True, 1),\n",
              " ('Other Leads', False, 2),\n",
              " ('Potential Lead', True, 1),\n",
              " ('Select', False, 2),\n",
              " ('Thane & Outskirts', False, 2),\n",
              " ('SMS Sent', True, 1)]"
            ]
          },
          "metadata": {},
          "execution_count": 118
        }
      ]
    },
    {
      "cell_type": "code",
      "source": [
        "col = X_train.columns[rfe.support_]"
      ],
      "metadata": {
        "id": "ecVEgUbanjJE"
      },
      "execution_count": 119,
      "outputs": []
    },
    {
      "cell_type": "code",
      "source": [
        "X_train.columns[~rfe.support_]"
      ],
      "metadata": {
        "id": "sTVzvAkMnjNT",
        "outputId": "7c7d4d1c-7cd2-4983-f817-c7c0e7056dcd",
        "colab": {
          "base_uri": "https://localhost:8080/"
        }
      },
      "execution_count": 120,
      "outputs": [
        {
          "output_type": "execute_result",
          "data": {
            "text/plain": [
              "Index(['Do Not Email', 'TotalVisits', 'Search', 'Lead Source_Olark Chat',\n",
              "       'Last Activity_Email Opened', 'Specialization_Finance Management',\n",
              "       'Other Leads', 'Select', 'Thane & Outskirts'],\n",
              "      dtype='object')"
            ]
          },
          "metadata": {},
          "execution_count": 120
        }
      ]
    },
    {
      "cell_type": "code",
      "source": [
        "# Assessing the model with StatsModels:"
      ],
      "metadata": {
        "id": "FPDaKF_SZMVX"
      },
      "execution_count": null,
      "outputs": []
    },
    {
      "cell_type": "code",
      "source": [
        "X_train_sm = sm.add_constant(X_train[col])\n",
        "\n",
        "logm3 = sm.GLM(y_train, X_train_sm, family = sm.families.Binomial())\n",
        "\n",
        "res = logm3.fit()\n",
        "res.summary()"
      ],
      "metadata": {
        "id": "fIWR3zLMZMZr",
        "outputId": "f0828abe-2aee-46b9-c2e3-59576456cc65",
        "colab": {
          "base_uri": "https://localhost:8080/",
          "height": 444
        }
      },
      "execution_count": 124,
      "outputs": [
        {
          "output_type": "execute_result",
          "data": {
            "text/plain": [
              "<class 'statsmodels.iolib.summary.Summary'>\n",
              "\"\"\"\n",
              "                 Generalized Linear Model Regression Results                  \n",
              "==============================================================================\n",
              "Dep. Variable:              Converted   No. Observations:                 6468\n",
              "Model:                            GLM   Df Residuals:                     6459\n",
              "Model Family:                Binomial   Df Model:                            8\n",
              "Link Function:                  logit   Scale:                          1.0000\n",
              "Method:                          IRLS   Log-Likelihood:                -1904.5\n",
              "Date:                Tue, 15 Mar 2022   Deviance:                       3808.9\n",
              "Time:                        12:01:15   Pearson chi2:                 1.02e+04\n",
              "No. Iterations:                     7                                         \n",
              "Covariance Type:            nonrobust                                         \n",
              "============================================================================================================\n",
              "                                               coef    std err          z      P>|z|      [0.025      0.975]\n",
              "------------------------------------------------------------------------------------------------------------\n",
              "const                                       -5.4141      1.140     -4.747      0.000      -7.649      -3.179\n",
              "Lead Number                               5.675e-06   1.83e-06      3.094      0.002    2.08e-06    9.27e-06\n",
              "Total Time Spent on Website                  0.8986      0.042     21.437      0.000       0.816       0.981\n",
              "Lead Origin_Other                            3.2908      0.179     18.417      0.000       2.941       3.641\n",
              "Last Activity_SMS Sent                       0.4596      0.153      3.013      0.003       0.161       0.759\n",
              "Tags_Ringing                                -3.4958      0.233    -15.028      0.000      -3.952      -3.040\n",
              "Tags_Will revert after reading the email     3.8650      0.168     23.069      0.000       3.537       4.193\n",
              "Potential Lead                               1.0242      0.132      7.785      0.000       0.766       1.282\n",
              "SMS Sent                                     1.7195      0.172      9.968      0.000       1.381       2.058\n",
              "============================================================================================================\n",
              "\"\"\""
            ],
            "text/html": [
              "<table class=\"simpletable\">\n",
              "<caption>Generalized Linear Model Regression Results</caption>\n",
              "<tr>\n",
              "  <th>Dep. Variable:</th>       <td>Converted</td>    <th>  No. Observations:  </th>  <td>  6468</td> \n",
              "</tr>\n",
              "<tr>\n",
              "  <th>Model:</th>                  <td>GLM</td>       <th>  Df Residuals:      </th>  <td>  6459</td> \n",
              "</tr>\n",
              "<tr>\n",
              "  <th>Model Family:</th>        <td>Binomial</td>     <th>  Df Model:          </th>  <td>     8</td> \n",
              "</tr>\n",
              "<tr>\n",
              "  <th>Link Function:</th>         <td>logit</td>      <th>  Scale:             </th> <td>  1.0000</td>\n",
              "</tr>\n",
              "<tr>\n",
              "  <th>Method:</th>                <td>IRLS</td>       <th>  Log-Likelihood:    </th> <td> -1904.5</td>\n",
              "</tr>\n",
              "<tr>\n",
              "  <th>Date:</th>            <td>Tue, 15 Mar 2022</td> <th>  Deviance:          </th> <td>  3808.9</td>\n",
              "</tr>\n",
              "<tr>\n",
              "  <th>Time:</th>                <td>12:01:15</td>     <th>  Pearson chi2:      </th> <td>1.02e+04</td>\n",
              "</tr>\n",
              "<tr>\n",
              "  <th>No. Iterations:</th>          <td>7</td>        <th>                     </th>     <td> </td>   \n",
              "</tr>\n",
              "<tr>\n",
              "  <th>Covariance Type:</th>     <td>nonrobust</td>    <th>                     </th>     <td> </td>   \n",
              "</tr>\n",
              "</table>\n",
              "<table class=\"simpletable\">\n",
              "<tr>\n",
              "                      <td></td>                        <th>coef</th>     <th>std err</th>      <th>z</th>      <th>P>|z|</th>  <th>[0.025</th>    <th>0.975]</th>  \n",
              "</tr>\n",
              "<tr>\n",
              "  <th>const</th>                                    <td>   -5.4141</td> <td>    1.140</td> <td>   -4.747</td> <td> 0.000</td> <td>   -7.649</td> <td>   -3.179</td>\n",
              "</tr>\n",
              "<tr>\n",
              "  <th>Lead Number</th>                              <td> 5.675e-06</td> <td> 1.83e-06</td> <td>    3.094</td> <td> 0.002</td> <td> 2.08e-06</td> <td> 9.27e-06</td>\n",
              "</tr>\n",
              "<tr>\n",
              "  <th>Total Time Spent on Website</th>              <td>    0.8986</td> <td>    0.042</td> <td>   21.437</td> <td> 0.000</td> <td>    0.816</td> <td>    0.981</td>\n",
              "</tr>\n",
              "<tr>\n",
              "  <th>Lead Origin_Other</th>                        <td>    3.2908</td> <td>    0.179</td> <td>   18.417</td> <td> 0.000</td> <td>    2.941</td> <td>    3.641</td>\n",
              "</tr>\n",
              "<tr>\n",
              "  <th>Last Activity_SMS Sent</th>                   <td>    0.4596</td> <td>    0.153</td> <td>    3.013</td> <td> 0.003</td> <td>    0.161</td> <td>    0.759</td>\n",
              "</tr>\n",
              "<tr>\n",
              "  <th>Tags_Ringing</th>                             <td>   -3.4958</td> <td>    0.233</td> <td>  -15.028</td> <td> 0.000</td> <td>   -3.952</td> <td>   -3.040</td>\n",
              "</tr>\n",
              "<tr>\n",
              "  <th>Tags_Will revert after reading the email</th> <td>    3.8650</td> <td>    0.168</td> <td>   23.069</td> <td> 0.000</td> <td>    3.537</td> <td>    4.193</td>\n",
              "</tr>\n",
              "<tr>\n",
              "  <th>Potential Lead</th>                           <td>    1.0242</td> <td>    0.132</td> <td>    7.785</td> <td> 0.000</td> <td>    0.766</td> <td>    1.282</td>\n",
              "</tr>\n",
              "<tr>\n",
              "  <th>SMS Sent</th>                                 <td>    1.7195</td> <td>    0.172</td> <td>    9.968</td> <td> 0.000</td> <td>    1.381</td> <td>    2.058</td>\n",
              "</tr>\n",
              "</table>"
            ]
          },
          "metadata": {},
          "execution_count": 124
        }
      ]
    },
    {
      "cell_type": "code",
      "source": [
        "# Getting predicted values on the trained set:\n",
        "y_train_pred = res.predict(X_train_sm)*100\n",
        "y_train_pred[:10]"
      ],
      "metadata": {
        "id": "8AlLlb7DZMdZ",
        "outputId": "be539aac-50ea-4666-b05a-280f906f0580",
        "colab": {
          "base_uri": "https://localhost:8080/"
        }
      },
      "execution_count": 127,
      "outputs": [
        {
          "output_type": "execute_result",
          "data": {
            "text/plain": [
              "1871     0.231647\n",
              "6795    11.743037\n",
              "3516     0.253792\n",
              "8105    10.272028\n",
              "3934     6.430196\n",
              "4844    99.889890\n",
              "3297     0.247474\n",
              "8071    88.113278\n",
              "987     23.448981\n",
              "7423    99.887809\n",
              "dtype: float64"
            ]
          },
          "metadata": {},
          "execution_count": 127
        }
      ]
    },
    {
      "cell_type": "code",
      "source": [
        "y_train_pred = y_train_pred.values.reshape(-1)\n",
        "y_train_pred[:10]"
      ],
      "metadata": {
        "id": "rNQqqaDxZMhJ"
      },
      "execution_count": null,
      "outputs": []
    },
    {
      "cell_type": "code",
      "source": [
        "# Creating a dataframe with Lead Number and Predicted values"
      ],
      "metadata": {
        "id": "F2pJy6EpZMky"
      },
      "execution_count": null,
      "outputs": []
    },
    {
      "cell_type": "code",
      "source": [
        ""
      ],
      "metadata": {
        "id": "wkLQfPuA_zRH"
      },
      "execution_count": null,
      "outputs": []
    },
    {
      "cell_type": "code",
      "source": [
        "#y_train_pred_final = pd.DataFrame({'Churn':y_train.values, 'Churn_Prob':y_train_pred})\n",
        "#y_train_pred_final['CustID'] = y_train.index\n",
        "#y_train_pred_final.head()"
      ],
      "metadata": {
        "id": "diad1Rwb_zWE"
      },
      "execution_count": null,
      "outputs": []
    },
    {
      "cell_type": "code",
      "source": [
        ""
      ],
      "metadata": {
        "id": "MwEq5hvB_z-O"
      },
      "execution_count": null,
      "outputs": []
    },
    {
      "cell_type": "code",
      "source": [
        "y_train_pred_final = pd.DataFrame({'Lead':y_train.values, 'Conversion_Prob':y_train_pred/100})\n",
        "y_train_pred_final['Lead Number'] = y_train.index\n",
        "y_train_pred_final.head()"
      ],
      "metadata": {
        "id": "o8C24vOXZMpM",
        "outputId": "9f0c06f6-9f5a-45cf-a441-2912c8595a0d",
        "colab": {
          "base_uri": "https://localhost:8080/",
          "height": 206
        }
      },
      "execution_count": 161,
      "outputs": [
        {
          "output_type": "execute_result",
          "data": {
            "text/plain": [
              "   Lead  Conversion_Prob  Lead Number\n",
              "0     0         0.231647         1871\n",
              "1     0        11.743037         6795\n",
              "2     0         0.253792         3516\n",
              "3     0        10.272028         8105\n",
              "4     0         6.430196         3934"
            ],
            "text/html": [
              "\n",
              "  <div id=\"df-a76f48bc-ae1f-4061-abd3-59bf3dd41b8c\">\n",
              "    <div class=\"colab-df-container\">\n",
              "      <div>\n",
              "<style scoped>\n",
              "    .dataframe tbody tr th:only-of-type {\n",
              "        vertical-align: middle;\n",
              "    }\n",
              "\n",
              "    .dataframe tbody tr th {\n",
              "        vertical-align: top;\n",
              "    }\n",
              "\n",
              "    .dataframe thead th {\n",
              "        text-align: right;\n",
              "    }\n",
              "</style>\n",
              "<table border=\"1\" class=\"dataframe\">\n",
              "  <thead>\n",
              "    <tr style=\"text-align: right;\">\n",
              "      <th></th>\n",
              "      <th>Lead</th>\n",
              "      <th>Conversion_Prob</th>\n",
              "      <th>Lead Number</th>\n",
              "    </tr>\n",
              "  </thead>\n",
              "  <tbody>\n",
              "    <tr>\n",
              "      <th>0</th>\n",
              "      <td>0</td>\n",
              "      <td>0.231647</td>\n",
              "      <td>1871</td>\n",
              "    </tr>\n",
              "    <tr>\n",
              "      <th>1</th>\n",
              "      <td>0</td>\n",
              "      <td>11.743037</td>\n",
              "      <td>6795</td>\n",
              "    </tr>\n",
              "    <tr>\n",
              "      <th>2</th>\n",
              "      <td>0</td>\n",
              "      <td>0.253792</td>\n",
              "      <td>3516</td>\n",
              "    </tr>\n",
              "    <tr>\n",
              "      <th>3</th>\n",
              "      <td>0</td>\n",
              "      <td>10.272028</td>\n",
              "      <td>8105</td>\n",
              "    </tr>\n",
              "    <tr>\n",
              "      <th>4</th>\n",
              "      <td>0</td>\n",
              "      <td>6.430196</td>\n",
              "      <td>3934</td>\n",
              "    </tr>\n",
              "  </tbody>\n",
              "</table>\n",
              "</div>\n",
              "      <button class=\"colab-df-convert\" onclick=\"convertToInteractive('df-a76f48bc-ae1f-4061-abd3-59bf3dd41b8c')\"\n",
              "              title=\"Convert this dataframe to an interactive table.\"\n",
              "              style=\"display:none;\">\n",
              "        \n",
              "  <svg xmlns=\"http://www.w3.org/2000/svg\" height=\"24px\"viewBox=\"0 0 24 24\"\n",
              "       width=\"24px\">\n",
              "    <path d=\"M0 0h24v24H0V0z\" fill=\"none\"/>\n",
              "    <path d=\"M18.56 5.44l.94 2.06.94-2.06 2.06-.94-2.06-.94-.94-2.06-.94 2.06-2.06.94zm-11 1L8.5 8.5l.94-2.06 2.06-.94-2.06-.94L8.5 2.5l-.94 2.06-2.06.94zm10 10l.94 2.06.94-2.06 2.06-.94-2.06-.94-.94-2.06-.94 2.06-2.06.94z\"/><path d=\"M17.41 7.96l-1.37-1.37c-.4-.4-.92-.59-1.43-.59-.52 0-1.04.2-1.43.59L10.3 9.45l-7.72 7.72c-.78.78-.78 2.05 0 2.83L4 21.41c.39.39.9.59 1.41.59.51 0 1.02-.2 1.41-.59l7.78-7.78 2.81-2.81c.8-.78.8-2.07 0-2.86zM5.41 20L4 18.59l7.72-7.72 1.47 1.35L5.41 20z\"/>\n",
              "  </svg>\n",
              "      </button>\n",
              "      \n",
              "  <style>\n",
              "    .colab-df-container {\n",
              "      display:flex;\n",
              "      flex-wrap:wrap;\n",
              "      gap: 12px;\n",
              "    }\n",
              "\n",
              "    .colab-df-convert {\n",
              "      background-color: #E8F0FE;\n",
              "      border: none;\n",
              "      border-radius: 50%;\n",
              "      cursor: pointer;\n",
              "      display: none;\n",
              "      fill: #1967D2;\n",
              "      height: 32px;\n",
              "      padding: 0 0 0 0;\n",
              "      width: 32px;\n",
              "    }\n",
              "\n",
              "    .colab-df-convert:hover {\n",
              "      background-color: #E2EBFA;\n",
              "      box-shadow: 0px 1px 2px rgba(60, 64, 67, 0.3), 0px 1px 3px 1px rgba(60, 64, 67, 0.15);\n",
              "      fill: #174EA6;\n",
              "    }\n",
              "\n",
              "    [theme=dark] .colab-df-convert {\n",
              "      background-color: #3B4455;\n",
              "      fill: #D2E3FC;\n",
              "    }\n",
              "\n",
              "    [theme=dark] .colab-df-convert:hover {\n",
              "      background-color: #434B5C;\n",
              "      box-shadow: 0px 1px 3px 1px rgba(0, 0, 0, 0.15);\n",
              "      filter: drop-shadow(0px 1px 2px rgba(0, 0, 0, 0.3));\n",
              "      fill: #FFFFFF;\n",
              "    }\n",
              "  </style>\n",
              "\n",
              "      <script>\n",
              "        const buttonEl =\n",
              "          document.querySelector('#df-a76f48bc-ae1f-4061-abd3-59bf3dd41b8c button.colab-df-convert');\n",
              "        buttonEl.style.display =\n",
              "          google.colab.kernel.accessAllowed ? 'block' : 'none';\n",
              "\n",
              "        async function convertToInteractive(key) {\n",
              "          const element = document.querySelector('#df-a76f48bc-ae1f-4061-abd3-59bf3dd41b8c');\n",
              "          const dataTable =\n",
              "            await google.colab.kernel.invokeFunction('convertToInteractive',\n",
              "                                                     [key], {});\n",
              "          if (!dataTable) return;\n",
              "\n",
              "          const docLinkHtml = 'Like what you see? Visit the ' +\n",
              "            '<a target=\"_blank\" href=https://colab.research.google.com/notebooks/data_table.ipynb>data table notebook</a>'\n",
              "            + ' to learn more about interactive tables.';\n",
              "          element.innerHTML = '';\n",
              "          dataTable['output_type'] = 'display_data';\n",
              "          await google.colab.output.renderOutput(dataTable, element);\n",
              "          const docLink = document.createElement('div');\n",
              "          docLink.innerHTML = docLinkHtml;\n",
              "          element.appendChild(docLink);\n",
              "        }\n",
              "      </script>\n",
              "    </div>\n",
              "  </div>\n",
              "  "
            ]
          },
          "metadata": {},
          "execution_count": 161
        }
      ]
    },
    {
      "cell_type": "code",
      "source": [
        "#Checking VIFs\n",
        "# Check for the VIF values of the feature variables. \n",
        "from statsmodels.stats.outliers_influence import variance_inflation_factor"
      ],
      "metadata": {
        "id": "WD-f8JfQoY-A"
      },
      "execution_count": 135,
      "outputs": []
    },
    {
      "cell_type": "code",
      "source": [
        "# Create a dataframe that will contain the names of all the feature variables and their respective VIFs\n",
        "vif = pd.DataFrame()\n",
        "vif['Features'] = X_train[col].columns\n",
        "vif['VIF'] = [variance_inflation_factor(X_train[col].values, i) for i in range(X_train[col].shape[1])]\n",
        "vif['VIF'] = round(vif['VIF'], 2)\n",
        "vif = vif.sort_values(by = \"VIF\", ascending = False)\n",
        "vif"
      ],
      "metadata": {
        "id": "iUi9RhCEoZBn",
        "outputId": "8ab5b953-7061-4c85-a339-0f6aa9949bc3",
        "colab": {
          "base_uri": "https://localhost:8080/",
          "height": 300
        }
      },
      "execution_count": 136,
      "outputs": [
        {
          "output_type": "execute_result",
          "data": {
            "text/plain": [
              "                                   Features   VIF\n",
              "3                    Last Activity_SMS Sent  5.24\n",
              "7                                  SMS Sent  4.96\n",
              "5  Tags_Will revert after reading the email  1.97\n",
              "0                               Lead Number  1.88\n",
              "6                            Potential Lead  1.60\n",
              "2                         Lead Origin_Other  1.23\n",
              "4                              Tags_Ringing  1.23\n",
              "1               Total Time Spent on Website  1.12"
            ],
            "text/html": [
              "\n",
              "  <div id=\"df-529d50b5-133f-4e5c-8897-78d56bb48be5\">\n",
              "    <div class=\"colab-df-container\">\n",
              "      <div>\n",
              "<style scoped>\n",
              "    .dataframe tbody tr th:only-of-type {\n",
              "        vertical-align: middle;\n",
              "    }\n",
              "\n",
              "    .dataframe tbody tr th {\n",
              "        vertical-align: top;\n",
              "    }\n",
              "\n",
              "    .dataframe thead th {\n",
              "        text-align: right;\n",
              "    }\n",
              "</style>\n",
              "<table border=\"1\" class=\"dataframe\">\n",
              "  <thead>\n",
              "    <tr style=\"text-align: right;\">\n",
              "      <th></th>\n",
              "      <th>Features</th>\n",
              "      <th>VIF</th>\n",
              "    </tr>\n",
              "  </thead>\n",
              "  <tbody>\n",
              "    <tr>\n",
              "      <th>3</th>\n",
              "      <td>Last Activity_SMS Sent</td>\n",
              "      <td>5.24</td>\n",
              "    </tr>\n",
              "    <tr>\n",
              "      <th>7</th>\n",
              "      <td>SMS Sent</td>\n",
              "      <td>4.96</td>\n",
              "    </tr>\n",
              "    <tr>\n",
              "      <th>5</th>\n",
              "      <td>Tags_Will revert after reading the email</td>\n",
              "      <td>1.97</td>\n",
              "    </tr>\n",
              "    <tr>\n",
              "      <th>0</th>\n",
              "      <td>Lead Number</td>\n",
              "      <td>1.88</td>\n",
              "    </tr>\n",
              "    <tr>\n",
              "      <th>6</th>\n",
              "      <td>Potential Lead</td>\n",
              "      <td>1.60</td>\n",
              "    </tr>\n",
              "    <tr>\n",
              "      <th>2</th>\n",
              "      <td>Lead Origin_Other</td>\n",
              "      <td>1.23</td>\n",
              "    </tr>\n",
              "    <tr>\n",
              "      <th>4</th>\n",
              "      <td>Tags_Ringing</td>\n",
              "      <td>1.23</td>\n",
              "    </tr>\n",
              "    <tr>\n",
              "      <th>1</th>\n",
              "      <td>Total Time Spent on Website</td>\n",
              "      <td>1.12</td>\n",
              "    </tr>\n",
              "  </tbody>\n",
              "</table>\n",
              "</div>\n",
              "      <button class=\"colab-df-convert\" onclick=\"convertToInteractive('df-529d50b5-133f-4e5c-8897-78d56bb48be5')\"\n",
              "              title=\"Convert this dataframe to an interactive table.\"\n",
              "              style=\"display:none;\">\n",
              "        \n",
              "  <svg xmlns=\"http://www.w3.org/2000/svg\" height=\"24px\"viewBox=\"0 0 24 24\"\n",
              "       width=\"24px\">\n",
              "    <path d=\"M0 0h24v24H0V0z\" fill=\"none\"/>\n",
              "    <path d=\"M18.56 5.44l.94 2.06.94-2.06 2.06-.94-2.06-.94-.94-2.06-.94 2.06-2.06.94zm-11 1L8.5 8.5l.94-2.06 2.06-.94-2.06-.94L8.5 2.5l-.94 2.06-2.06.94zm10 10l.94 2.06.94-2.06 2.06-.94-2.06-.94-.94-2.06-.94 2.06-2.06.94z\"/><path d=\"M17.41 7.96l-1.37-1.37c-.4-.4-.92-.59-1.43-.59-.52 0-1.04.2-1.43.59L10.3 9.45l-7.72 7.72c-.78.78-.78 2.05 0 2.83L4 21.41c.39.39.9.59 1.41.59.51 0 1.02-.2 1.41-.59l7.78-7.78 2.81-2.81c.8-.78.8-2.07 0-2.86zM5.41 20L4 18.59l7.72-7.72 1.47 1.35L5.41 20z\"/>\n",
              "  </svg>\n",
              "      </button>\n",
              "      \n",
              "  <style>\n",
              "    .colab-df-container {\n",
              "      display:flex;\n",
              "      flex-wrap:wrap;\n",
              "      gap: 12px;\n",
              "    }\n",
              "\n",
              "    .colab-df-convert {\n",
              "      background-color: #E8F0FE;\n",
              "      border: none;\n",
              "      border-radius: 50%;\n",
              "      cursor: pointer;\n",
              "      display: none;\n",
              "      fill: #1967D2;\n",
              "      height: 32px;\n",
              "      padding: 0 0 0 0;\n",
              "      width: 32px;\n",
              "    }\n",
              "\n",
              "    .colab-df-convert:hover {\n",
              "      background-color: #E2EBFA;\n",
              "      box-shadow: 0px 1px 2px rgba(60, 64, 67, 0.3), 0px 1px 3px 1px rgba(60, 64, 67, 0.15);\n",
              "      fill: #174EA6;\n",
              "    }\n",
              "\n",
              "    [theme=dark] .colab-df-convert {\n",
              "      background-color: #3B4455;\n",
              "      fill: #D2E3FC;\n",
              "    }\n",
              "\n",
              "    [theme=dark] .colab-df-convert:hover {\n",
              "      background-color: #434B5C;\n",
              "      box-shadow: 0px 1px 3px 1px rgba(0, 0, 0, 0.15);\n",
              "      filter: drop-shadow(0px 1px 2px rgba(0, 0, 0, 0.3));\n",
              "      fill: #FFFFFF;\n",
              "    }\n",
              "  </style>\n",
              "\n",
              "      <script>\n",
              "        const buttonEl =\n",
              "          document.querySelector('#df-529d50b5-133f-4e5c-8897-78d56bb48be5 button.colab-df-convert');\n",
              "        buttonEl.style.display =\n",
              "          google.colab.kernel.accessAllowed ? 'block' : 'none';\n",
              "\n",
              "        async function convertToInteractive(key) {\n",
              "          const element = document.querySelector('#df-529d50b5-133f-4e5c-8897-78d56bb48be5');\n",
              "          const dataTable =\n",
              "            await google.colab.kernel.invokeFunction('convertToInteractive',\n",
              "                                                     [key], {});\n",
              "          if (!dataTable) return;\n",
              "\n",
              "          const docLinkHtml = 'Like what you see? Visit the ' +\n",
              "            '<a target=\"_blank\" href=https://colab.research.google.com/notebooks/data_table.ipynb>data table notebook</a>'\n",
              "            + ' to learn more about interactive tables.';\n",
              "          element.innerHTML = '';\n",
              "          dataTable['output_type'] = 'display_data';\n",
              "          await google.colab.output.renderOutput(dataTable, element);\n",
              "          const docLink = document.createElement('div');\n",
              "          docLink.innerHTML = docLinkHtml;\n",
              "          element.appendChild(docLink);\n",
              "        }\n",
              "      </script>\n",
              "    </div>\n",
              "  </div>\n",
              "  "
            ]
          },
          "metadata": {},
          "execution_count": 136
        }
      ]
    },
    {
      "cell_type": "markdown",
      "source": [
        "**From the above, VIF values are within permissible range.**"
      ],
      "metadata": {
        "id": "JPCGzm-BnTZo"
      }
    },
    {
      "cell_type": "code",
      "source": [
        "# All variables have a good value of VIF. So we need not drop any more variables and we can proceed with making predictions using this model only."
      ],
      "metadata": {
        "id": "iq-w-u7h3RFO"
      },
      "execution_count": null,
      "outputs": []
    },
    {
      "cell_type": "code",
      "source": [
        "# Making predictions on the test set:\n",
        "X_test[['TotalVisits', 'Total Time Spent on Website']] = scaler.transform(X_test[['TotalVisits', 'Total Time Spent on Website']])"
      ],
      "metadata": {
        "id": "HrHClGCM3RKF"
      },
      "execution_count": 138,
      "outputs": []
    },
    {
      "cell_type": "code",
      "source": [
        "X_test = X_test[col]\n",
        "X_test.head()"
      ],
      "metadata": {
        "id": "reRp2nRGoZEs",
        "colab": {
          "base_uri": "https://localhost:8080/",
          "height": 267
        },
        "outputId": "5897a8e7-caf4-4c6e-833a-65b99ffde198"
      },
      "execution_count": 139,
      "outputs": [
        {
          "output_type": "execute_result",
          "data": {
            "text/plain": [
              "      Lead Number  Total Time Spent on Website  Lead Origin_Other  \\\n",
              "4269       619003                     0.964504                  0   \n",
              "2376       636884                    -0.885371                  1   \n",
              "7766       590281                    -0.777416                  0   \n",
              "9199       579892                    -0.885371                  0   \n",
              "4359       617929                    -0.885371                  1   \n",
              "\n",
              "      Last Activity_SMS Sent  Tags_Ringing  \\\n",
              "4269                       1             0   \n",
              "2376                       1             0   \n",
              "7766                       0             0   \n",
              "9199                       0             0   \n",
              "4359                       0             0   \n",
              "\n",
              "      Tags_Will revert after reading the email  Potential Lead  SMS Sent  \n",
              "4269                                         0               0         1  \n",
              "2376                                         1               0         1  \n",
              "7766                                         1               0         0  \n",
              "9199                                         0               1         0  \n",
              "4359                                         1               1         0  "
            ],
            "text/html": [
              "\n",
              "  <div id=\"df-0cc1c6ba-6711-4958-95dc-eb7b998aeead\">\n",
              "    <div class=\"colab-df-container\">\n",
              "      <div>\n",
              "<style scoped>\n",
              "    .dataframe tbody tr th:only-of-type {\n",
              "        vertical-align: middle;\n",
              "    }\n",
              "\n",
              "    .dataframe tbody tr th {\n",
              "        vertical-align: top;\n",
              "    }\n",
              "\n",
              "    .dataframe thead th {\n",
              "        text-align: right;\n",
              "    }\n",
              "</style>\n",
              "<table border=\"1\" class=\"dataframe\">\n",
              "  <thead>\n",
              "    <tr style=\"text-align: right;\">\n",
              "      <th></th>\n",
              "      <th>Lead Number</th>\n",
              "      <th>Total Time Spent on Website</th>\n",
              "      <th>Lead Origin_Other</th>\n",
              "      <th>Last Activity_SMS Sent</th>\n",
              "      <th>Tags_Ringing</th>\n",
              "      <th>Tags_Will revert after reading the email</th>\n",
              "      <th>Potential Lead</th>\n",
              "      <th>SMS Sent</th>\n",
              "    </tr>\n",
              "  </thead>\n",
              "  <tbody>\n",
              "    <tr>\n",
              "      <th>4269</th>\n",
              "      <td>619003</td>\n",
              "      <td>0.964504</td>\n",
              "      <td>0</td>\n",
              "      <td>1</td>\n",
              "      <td>0</td>\n",
              "      <td>0</td>\n",
              "      <td>0</td>\n",
              "      <td>1</td>\n",
              "    </tr>\n",
              "    <tr>\n",
              "      <th>2376</th>\n",
              "      <td>636884</td>\n",
              "      <td>-0.885371</td>\n",
              "      <td>1</td>\n",
              "      <td>1</td>\n",
              "      <td>0</td>\n",
              "      <td>1</td>\n",
              "      <td>0</td>\n",
              "      <td>1</td>\n",
              "    </tr>\n",
              "    <tr>\n",
              "      <th>7766</th>\n",
              "      <td>590281</td>\n",
              "      <td>-0.777416</td>\n",
              "      <td>0</td>\n",
              "      <td>0</td>\n",
              "      <td>0</td>\n",
              "      <td>1</td>\n",
              "      <td>0</td>\n",
              "      <td>0</td>\n",
              "    </tr>\n",
              "    <tr>\n",
              "      <th>9199</th>\n",
              "      <td>579892</td>\n",
              "      <td>-0.885371</td>\n",
              "      <td>0</td>\n",
              "      <td>0</td>\n",
              "      <td>0</td>\n",
              "      <td>0</td>\n",
              "      <td>1</td>\n",
              "      <td>0</td>\n",
              "    </tr>\n",
              "    <tr>\n",
              "      <th>4359</th>\n",
              "      <td>617929</td>\n",
              "      <td>-0.885371</td>\n",
              "      <td>1</td>\n",
              "      <td>0</td>\n",
              "      <td>0</td>\n",
              "      <td>1</td>\n",
              "      <td>1</td>\n",
              "      <td>0</td>\n",
              "    </tr>\n",
              "  </tbody>\n",
              "</table>\n",
              "</div>\n",
              "      <button class=\"colab-df-convert\" onclick=\"convertToInteractive('df-0cc1c6ba-6711-4958-95dc-eb7b998aeead')\"\n",
              "              title=\"Convert this dataframe to an interactive table.\"\n",
              "              style=\"display:none;\">\n",
              "        \n",
              "  <svg xmlns=\"http://www.w3.org/2000/svg\" height=\"24px\"viewBox=\"0 0 24 24\"\n",
              "       width=\"24px\">\n",
              "    <path d=\"M0 0h24v24H0V0z\" fill=\"none\"/>\n",
              "    <path d=\"M18.56 5.44l.94 2.06.94-2.06 2.06-.94-2.06-.94-.94-2.06-.94 2.06-2.06.94zm-11 1L8.5 8.5l.94-2.06 2.06-.94-2.06-.94L8.5 2.5l-.94 2.06-2.06.94zm10 10l.94 2.06.94-2.06 2.06-.94-2.06-.94-.94-2.06-.94 2.06-2.06.94z\"/><path d=\"M17.41 7.96l-1.37-1.37c-.4-.4-.92-.59-1.43-.59-.52 0-1.04.2-1.43.59L10.3 9.45l-7.72 7.72c-.78.78-.78 2.05 0 2.83L4 21.41c.39.39.9.59 1.41.59.51 0 1.02-.2 1.41-.59l7.78-7.78 2.81-2.81c.8-.78.8-2.07 0-2.86zM5.41 20L4 18.59l7.72-7.72 1.47 1.35L5.41 20z\"/>\n",
              "  </svg>\n",
              "      </button>\n",
              "      \n",
              "  <style>\n",
              "    .colab-df-container {\n",
              "      display:flex;\n",
              "      flex-wrap:wrap;\n",
              "      gap: 12px;\n",
              "    }\n",
              "\n",
              "    .colab-df-convert {\n",
              "      background-color: #E8F0FE;\n",
              "      border: none;\n",
              "      border-radius: 50%;\n",
              "      cursor: pointer;\n",
              "      display: none;\n",
              "      fill: #1967D2;\n",
              "      height: 32px;\n",
              "      padding: 0 0 0 0;\n",
              "      width: 32px;\n",
              "    }\n",
              "\n",
              "    .colab-df-convert:hover {\n",
              "      background-color: #E2EBFA;\n",
              "      box-shadow: 0px 1px 2px rgba(60, 64, 67, 0.3), 0px 1px 3px 1px rgba(60, 64, 67, 0.15);\n",
              "      fill: #174EA6;\n",
              "    }\n",
              "\n",
              "    [theme=dark] .colab-df-convert {\n",
              "      background-color: #3B4455;\n",
              "      fill: #D2E3FC;\n",
              "    }\n",
              "\n",
              "    [theme=dark] .colab-df-convert:hover {\n",
              "      background-color: #434B5C;\n",
              "      box-shadow: 0px 1px 3px 1px rgba(0, 0, 0, 0.15);\n",
              "      filter: drop-shadow(0px 1px 2px rgba(0, 0, 0, 0.3));\n",
              "      fill: #FFFFFF;\n",
              "    }\n",
              "  </style>\n",
              "\n",
              "      <script>\n",
              "        const buttonEl =\n",
              "          document.querySelector('#df-0cc1c6ba-6711-4958-95dc-eb7b998aeead button.colab-df-convert');\n",
              "        buttonEl.style.display =\n",
              "          google.colab.kernel.accessAllowed ? 'block' : 'none';\n",
              "\n",
              "        async function convertToInteractive(key) {\n",
              "          const element = document.querySelector('#df-0cc1c6ba-6711-4958-95dc-eb7b998aeead');\n",
              "          const dataTable =\n",
              "            await google.colab.kernel.invokeFunction('convertToInteractive',\n",
              "                                                     [key], {});\n",
              "          if (!dataTable) return;\n",
              "\n",
              "          const docLinkHtml = 'Like what you see? Visit the ' +\n",
              "            '<a target=\"_blank\" href=https://colab.research.google.com/notebooks/data_table.ipynb>data table notebook</a>'\n",
              "            + ' to learn more about interactive tables.';\n",
              "          element.innerHTML = '';\n",
              "          dataTable['output_type'] = 'display_data';\n",
              "          await google.colab.output.renderOutput(dataTable, element);\n",
              "          const docLink = document.createElement('div');\n",
              "          docLink.innerHTML = docLinkHtml;\n",
              "          element.appendChild(docLink);\n",
              "        }\n",
              "      </script>\n",
              "    </div>\n",
              "  </div>\n",
              "  "
            ]
          },
          "metadata": {},
          "execution_count": 139
        }
      ]
    },
    {
      "cell_type": "code",
      "source": [
        "X_test_sm = sm.add_constant(X_test)"
      ],
      "metadata": {
        "id": "u516NykYoZH4",
        "outputId": "da222ee3-721a-4f3a-ba22-bf60f823645b",
        "colab": {
          "base_uri": "https://localhost:8080/"
        }
      },
      "execution_count": 140,
      "outputs": [
        {
          "output_type": "stream",
          "name": "stderr",
          "text": [
            "/usr/local/lib/python3.7/dist-packages/statsmodels/tsa/tsatools.py:117: FutureWarning: In a future version of pandas all arguments of concat except for the argument 'objs' will be keyword-only\n",
            "  x = pd.concat(x[::order], 1)\n"
          ]
        }
      ]
    },
    {
      "cell_type": "code",
      "source": [
        "y_test_pred = res.predict(X_test_sm)\n",
        "y_test_pred[:10]"
      ],
      "metadata": {
        "id": "_E987Xs5oZK_",
        "outputId": "28d31751-b26c-46d4-9b09-d7d0406eea4f",
        "colab": {
          "base_uri": "https://localhost:8080/"
        }
      },
      "execution_count": 141,
      "outputs": [
        {
          "output_type": "execute_result",
          "data": {
            "text/plain": [
              "4269    0.758535\n",
              "2376    0.998818\n",
              "7766    0.750671\n",
              "9199    0.130723\n",
              "4359    0.995836\n",
              "9186    0.994270\n",
              "1631    0.981940\n",
              "8963    0.918412\n",
              "8007    0.090758\n",
              "5324    0.972175\n",
              "dtype: float64"
            ]
          },
          "metadata": {},
          "execution_count": 141
        }
      ]
    },
    {
      "cell_type": "code",
      "source": [
        "# Converting y_pred to a dataframe which is an array\n",
        "y_pred_1 = pd.DataFrame(y_test_pred)\n",
        "y_pred_1.head()"
      ],
      "metadata": {
        "id": "WWASNyxxoZOY",
        "outputId": "16c4459b-46a5-41f2-e618-3ff967097775",
        "colab": {
          "base_uri": "https://localhost:8080/",
          "height": 206
        }
      },
      "execution_count": 142,
      "outputs": [
        {
          "output_type": "execute_result",
          "data": {
            "text/plain": [
              "             0\n",
              "4269  0.758535\n",
              "2376  0.998818\n",
              "7766  0.750671\n",
              "9199  0.130723\n",
              "4359  0.995836"
            ],
            "text/html": [
              "\n",
              "  <div id=\"df-1d0853a5-7f08-4dc6-8588-adc29c4aeb04\">\n",
              "    <div class=\"colab-df-container\">\n",
              "      <div>\n",
              "<style scoped>\n",
              "    .dataframe tbody tr th:only-of-type {\n",
              "        vertical-align: middle;\n",
              "    }\n",
              "\n",
              "    .dataframe tbody tr th {\n",
              "        vertical-align: top;\n",
              "    }\n",
              "\n",
              "    .dataframe thead th {\n",
              "        text-align: right;\n",
              "    }\n",
              "</style>\n",
              "<table border=\"1\" class=\"dataframe\">\n",
              "  <thead>\n",
              "    <tr style=\"text-align: right;\">\n",
              "      <th></th>\n",
              "      <th>0</th>\n",
              "    </tr>\n",
              "  </thead>\n",
              "  <tbody>\n",
              "    <tr>\n",
              "      <th>4269</th>\n",
              "      <td>0.758535</td>\n",
              "    </tr>\n",
              "    <tr>\n",
              "      <th>2376</th>\n",
              "      <td>0.998818</td>\n",
              "    </tr>\n",
              "    <tr>\n",
              "      <th>7766</th>\n",
              "      <td>0.750671</td>\n",
              "    </tr>\n",
              "    <tr>\n",
              "      <th>9199</th>\n",
              "      <td>0.130723</td>\n",
              "    </tr>\n",
              "    <tr>\n",
              "      <th>4359</th>\n",
              "      <td>0.995836</td>\n",
              "    </tr>\n",
              "  </tbody>\n",
              "</table>\n",
              "</div>\n",
              "      <button class=\"colab-df-convert\" onclick=\"convertToInteractive('df-1d0853a5-7f08-4dc6-8588-adc29c4aeb04')\"\n",
              "              title=\"Convert this dataframe to an interactive table.\"\n",
              "              style=\"display:none;\">\n",
              "        \n",
              "  <svg xmlns=\"http://www.w3.org/2000/svg\" height=\"24px\"viewBox=\"0 0 24 24\"\n",
              "       width=\"24px\">\n",
              "    <path d=\"M0 0h24v24H0V0z\" fill=\"none\"/>\n",
              "    <path d=\"M18.56 5.44l.94 2.06.94-2.06 2.06-.94-2.06-.94-.94-2.06-.94 2.06-2.06.94zm-11 1L8.5 8.5l.94-2.06 2.06-.94-2.06-.94L8.5 2.5l-.94 2.06-2.06.94zm10 10l.94 2.06.94-2.06 2.06-.94-2.06-.94-.94-2.06-.94 2.06-2.06.94z\"/><path d=\"M17.41 7.96l-1.37-1.37c-.4-.4-.92-.59-1.43-.59-.52 0-1.04.2-1.43.59L10.3 9.45l-7.72 7.72c-.78.78-.78 2.05 0 2.83L4 21.41c.39.39.9.59 1.41.59.51 0 1.02-.2 1.41-.59l7.78-7.78 2.81-2.81c.8-.78.8-2.07 0-2.86zM5.41 20L4 18.59l7.72-7.72 1.47 1.35L5.41 20z\"/>\n",
              "  </svg>\n",
              "      </button>\n",
              "      \n",
              "  <style>\n",
              "    .colab-df-container {\n",
              "      display:flex;\n",
              "      flex-wrap:wrap;\n",
              "      gap: 12px;\n",
              "    }\n",
              "\n",
              "    .colab-df-convert {\n",
              "      background-color: #E8F0FE;\n",
              "      border: none;\n",
              "      border-radius: 50%;\n",
              "      cursor: pointer;\n",
              "      display: none;\n",
              "      fill: #1967D2;\n",
              "      height: 32px;\n",
              "      padding: 0 0 0 0;\n",
              "      width: 32px;\n",
              "    }\n",
              "\n",
              "    .colab-df-convert:hover {\n",
              "      background-color: #E2EBFA;\n",
              "      box-shadow: 0px 1px 2px rgba(60, 64, 67, 0.3), 0px 1px 3px 1px rgba(60, 64, 67, 0.15);\n",
              "      fill: #174EA6;\n",
              "    }\n",
              "\n",
              "    [theme=dark] .colab-df-convert {\n",
              "      background-color: #3B4455;\n",
              "      fill: #D2E3FC;\n",
              "    }\n",
              "\n",
              "    [theme=dark] .colab-df-convert:hover {\n",
              "      background-color: #434B5C;\n",
              "      box-shadow: 0px 1px 3px 1px rgba(0, 0, 0, 0.15);\n",
              "      filter: drop-shadow(0px 1px 2px rgba(0, 0, 0, 0.3));\n",
              "      fill: #FFFFFF;\n",
              "    }\n",
              "  </style>\n",
              "\n",
              "      <script>\n",
              "        const buttonEl =\n",
              "          document.querySelector('#df-1d0853a5-7f08-4dc6-8588-adc29c4aeb04 button.colab-df-convert');\n",
              "        buttonEl.style.display =\n",
              "          google.colab.kernel.accessAllowed ? 'block' : 'none';\n",
              "\n",
              "        async function convertToInteractive(key) {\n",
              "          const element = document.querySelector('#df-1d0853a5-7f08-4dc6-8588-adc29c4aeb04');\n",
              "          const dataTable =\n",
              "            await google.colab.kernel.invokeFunction('convertToInteractive',\n",
              "                                                     [key], {});\n",
              "          if (!dataTable) return;\n",
              "\n",
              "          const docLinkHtml = 'Like what you see? Visit the ' +\n",
              "            '<a target=\"_blank\" href=https://colab.research.google.com/notebooks/data_table.ipynb>data table notebook</a>'\n",
              "            + ' to learn more about interactive tables.';\n",
              "          element.innerHTML = '';\n",
              "          dataTable['output_type'] = 'display_data';\n",
              "          await google.colab.output.renderOutput(dataTable, element);\n",
              "          const docLink = document.createElement('div');\n",
              "          docLink.innerHTML = docLinkHtml;\n",
              "          element.appendChild(docLink);\n",
              "        }\n",
              "      </script>\n",
              "    </div>\n",
              "  </div>\n",
              "  "
            ]
          },
          "metadata": {},
          "execution_count": 142
        }
      ]
    },
    {
      "cell_type": "code",
      "source": [
        "# Converting y_test to dataframe\n",
        "y_test_df = pd.DataFrame(y_test)"
      ],
      "metadata": {
        "id": "7LuL8edcoZRg"
      },
      "execution_count": 143,
      "outputs": []
    },
    {
      "cell_type": "code",
      "source": [
        "# Putting Lead Number to index\n",
        "y_test_df['Lead Number'] = y_test_df.index"
      ],
      "metadata": {
        "id": "XtDYy3IHoZUx"
      },
      "execution_count": 144,
      "outputs": []
    },
    {
      "cell_type": "code",
      "source": [
        "# Removing index for both dataframes to append them side by side \n",
        "y_pred_1.reset_index(drop=True, inplace=True)\n",
        "y_test_df.reset_index(drop=True, inplace=True)"
      ],
      "metadata": {
        "id": "FgtPnQHRoZfS"
      },
      "execution_count": 145,
      "outputs": []
    },
    {
      "cell_type": "code",
      "source": [
        "Let's check the overall accuracy.\n",
        "from sklearn import metrics\n",
        "metrics.accuracy_score(y_pred_1.Lead, y_pred_1_predicted)"
      ],
      "metadata": {
        "id": "8I8M8kTGqliX"
      },
      "execution_count": null,
      "outputs": []
    },
    {
      "cell_type": "code",
      "source": [
        ""
      ],
      "metadata": {
        "id": "CgyyCb1wqlnG"
      },
      "execution_count": null,
      "outputs": []
    },
    {
      "cell_type": "code",
      "source": [
        "#Plotting the ROC Curve"
      ],
      "metadata": {
        "id": "BErqHgqfqlrS"
      },
      "execution_count": null,
      "outputs": []
    },
    {
      "cell_type": "code",
      "source": [
        "def draw_roc( actual, probs ):\n",
        "    fpr, tpr, thresholds = metrics.roc_curve( actual, probs,\n",
        "                                              drop_intermediate = False )\n",
        "    auc_score = metrics.roc_auc_score( actual, probs )\n",
        "    plt.figure(figsize=(5, 5))\n",
        "    plt.plot( fpr, tpr, label='ROC curve (area = %0.2f)' % auc_score )\n",
        "    plt.plot([0, 1], [0, 1], 'k--')\n",
        "    plt.xlim([0.0, 1.0])\n",
        "    plt.ylim([0.0, 1.05])\n",
        "    plt.xlabel('False Positive Rate or [1 - True Negative Rate]')\n",
        "    plt.ylabel('True Positive Rate')\n",
        "    plt.title('Receiver operating characteristic example')\n",
        "    plt.legend(loc=\"lower right\")\n",
        "    plt.show()\n",
        "\n",
        "    return None"
      ],
      "metadata": {
        "id": "Zv8Gku0vqlu0"
      },
      "execution_count": 151,
      "outputs": []
    },
    {
      "cell_type": "code",
      "source": [
        "#fpr, tpr, thresholds = metrics.roc_curve( y_train_pred_1.Lead, y_train_pred_1.Conversion_Prob, drop_intermediate = False )"
      ],
      "metadata": {
        "id": "0xN2vM48qlyK"
      },
      "execution_count": null,
      "outputs": []
    },
    {
      "cell_type": "code",
      "source": [
        ""
      ],
      "metadata": {
        "id": "Ql9zof7Gql2F"
      },
      "execution_count": null,
      "outputs": []
    },
    {
      "cell_type": "code",
      "source": [
        "y_train_pred_final = pd.DataFrame({'Lead':y_train.values, 'Conversion_Prob':y_train_pred/100})\n",
        "y_train_pred_final['Lead Number'] = y_train.index\n",
        "y_train_pred_final.head()"
      ],
      "metadata": {
        "id": "VyGmaLe11ZwB"
      },
      "execution_count": null,
      "outputs": []
    },
    {
      "cell_type": "code",
      "source": [
        "y_train_pred_final = pd.DataFrame({'Churn':y_train.values, 'Churn_Prob':y_train_pred})\n",
        "y_train_pred_final['CustID'] = y_train.index\n",
        "y_train_pred_final.head()"
      ],
      "metadata": {
        "id": "dV_pfLJf1Zz8"
      },
      "execution_count": null,
      "outputs": []
    },
    {
      "cell_type": "code",
      "source": [
        ""
      ],
      "metadata": {
        "id": "WGcdusSx1Z3Z"
      },
      "execution_count": null,
      "outputs": []
    },
    {
      "cell_type": "code",
      "source": [
        ""
      ],
      "metadata": {
        "id": "2IAowV2q1Z6f"
      },
      "execution_count": null,
      "outputs": []
    },
    {
      "cell_type": "code",
      "source": [
        ""
      ],
      "metadata": {
        "id": "7gjoXyM11Z92"
      },
      "execution_count": null,
      "outputs": []
    },
    {
      "cell_type": "code",
      "source": [
        ""
      ],
      "metadata": {
        "id": "BIPwrm4gAwAf"
      },
      "execution_count": null,
      "outputs": []
    },
    {
      "cell_type": "code",
      "source": [
        ""
      ],
      "metadata": {
        "id": "f-kTmKyrAwH_"
      },
      "execution_count": null,
      "outputs": []
    },
    {
      "cell_type": "code",
      "source": [
        ""
      ],
      "metadata": {
        "id": "rJaGMM8GGGYk"
      },
      "execution_count": null,
      "outputs": []
    },
    {
      "cell_type": "code",
      "source": [
        ""
      ],
      "metadata": {
        "id": "V2Gnmju-GGfn"
      },
      "execution_count": null,
      "outputs": []
    },
    {
      "cell_type": "code",
      "source": [
        ""
      ],
      "metadata": {
        "id": "eRNUjdaUGGi2"
      },
      "execution_count": null,
      "outputs": []
    },
    {
      "cell_type": "code",
      "source": [
        " \n"
      ],
      "metadata": {
        "id": "g5qI1FjZGGmc"
      },
      "execution_count": null,
      "outputs": []
    },
    {
      "cell_type": "code",
      "source": [
        ""
      ],
      "metadata": {
        "id": "R9UFNG4N3_Tf"
      },
      "execution_count": null,
      "outputs": []
    },
    {
      "cell_type": "code",
      "source": [
        " "
      ],
      "metadata": {
        "id": "iT059IoJ2rhr"
      },
      "execution_count": null,
      "outputs": []
    },
    {
      "cell_type": "code",
      "source": [
        ""
      ],
      "metadata": {
        "id": "vVHT9N1x2rma"
      },
      "execution_count": null,
      "outputs": []
    },
    {
      "cell_type": "code",
      "source": [
        ""
      ],
      "metadata": {
        "id": "7HoT1QSy2rqB"
      },
      "execution_count": null,
      "outputs": []
    },
    {
      "cell_type": "code",
      "source": [
        ""
      ],
      "metadata": {
        "id": "R9VMbmF02rtv"
      },
      "execution_count": null,
      "outputs": []
    }
  ]
}